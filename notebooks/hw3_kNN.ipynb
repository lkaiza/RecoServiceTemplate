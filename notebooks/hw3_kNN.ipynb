{
 "cells": [
  {
   "cell_type": "code",
   "execution_count": 156,
   "id": "85d9fce7-0f2c-454d-93e7-aabfa91a88b8",
   "metadata": {},
   "outputs": [],
   "source": [
    "from copy import deepcopy\n",
    "import dill\n",
    "import pandas as pd\n",
    "import numpy as np\n",
    "\n",
    "import requests\n",
    "from tqdm.auto import tqdm\n",
    "from typing import Dict\n",
    "import time\n",
    "\n",
    "from userknn import UserKnn\n",
    "\n",
    "from rectools import Columns\n",
    "from rectools.models import RandomModel, PopularModel\n",
    "from implicit.nearest_neighbours import BM25Recommender, CosineRecommender, TFIDFRecommender, ItemItemRecommender\n",
    "from rectools.dataset import Interactions, Dataset\n",
    "from rectools.model_selection import TimeRangeSplitter\n",
    "from rectools.metrics import (\n",
    "    Precision,\n",
    "    Recall,\n",
    "    MRR,\n",
    "    MAP,\n",
    "    Serendipity,\n",
    "    MeanInvUserFreq,\n",
    "    calc_metrics,\n",
    ")\n"
   ]
  },
  {
   "cell_type": "code",
   "execution_count": 157,
   "id": "10ee0a55-97e4-48ec-9fae-ec9f5bfea2d3",
   "metadata": {},
   "outputs": [],
   "source": [
    "K_RECOS = 10\n",
    "DATA_PATH = 'data/kion_train'"
   ]
  },
  {
   "cell_type": "markdown",
   "id": "31df4d8a-68f2-4a37-bdf2-4fc0e798fe6c",
   "metadata": {},
   "source": [
    "# Data"
   ]
  },
  {
   "cell_type": "code",
   "execution_count": 159,
   "id": "f6c26748-0248-4432-bafb-27c1f37763eb",
   "metadata": {},
   "outputs": [],
   "source": [
    "interactions = pd.read_csv(f'{data_path}/interactions.csv', parse_dates=[\"last_watch_dt\"])\n",
    "\n",
    "interactions.rename(\n",
    "    columns={\n",
    "        'last_watch_dt': Columns.Datetime,\n",
    "        'total_dur': Columns.Weight\n",
    "    }, \n",
    "    inplace=True) \n",
    "\n",
    "users = pd.read_csv(f'{data_path}/users.csv')\n",
    "items = pd.read_csv(f'{data_path}/items.csv')"
   ]
  },
  {
   "cell_type": "markdown",
   "id": "7743e3be-e7c0-4ec4-bc68-8db43a881b1c",
   "metadata": {},
   "source": [
    "# Utils"
   ]
  },
  {
   "cell_type": "code",
   "execution_count": 160,
   "id": "9eef103a-6b29-4641-b61d-983766a741a9",
   "metadata": {},
   "outputs": [],
   "source": [
    "def train_models(interactions, models, metrics, k, cv):\n",
    "    \"\"\"\n",
    "    Calculate metrics based on cross-validation\n",
    "    \n",
    "    Parameters\n",
    "    -----------\n",
    "    interactions: pd.DataFrame with User-Item interactions\n",
    "    models: dict with initialized models\n",
    "    metrics: dict with initialized metrics\n",
    "    k: number of recommendations to generate\n",
    "    cv: initialized Splitter for cross validation\n",
    "    \"\"\"\n",
    "    results = []\n",
    "    fold_iterator = cv.split(Interactions(interactions), collect_fold_stats=True)\n",
    "\n",
    "    for train_ids, test_ids, fold_info in tqdm((fold_iterator), total=cv.n_splits):\n",
    "        print(f\"\\n==================== Fold {fold_info['i_split']}\")\n",
    "        print(fold_info)\n",
    "\n",
    "        # 1. Create Dataset\n",
    "        df_train = interactions.iloc[train_ids]\n",
    "        dataset = Dataset.construct(df_train)\n",
    "\n",
    "        df_test = interactions.iloc[test_ids][Columns.UserItem]\n",
    "        test_users = np.unique(df_test[Columns.User])\n",
    "\n",
    "        catalog = df_train[Columns.Item].unique()\n",
    "\n",
    "        for model_name, model in models.items():\n",
    "            # 2-3. Fit model and log the training time\n",
    "            start_time = time.time()\n",
    "            model.fit(df_train)\n",
    "            end_time = time.time()\n",
    "            recos = model.predict(df_test, k)\n",
    "            # 4. Calculate and save metrics\n",
    "            metric_values = calc_metrics(\n",
    "                metrics,\n",
    "                reco=recos,\n",
    "                interactions=df_test,\n",
    "                prev_interactions=df_train,\n",
    "                catalog=catalog,\n",
    "            )\n",
    "            models[model_name] = deepcopy(model)\n",
    "            res = {\"fold\": fold_info[\"i_split\"], \"model\": model_name, \"time\": end_time - start_time}\n",
    "            res.update(metric_values)\n",
    "            results.append(res)\n",
    "            \n",
    "    return pd.DataFrame(results), models"
   ]
  },
  {
   "cell_type": "code",
   "execution_count": 161,
   "id": "9bef09c3-30c3-46da-b95f-36df2146e1d1",
   "metadata": {},
   "outputs": [],
   "source": [
    "def visualize(model, dataset, user_ids, item_data, k):\n",
    "    \"\"\"\n",
    "    Visual analysis of recommendations\n",
    "    \n",
    "    Parameters\n",
    "    -----------\n",
    "    model: fitted model\n",
    "    metrics: rectools Dataset\n",
    "    user_ids: list of selected user_ids to view\n",
    "    item_data: information about items that is important to reflect for visual analysis (e.g. name)\n",
    "    k: number of recommendations to generate\n",
    "    \"\"\"\n",
    "    cols_ext = [Columns.User, Columns.Item, 'is_watched']\n",
    "    cols = cols_ext[:-1]\n",
    "    \n",
    "    # 1. Get recos\n",
    "    recos = model.recommend(\n",
    "                users=user_ids,\n",
    "                dataset=dataset,\n",
    "                k=k,\n",
    "                filter_viewed=True,\n",
    "    )\n",
    "    recos['is_watched'] = False\n",
    "    \n",
    "    # 2. Get watched items\n",
    "    watched = dataset.interactions.df\n",
    "    watched = watched.loc[watched[Columns.User].isin(user_ids), cols]\n",
    "    watched['is_watched'] = True\n",
    "    \n",
    "    # 3. Merge items from previous steps and add item's features\n",
    "    un = pd.concat([recos[cols_ext], watched[cols_ext]], axis=0)\n",
    "    \n",
    "    cnt = dataset.interactions.df[cols].groupby([Columns.Item]).count()\n",
    "    cnt.reset_index(inplace=True)\n",
    "    cnt.columns = [Columns.Item, 'views_count']\n",
    "    \n",
    "    res = un.merge(item_data, how='left', on=Columns.Item,) \\\n",
    "            .merge(cnt, on=Columns.Item,) \\\n",
    "            .sort_values([Columns.User, 'is_watched', 'views_count'], ascending=False)\n",
    "    return res"
   ]
  },
  {
   "cell_type": "markdown",
   "id": "ba792d78-54a1-4425-a9a3-0f25bd68d693",
   "metadata": {},
   "source": [
    "# Implicit recommenders"
   ]
  },
  {
   "cell_type": "code",
   "execution_count": 164,
   "id": "8a5bc695-8e6e-4a11-9049-1ddbcbbe16c6",
   "metadata": {},
   "outputs": [],
   "source": [
    "dataset = Dataset.construct(\n",
    "    interactions_df=interactions,\n",
    "    user_features_df=None,\n",
    "    item_features_df=None\n",
    ")\n",
    "\n",
    "n_splits = 3\n",
    "\n",
    "cv = TimeRangeSplitter(\n",
    "    test_size=\"7D\",\n",
    "    n_splits=n_splits,\n",
    "    filter_already_seen=True,\n",
    "    filter_cold_items=True,\n",
    "    filter_cold_users=True,\n",
    ")\n",
    "\n",
    "# We will calculate several classic metrics\n",
    "metrics = {\n",
    "    'map@10': MAP(k=10),\n",
    "    'novelty': MeanInvUserFreq(k=10),\n",
    "}"
   ]
  },
  {
   "cell_type": "code",
   "execution_count": 66,
   "id": "f68e3a27-920f-40f2-a5cb-9e9e86315714",
   "metadata": {
    "scrolled": true
   },
   "outputs": [
    {
     "data": {
      "application/vnd.jupyter.widget-view+json": {
       "model_id": "cd42853ad866472bb2cacf6526ffe404",
       "version_major": 2,
       "version_minor": 0
      },
      "text/plain": [
       "  0%|          | 0/3 [00:00<?, ?it/s]"
      ]
     },
     "metadata": {},
     "output_type": "display_data"
    },
    {
     "name": "stdout",
     "output_type": "stream",
     "text": [
      "\n",
      "==================== Fold 0\n",
      "{'i_split': 0, 'start': Timestamp('2021-08-02 00:00:00', freq='7D'), 'end': Timestamp('2021-08-09 00:00:00', freq='7D'), 'train': 4266013, 'train_users': 797423, 'train_items': 15237, 'test': 263681, 'test_users': 98184, 'test_items': 6602}\n"
     ]
    },
    {
     "name": "stderr",
     "output_type": "stream",
     "text": [
      "/Users/elizaveta/opt/anaconda3/lib/python3.8/site-packages/implicit/utils.py:164: ParameterWarning: Method expects CSR input, and was passed coo_matrix instead. Converting to CSR took 0.3459160327911377 seconds\n",
      "  warnings.warn(\n"
     ]
    },
    {
     "data": {
      "application/vnd.jupyter.widget-view+json": {
       "model_id": "4b949bd7ae344957bdc7185d9c3984b3",
       "version_major": 2,
       "version_minor": 0
      },
      "text/plain": [
       "  0%|          | 0/797423 [00:00<?, ?it/s]"
      ]
     },
     "metadata": {},
     "output_type": "display_data"
    },
    {
     "name": "stderr",
     "output_type": "stream",
     "text": [
      "/Users/elizaveta/opt/anaconda3/lib/python3.8/site-packages/implicit/utils.py:164: ParameterWarning: Method expects CSR input, and was passed coo_matrix instead. Converting to CSR took 0.329132080078125 seconds\n",
      "  warnings.warn(\n"
     ]
    },
    {
     "data": {
      "application/vnd.jupyter.widget-view+json": {
       "model_id": "1c171bbbb80b41f493be25ea872a3a9b",
       "version_major": 2,
       "version_minor": 0
      },
      "text/plain": [
       "  0%|          | 0/797423 [00:00<?, ?it/s]"
      ]
     },
     "metadata": {},
     "output_type": "display_data"
    },
    {
     "name": "stderr",
     "output_type": "stream",
     "text": [
      "/Users/elizaveta/opt/anaconda3/lib/python3.8/site-packages/implicit/utils.py:164: ParameterWarning: Method expects CSR input, and was passed coo_matrix instead. Converting to CSR took 0.3190488815307617 seconds\n",
      "  warnings.warn(\n"
     ]
    },
    {
     "data": {
      "application/vnd.jupyter.widget-view+json": {
       "model_id": "0fe99faf6fcb4bcf98046300cb4ab90f",
       "version_major": 2,
       "version_minor": 0
      },
      "text/plain": [
       "  0%|          | 0/797423 [00:00<?, ?it/s]"
      ]
     },
     "metadata": {},
     "output_type": "display_data"
    },
    {
     "name": "stderr",
     "output_type": "stream",
     "text": [
      "/Users/elizaveta/opt/anaconda3/lib/python3.8/site-packages/implicit/utils.py:164: ParameterWarning: Method expects CSR input, and was passed coo_matrix instead. Converting to CSR took 0.3201611042022705 seconds\n",
      "  warnings.warn(\n"
     ]
    },
    {
     "data": {
      "application/vnd.jupyter.widget-view+json": {
       "model_id": "a2b02ab639ea4881bdb29b2ddc6edced",
       "version_major": 2,
       "version_minor": 0
      },
      "text/plain": [
       "  0%|          | 0/797423 [00:00<?, ?it/s]"
      ]
     },
     "metadata": {},
     "output_type": "display_data"
    },
    {
     "name": "stdout",
     "output_type": "stream",
     "text": [
      "\n",
      "==================== Fold 1\n",
      "{'i_split': 1, 'start': Timestamp('2021-08-09 00:00:00', freq='7D'), 'end': Timestamp('2021-08-16 00:00:00', freq='7D'), 'train': 4649162, 'train_users': 850489, 'train_items': 15415, 'test': 279422, 'test_users': 103511, 'test_items': 6698}\n"
     ]
    },
    {
     "name": "stderr",
     "output_type": "stream",
     "text": [
      "/Users/elizaveta/opt/anaconda3/lib/python3.8/site-packages/implicit/utils.py:164: ParameterWarning: Method expects CSR input, and was passed coo_matrix instead. Converting to CSR took 0.3567197322845459 seconds\n",
      "  warnings.warn(\n"
     ]
    },
    {
     "data": {
      "application/vnd.jupyter.widget-view+json": {
       "model_id": "8fc0a93d0d3c416dab645b0cacea716d",
       "version_major": 2,
       "version_minor": 0
      },
      "text/plain": [
       "  0%|          | 0/850489 [00:00<?, ?it/s]"
      ]
     },
     "metadata": {},
     "output_type": "display_data"
    },
    {
     "name": "stderr",
     "output_type": "stream",
     "text": [
      "/Users/elizaveta/opt/anaconda3/lib/python3.8/site-packages/implicit/utils.py:164: ParameterWarning: Method expects CSR input, and was passed coo_matrix instead. Converting to CSR took 0.3573789596557617 seconds\n",
      "  warnings.warn(\n"
     ]
    },
    {
     "data": {
      "application/vnd.jupyter.widget-view+json": {
       "model_id": "157c5b0ded9d4ceea9d3a24583cd9252",
       "version_major": 2,
       "version_minor": 0
      },
      "text/plain": [
       "  0%|          | 0/850489 [00:00<?, ?it/s]"
      ]
     },
     "metadata": {},
     "output_type": "display_data"
    },
    {
     "name": "stderr",
     "output_type": "stream",
     "text": [
      "/Users/elizaveta/opt/anaconda3/lib/python3.8/site-packages/implicit/utils.py:164: ParameterWarning: Method expects CSR input, and was passed coo_matrix instead. Converting to CSR took 0.35158514976501465 seconds\n",
      "  warnings.warn(\n"
     ]
    },
    {
     "data": {
      "application/vnd.jupyter.widget-view+json": {
       "model_id": "3f71b8d506b0443d8b0449f4600d4af3",
       "version_major": 2,
       "version_minor": 0
      },
      "text/plain": [
       "  0%|          | 0/850489 [00:00<?, ?it/s]"
      ]
     },
     "metadata": {},
     "output_type": "display_data"
    },
    {
     "name": "stderr",
     "output_type": "stream",
     "text": [
      "/Users/elizaveta/opt/anaconda3/lib/python3.8/site-packages/implicit/utils.py:164: ParameterWarning: Method expects CSR input, and was passed coo_matrix instead. Converting to CSR took 0.37006592750549316 seconds\n",
      "  warnings.warn(\n"
     ]
    },
    {
     "data": {
      "application/vnd.jupyter.widget-view+json": {
       "model_id": "28d837e686ac4a37ba59b3f103855c32",
       "version_major": 2,
       "version_minor": 0
      },
      "text/plain": [
       "  0%|          | 0/850489 [00:00<?, ?it/s]"
      ]
     },
     "metadata": {},
     "output_type": "display_data"
    },
    {
     "name": "stdout",
     "output_type": "stream",
     "text": [
      "\n",
      "==================== Fold 2\n",
      "{'i_split': 2, 'start': Timestamp('2021-08-16 00:00:00', freq='7D'), 'end': Timestamp('2021-08-23 00:00:00', freq='7D'), 'train': 5051815, 'train_users': 906071, 'train_items': 15577, 'test': 298878, 'test_users': 110076, 'test_items': 6679}\n"
     ]
    },
    {
     "name": "stderr",
     "output_type": "stream",
     "text": [
      "/Users/elizaveta/opt/anaconda3/lib/python3.8/site-packages/implicit/utils.py:164: ParameterWarning: Method expects CSR input, and was passed coo_matrix instead. Converting to CSR took 0.3950510025024414 seconds\n",
      "  warnings.warn(\n"
     ]
    },
    {
     "data": {
      "application/vnd.jupyter.widget-view+json": {
       "model_id": "12486ec5bdbc41e8b24b7dc6cc0f20f8",
       "version_major": 2,
       "version_minor": 0
      },
      "text/plain": [
       "  0%|          | 0/906071 [00:00<?, ?it/s]"
      ]
     },
     "metadata": {},
     "output_type": "display_data"
    },
    {
     "name": "stderr",
     "output_type": "stream",
     "text": [
      "/Users/elizaveta/opt/anaconda3/lib/python3.8/site-packages/implicit/utils.py:164: ParameterWarning: Method expects CSR input, and was passed coo_matrix instead. Converting to CSR took 0.39075589179992676 seconds\n",
      "  warnings.warn(\n"
     ]
    },
    {
     "data": {
      "application/vnd.jupyter.widget-view+json": {
       "model_id": "0642b87f3c3b4d94af9b1a418624a6de",
       "version_major": 2,
       "version_minor": 0
      },
      "text/plain": [
       "  0%|          | 0/906071 [00:00<?, ?it/s]"
      ]
     },
     "metadata": {},
     "output_type": "display_data"
    },
    {
     "name": "stderr",
     "output_type": "stream",
     "text": [
      "/Users/elizaveta/opt/anaconda3/lib/python3.8/site-packages/implicit/utils.py:164: ParameterWarning: Method expects CSR input, and was passed coo_matrix instead. Converting to CSR took 0.40204286575317383 seconds\n",
      "  warnings.warn(\n"
     ]
    },
    {
     "data": {
      "application/vnd.jupyter.widget-view+json": {
       "model_id": "642fbd2869f84e1697e963303aeab70a",
       "version_major": 2,
       "version_minor": 0
      },
      "text/plain": [
       "  0%|          | 0/906071 [00:00<?, ?it/s]"
      ]
     },
     "metadata": {},
     "output_type": "display_data"
    },
    {
     "name": "stderr",
     "output_type": "stream",
     "text": [
      "/Users/elizaveta/opt/anaconda3/lib/python3.8/site-packages/implicit/utils.py:164: ParameterWarning: Method expects CSR input, and was passed coo_matrix instead. Converting to CSR took 0.41303586959838867 seconds\n",
      "  warnings.warn(\n"
     ]
    },
    {
     "data": {
      "application/vnd.jupyter.widget-view+json": {
       "model_id": "1f6de432712d4ff083398b0b2145ebfc",
       "version_major": 2,
       "version_minor": 0
      },
      "text/plain": [
       "  0%|          | 0/906071 [00:00<?, ?it/s]"
      ]
     },
     "metadata": {},
     "output_type": "display_data"
    }
   ],
   "source": [
    "models_1 = {\n",
    "    'userknn_cosine_10': UserKnn(CosineRecommender(num_threads=4), N_users=10), \n",
    "    'userknn_cosine_50': UserKnn(CosineRecommender(num_threads=4), N_users=50),\n",
    "    'userknn_tfidf_10': UserKnn(TFIDFRecommender(num_threads=4), N_users=10),\n",
    "    'userknn_tfidf_50': UserKnn(TFIDFRecommender(num_threads=4), N_users=50),\n",
    "}\n",
    "\n",
    "res_1, models_1 = train_models(interactions, models_1, metrics, K_RECOS, cv)"
   ]
  },
  {
   "cell_type": "code",
   "execution_count": 67,
   "id": "dd8b8875-a9fb-4468-9cc6-57720520e18e",
   "metadata": {},
   "outputs": [
    {
     "data": {
      "text/html": [
       "<style type=\"text/css\">\n",
       "#T_a5372_row0_col0, #T_a5372_row3_col2, #T_a5372_row3_col4 {\n",
       "  background-color: lightgreen;\n",
       "}\n",
       "#T_a5372_row0_col4, #T_a5372_row1_col2, #T_a5372_row2_col0 {\n",
       "  background-color: lightcoral;\n",
       "}\n",
       "</style>\n",
       "<table id=\"T_a5372\">\n",
       "  <thead>\n",
       "    <tr>\n",
       "      <th class=\"blank level0\" >&nbsp;</th>\n",
       "      <th id=\"T_a5372_level0_col0\" class=\"col_heading level0 col0\" colspan=\"2\">time</th>\n",
       "      <th id=\"T_a5372_level0_col2\" class=\"col_heading level0 col2\" colspan=\"2\">map@10</th>\n",
       "      <th id=\"T_a5372_level0_col4\" class=\"col_heading level0 col4\" colspan=\"2\">novelty</th>\n",
       "    </tr>\n",
       "    <tr>\n",
       "      <th class=\"blank level1\" >&nbsp;</th>\n",
       "      <th id=\"T_a5372_level1_col0\" class=\"col_heading level1 col0\" >mean</th>\n",
       "      <th id=\"T_a5372_level1_col1\" class=\"col_heading level1 col1\" >std</th>\n",
       "      <th id=\"T_a5372_level1_col2\" class=\"col_heading level1 col2\" >mean</th>\n",
       "      <th id=\"T_a5372_level1_col3\" class=\"col_heading level1 col3\" >std</th>\n",
       "      <th id=\"T_a5372_level1_col4\" class=\"col_heading level1 col4\" >mean</th>\n",
       "      <th id=\"T_a5372_level1_col5\" class=\"col_heading level1 col5\" >std</th>\n",
       "    </tr>\n",
       "    <tr>\n",
       "      <th class=\"index_name level0\" >model</th>\n",
       "      <th class=\"blank col0\" >&nbsp;</th>\n",
       "      <th class=\"blank col1\" >&nbsp;</th>\n",
       "      <th class=\"blank col2\" >&nbsp;</th>\n",
       "      <th class=\"blank col3\" >&nbsp;</th>\n",
       "      <th class=\"blank col4\" >&nbsp;</th>\n",
       "      <th class=\"blank col5\" >&nbsp;</th>\n",
       "    </tr>\n",
       "  </thead>\n",
       "  <tbody>\n",
       "    <tr>\n",
       "      <th id=\"T_a5372_level0_row0\" class=\"row_heading level0 row0\" >userknn_cosine_10</th>\n",
       "      <td id=\"T_a5372_row0_col0\" class=\"data row0 col0\" >1157.869836</td>\n",
       "      <td id=\"T_a5372_row0_col1\" class=\"data row0 col1\" >168.133591</td>\n",
       "      <td id=\"T_a5372_row0_col2\" class=\"data row0 col2\" >0.003929</td>\n",
       "      <td id=\"T_a5372_row0_col3\" class=\"data row0 col3\" >0.000294</td>\n",
       "      <td id=\"T_a5372_row0_col4\" class=\"data row0 col4\" >6.975452</td>\n",
       "      <td id=\"T_a5372_row0_col5\" class=\"data row0 col5\" >0.060280</td>\n",
       "    </tr>\n",
       "    <tr>\n",
       "      <th id=\"T_a5372_level0_row1\" class=\"row_heading level0 row1\" >userknn_cosine_50</th>\n",
       "      <td id=\"T_a5372_row1_col0\" class=\"data row1 col0\" >1156.467637</td>\n",
       "      <td id=\"T_a5372_row1_col1\" class=\"data row1 col1\" >167.494650</td>\n",
       "      <td id=\"T_a5372_row1_col2\" class=\"data row1 col2\" >0.003905</td>\n",
       "      <td id=\"T_a5372_row1_col3\" class=\"data row1 col3\" >0.000299</td>\n",
       "      <td id=\"T_a5372_row1_col4\" class=\"data row1 col4\" >7.540823</td>\n",
       "      <td id=\"T_a5372_row1_col5\" class=\"data row1 col5\" >0.069372</td>\n",
       "    </tr>\n",
       "    <tr>\n",
       "      <th id=\"T_a5372_level0_row2\" class=\"row_heading level0 row2\" >userknn_tfidf_10</th>\n",
       "      <td id=\"T_a5372_row2_col0\" class=\"data row2 col0\" >1154.286115</td>\n",
       "      <td id=\"T_a5372_row2_col1\" class=\"data row2 col1\" >174.755831</td>\n",
       "      <td id=\"T_a5372_row2_col2\" class=\"data row2 col2\" >0.005659</td>\n",
       "      <td id=\"T_a5372_row2_col3\" class=\"data row2 col3\" >0.000313</td>\n",
       "      <td id=\"T_a5372_row2_col4\" class=\"data row2 col4\" >7.433630</td>\n",
       "      <td id=\"T_a5372_row2_col5\" class=\"data row2 col5\" >0.062186</td>\n",
       "    </tr>\n",
       "    <tr>\n",
       "      <th id=\"T_a5372_level0_row3\" class=\"row_heading level0 row3\" >userknn_tfidf_50</th>\n",
       "      <td id=\"T_a5372_row3_col0\" class=\"data row3 col0\" >1155.070590</td>\n",
       "      <td id=\"T_a5372_row3_col1\" class=\"data row3 col1\" >184.893021</td>\n",
       "      <td id=\"T_a5372_row3_col2\" class=\"data row3 col2\" >0.006334</td>\n",
       "      <td id=\"T_a5372_row3_col3\" class=\"data row3 col3\" >0.000414</td>\n",
       "      <td id=\"T_a5372_row3_col4\" class=\"data row3 col4\" >7.638598</td>\n",
       "      <td id=\"T_a5372_row3_col5\" class=\"data row3 col5\" >0.068806</td>\n",
       "    </tr>\n",
       "  </tbody>\n",
       "</table>\n"
      ],
      "text/plain": [
       "<pandas.io.formats.style.Styler at 0x7f90f1187370>"
      ]
     },
     "execution_count": 67,
     "metadata": {},
     "output_type": "execute_result"
    }
   ],
   "source": [
    "# Aggregate metrics by folds and compare models\n",
    "pivot_results = res_1.drop(columns=\"fold\").groupby([\"model\"], sort=False).agg([\"mean\", \"std\"])\n",
    "mean_metric_subset = [(metric, agg) for metric, agg in pivot_results.columns if agg == 'mean']\n",
    "(\n",
    "    pivot_results.style\n",
    "    .highlight_min(subset=mean_metric_subset, color='lightcoral', axis=0)\n",
    "    .highlight_max(subset=mean_metric_subset, color='lightgreen', axis=0)\n",
    ")"
   ]
  },
  {
   "cell_type": "code",
   "execution_count": 71,
   "id": "78f251a6-1d6c-4c28-8260-b860ee301d89",
   "metadata": {
    "scrolled": true
   },
   "outputs": [
    {
     "data": {
      "application/vnd.jupyter.widget-view+json": {
       "model_id": "96053ce19d744f0e857ab2d7141d416a",
       "version_major": 2,
       "version_minor": 0
      },
      "text/plain": [
       "  0%|          | 0/3 [00:00<?, ?it/s]"
      ]
     },
     "metadata": {},
     "output_type": "display_data"
    },
    {
     "name": "stdout",
     "output_type": "stream",
     "text": [
      "\n",
      "==================== Fold 0\n",
      "{'i_split': 0, 'start': Timestamp('2021-08-02 00:00:00', freq='7D'), 'end': Timestamp('2021-08-09 00:00:00', freq='7D'), 'train': 4266013, 'train_users': 797423, 'train_items': 15237, 'test': 263681, 'test_users': 98184, 'test_items': 6602}\n"
     ]
    },
    {
     "name": "stderr",
     "output_type": "stream",
     "text": [
      "/Users/elizaveta/opt/anaconda3/lib/python3.8/site-packages/implicit/utils.py:164: ParameterWarning: Method expects CSR input, and was passed coo_matrix instead. Converting to CSR took 0.396359920501709 seconds\n",
      "  warnings.warn(\n"
     ]
    },
    {
     "data": {
      "application/vnd.jupyter.widget-view+json": {
       "model_id": "b3c77fbee7b34b398c2901cc52de01e0",
       "version_major": 2,
       "version_minor": 0
      },
      "text/plain": [
       "  0%|          | 0/797423 [00:00<?, ?it/s]"
      ]
     },
     "metadata": {},
     "output_type": "display_data"
    },
    {
     "name": "stderr",
     "output_type": "stream",
     "text": [
      "/Users/elizaveta/opt/anaconda3/lib/python3.8/site-packages/implicit/utils.py:164: ParameterWarning: Method expects CSR input, and was passed coo_matrix instead. Converting to CSR took 0.3260531425476074 seconds\n",
      "  warnings.warn(\n"
     ]
    },
    {
     "data": {
      "application/vnd.jupyter.widget-view+json": {
       "model_id": "93629f19db4048ce9bb17000b33083db",
       "version_major": 2,
       "version_minor": 0
      },
      "text/plain": [
       "  0%|          | 0/797423 [00:00<?, ?it/s]"
      ]
     },
     "metadata": {},
     "output_type": "display_data"
    },
    {
     "name": "stdout",
     "output_type": "stream",
     "text": [
      "\n",
      "==================== Fold 1\n",
      "{'i_split': 1, 'start': Timestamp('2021-08-09 00:00:00', freq='7D'), 'end': Timestamp('2021-08-16 00:00:00', freq='7D'), 'train': 4649162, 'train_users': 850489, 'train_items': 15415, 'test': 279422, 'test_users': 103511, 'test_items': 6698}\n"
     ]
    },
    {
     "name": "stderr",
     "output_type": "stream",
     "text": [
      "/Users/elizaveta/opt/anaconda3/lib/python3.8/site-packages/implicit/utils.py:164: ParameterWarning: Method expects CSR input, and was passed coo_matrix instead. Converting to CSR took 0.5583961009979248 seconds\n",
      "  warnings.warn(\n"
     ]
    },
    {
     "data": {
      "application/vnd.jupyter.widget-view+json": {
       "model_id": "f178a8b024dc40f29ffdddffe4aee551",
       "version_major": 2,
       "version_minor": 0
      },
      "text/plain": [
       "  0%|          | 0/850489 [00:00<?, ?it/s]"
      ]
     },
     "metadata": {},
     "output_type": "display_data"
    },
    {
     "name": "stderr",
     "output_type": "stream",
     "text": [
      "/Users/elizaveta/opt/anaconda3/lib/python3.8/site-packages/implicit/utils.py:164: ParameterWarning: Method expects CSR input, and was passed coo_matrix instead. Converting to CSR took 0.36037206649780273 seconds\n",
      "  warnings.warn(\n"
     ]
    },
    {
     "data": {
      "application/vnd.jupyter.widget-view+json": {
       "model_id": "45a6c4438d5145e28b519408b8b939f6",
       "version_major": 2,
       "version_minor": 0
      },
      "text/plain": [
       "  0%|          | 0/850489 [00:00<?, ?it/s]"
      ]
     },
     "metadata": {},
     "output_type": "display_data"
    },
    {
     "name": "stdout",
     "output_type": "stream",
     "text": [
      "\n",
      "==================== Fold 2\n",
      "{'i_split': 2, 'start': Timestamp('2021-08-16 00:00:00', freq='7D'), 'end': Timestamp('2021-08-23 00:00:00', freq='7D'), 'train': 5051815, 'train_users': 906071, 'train_items': 15577, 'test': 298878, 'test_users': 110076, 'test_items': 6679}\n"
     ]
    },
    {
     "name": "stderr",
     "output_type": "stream",
     "text": [
      "/Users/elizaveta/opt/anaconda3/lib/python3.8/site-packages/implicit/utils.py:164: ParameterWarning: Method expects CSR input, and was passed coo_matrix instead. Converting to CSR took 0.4562499523162842 seconds\n",
      "  warnings.warn(\n"
     ]
    },
    {
     "data": {
      "application/vnd.jupyter.widget-view+json": {
       "model_id": "5505dc2c00df43c88db2e4bbb256fd84",
       "version_major": 2,
       "version_minor": 0
      },
      "text/plain": [
       "  0%|          | 0/906071 [00:00<?, ?it/s]"
      ]
     },
     "metadata": {},
     "output_type": "display_data"
    },
    {
     "name": "stderr",
     "output_type": "stream",
     "text": [
      "/Users/elizaveta/opt/anaconda3/lib/python3.8/site-packages/implicit/utils.py:164: ParameterWarning: Method expects CSR input, and was passed coo_matrix instead. Converting to CSR took 0.46732115745544434 seconds\n",
      "  warnings.warn(\n"
     ]
    },
    {
     "data": {
      "application/vnd.jupyter.widget-view+json": {
       "model_id": "01bc3b7b85f64b4b812944d2fe592f90",
       "version_major": 2,
       "version_minor": 0
      },
      "text/plain": [
       "  0%|          | 0/906071 [00:00<?, ?it/s]"
      ]
     },
     "metadata": {},
     "output_type": "display_data"
    }
   ],
   "source": [
    "models_2 = {\n",
    "    'userknn_bm25_25': UserKnn(BM25Recommender(num_threads=2), N_users=25),\n",
    "    'userknn_bm25_50': UserKnn(BM25Recommender(num_threads=2), N_users=50)\n",
    "}\n",
    "\n",
    "res_2, models_2 = train_models(interactions, models_2, metrics, K_RECOS, cv)"
   ]
  },
  {
   "cell_type": "code",
   "execution_count": 73,
   "id": "5cec8dcb-f409-4676-b340-39accd84bd41",
   "metadata": {},
   "outputs": [
    {
     "data": {
      "text/html": [
       "<style type=\"text/css\">\n",
       "#T_90aba_row0_col0 {\n",
       "  background-color: lightgreen;\n",
       "}\n",
       "#T_90aba_row0_col2, #T_90aba_row0_col4, #T_90aba_row1_col2, #T_90aba_row1_col4 {\n",
       "  background-color: lightcoral;\n",
       "  background-color: lightgreen;\n",
       "}\n",
       "#T_90aba_row1_col0 {\n",
       "  background-color: lightcoral;\n",
       "}\n",
       "</style>\n",
       "<table id=\"T_90aba\">\n",
       "  <thead>\n",
       "    <tr>\n",
       "      <th class=\"blank level0\" >&nbsp;</th>\n",
       "      <th id=\"T_90aba_level0_col0\" class=\"col_heading level0 col0\" colspan=\"2\">time</th>\n",
       "      <th id=\"T_90aba_level0_col2\" class=\"col_heading level0 col2\" colspan=\"2\">map@10</th>\n",
       "      <th id=\"T_90aba_level0_col4\" class=\"col_heading level0 col4\" colspan=\"2\">novelty</th>\n",
       "    </tr>\n",
       "    <tr>\n",
       "      <th class=\"blank level1\" >&nbsp;</th>\n",
       "      <th id=\"T_90aba_level1_col0\" class=\"col_heading level1 col0\" >mean</th>\n",
       "      <th id=\"T_90aba_level1_col1\" class=\"col_heading level1 col1\" >std</th>\n",
       "      <th id=\"T_90aba_level1_col2\" class=\"col_heading level1 col2\" >mean</th>\n",
       "      <th id=\"T_90aba_level1_col3\" class=\"col_heading level1 col3\" >std</th>\n",
       "      <th id=\"T_90aba_level1_col4\" class=\"col_heading level1 col4\" >mean</th>\n",
       "      <th id=\"T_90aba_level1_col5\" class=\"col_heading level1 col5\" >std</th>\n",
       "    </tr>\n",
       "    <tr>\n",
       "      <th class=\"index_name level0\" >model</th>\n",
       "      <th class=\"blank col0\" >&nbsp;</th>\n",
       "      <th class=\"blank col1\" >&nbsp;</th>\n",
       "      <th class=\"blank col2\" >&nbsp;</th>\n",
       "      <th class=\"blank col3\" >&nbsp;</th>\n",
       "      <th class=\"blank col4\" >&nbsp;</th>\n",
       "      <th class=\"blank col5\" >&nbsp;</th>\n",
       "    </tr>\n",
       "  </thead>\n",
       "  <tbody>\n",
       "    <tr>\n",
       "      <th id=\"T_90aba_level0_row0\" class=\"row_heading level0 row0\" >userknn_bm25_25</th>\n",
       "      <td id=\"T_90aba_row0_col0\" class=\"data row0 col0\" >1176.985729</td>\n",
       "      <td id=\"T_90aba_row0_col1\" class=\"data row0 col1\" >200.088945</td>\n",
       "      <td id=\"T_90aba_row0_col2\" class=\"data row0 col2\" >0.002699</td>\n",
       "      <td id=\"T_90aba_row0_col3\" class=\"data row0 col3\" >0.000077</td>\n",
       "      <td id=\"T_90aba_row0_col4\" class=\"data row0 col4\" >9.283169</td>\n",
       "      <td id=\"T_90aba_row0_col5\" class=\"data row0 col5\" >0.082654</td>\n",
       "    </tr>\n",
       "    <tr>\n",
       "      <th id=\"T_90aba_level0_row1\" class=\"row_heading level0 row1\" >userknn_bm25_50</th>\n",
       "      <td id=\"T_90aba_row1_col0\" class=\"data row1 col0\" >1166.071831</td>\n",
       "      <td id=\"T_90aba_row1_col1\" class=\"data row1 col1\" >184.654958</td>\n",
       "      <td id=\"T_90aba_row1_col2\" class=\"data row1 col2\" >0.002699</td>\n",
       "      <td id=\"T_90aba_row1_col3\" class=\"data row1 col3\" >0.000077</td>\n",
       "      <td id=\"T_90aba_row1_col4\" class=\"data row1 col4\" >9.283169</td>\n",
       "      <td id=\"T_90aba_row1_col5\" class=\"data row1 col5\" >0.082654</td>\n",
       "    </tr>\n",
       "  </tbody>\n",
       "</table>\n"
      ],
      "text/plain": [
       "<pandas.io.formats.style.Styler at 0x7f92af857250>"
      ]
     },
     "execution_count": 73,
     "metadata": {},
     "output_type": "execute_result"
    }
   ],
   "source": [
    "# Aggregate metrics by folds and compare models\n",
    "pivot_results = res_2.drop(columns=\"fold\").groupby([\"model\"], sort=False).agg([\"mean\", \"std\"])\n",
    "mean_metric_subset = [(metric, agg) for metric, agg in pivot_results.columns if agg == 'mean']\n",
    "(\n",
    "    pivot_results.style\n",
    "    .highlight_min(subset=mean_metric_subset, color='lightcoral', axis=0)\n",
    "    .highlight_max(subset=mean_metric_subset, color='lightgreen', axis=0)\n",
    ")"
   ]
  },
  {
   "cell_type": "markdown",
   "id": "d35fbe6c-fc50-4fd0-aa8f-57059adad77b",
   "metadata": {},
   "source": [
    "# Modified UserKnn from seminar"
   ]
  },
  {
   "cell_type": "code",
   "execution_count": 166,
   "id": "c0efe67c-93c1-4b01-bba7-ae0bc3ce98e5",
   "metadata": {},
   "outputs": [],
   "source": [
    "class UserKnnModified(UserKnn):\n",
    "\n",
    "    treshold_model = None\n",
    "    \n",
    "    def _generate_recs_mapper(self, model: ItemItemRecommender, user_mapping: Dict[int, int], \n",
    "                              user_inv_mapping: Dict[int, int], N: int):\n",
    "        def _recs_mapper(user):\n",
    "            users, sim = list(), list()\n",
    "            try:\n",
    "                user_id = self.users_mapping[user]\n",
    "                users, sim = model.similar_items(user_id, N=N)\n",
    "            except KeyError:\n",
    "                pass\n",
    "            # add threshold user to every similar items sequence\n",
    "            users, sim = np.append(users, [-1]), np.append(sim, [0.0001]) \n",
    "            return [self.users_inv_mapping[user] for user in users], sim\n",
    "        \n",
    "        return _recs_mapper\n",
    "    \n",
    "    def get_mappings(self, train):\n",
    "        super().get_mappings(train)\n",
    "        # add threshold user_id\n",
    "        self.users_inv_mapping[-1] = -1\n",
    "        self.users_mapping = {v: k for k, v in self.users_inv_mapping.items()}\n",
    "    \n",
    "    def fit(self, train: pd.DataFrame):\n",
    "        super().fit(train)\n",
    "        dataset = Dataset.construct(\n",
    "            interactions_df=train,\n",
    "            user_features_df=None,\n",
    "            item_features_df=None\n",
    "        ) \n",
    "        # init and fit treshold model for cold users and 'not enough count' neighbours\n",
    "        self.treshold_model = PopularModel() \n",
    "        self.treshold_model.fit(dataset)\n",
    "        tr_recs = self.treshold_model.recommend([train.at[0, 'user_id']], dataset, 100, False)\n",
    "        df_tr_recs = pd.DataFrame([[-1 , tr_recs['item_id'].values]])\n",
    "        df_tr_recs.columns = ['sim_user_id', 'item_id']\n",
    "        self.watched = pd.concat([self.watched, df_tr_recs], axis=0)\n",
    "    \n",
    "    def predict(self, test: pd.DataFrame, N_recs: int = 10):\n",
    "        \n",
    "        if not self.is_fitted:\n",
    "            raise ValueError(\"Please call fit before predict\")\n",
    "        \n",
    "        mapper = self._generate_recs_mapper(\n",
    "            model=self.user_knn, \n",
    "            user_mapping=self.users_mapping,\n",
    "            user_inv_mapping=self.users_inv_mapping,\n",
    "            N=self.N_users\n",
    "        )\n",
    "\n",
    "        recs = pd.DataFrame({'user_id': test['user_id'].unique()})\n",
    "        recs['sim_user_id'], recs['sim'] = zip(*recs['user_id'].map(mapper))\n",
    "        recs = recs.set_index('user_id').apply(pd.Series.explode).reset_index()\n",
    "        \n",
    "        recs = recs[~(recs['user_id'] == recs['sim_user_id'])]\\\n",
    "            .merge(self.watched, on=['sim_user_id'], how='left')\\\n",
    "            .explode('item_id')\\\n",
    "            .sort_values(['user_id', 'sim'], ascending=False)\\\n",
    "            .drop_duplicates(['user_id', 'item_id'], keep='first')\\\n",
    "            .merge(self.item_idf, left_on='item_id', right_on='index', how='left')\n",
    "        recs['score'] = recs['sim'] * recs['idf']\n",
    "        recs = recs.sort_values(['user_id', 'score'], ascending=False)\n",
    "        recs['rank'] = recs.groupby('user_id').cumcount() + 1 \n",
    "        return recs[recs['rank'] <= N_recs][['user_id', 'item_id', 'score', 'rank']]\n",
    "    "
   ]
  },
  {
   "cell_type": "code",
   "execution_count": 13,
   "id": "a9c30fdb-7025-4c92-a7c2-f3a5e901aa41",
   "metadata": {},
   "outputs": [
    {
     "name": "stderr",
     "output_type": "stream",
     "text": [
      "/Users/elizaveta/opt/anaconda3/lib/python3.8/site-packages/implicit/utils.py:164: ParameterWarning: Method expects CSR input, and was passed coo_matrix instead. Converting to CSR took 0.004149198532104492 seconds\n",
      "  warnings.warn(\n"
     ]
    },
    {
     "data": {
      "application/vnd.jupyter.widget-view+json": {
       "model_id": "d3035cdbfae44fe09031e7f8386df29d",
       "version_major": 2,
       "version_minor": 0
      },
      "text/plain": [
       "  0%|          | 0/83986 [00:00<?, ?it/s]"
      ]
     },
     "metadata": {},
     "output_type": "display_data"
    }
   ],
   "source": [
    "m = UserKnnModified(TFIDFRecommender())\n",
    "train = interactions[:100000]\n",
    "test = interactions[100000: 101000]\n",
    "m.fit(train)\n",
    "r = m.predict(test)"
   ]
  },
  {
   "cell_type": "code",
   "execution_count": 13,
   "id": "d1f63e2a-7a04-4878-af1e-fb938c95a3ec",
   "metadata": {},
   "outputs": [
    {
     "name": "stderr",
     "output_type": "stream",
     "text": [
      "/Users/elizaveta/opt/anaconda3/lib/python3.8/site-packages/implicit/utils.py:164: ParameterWarning: Method expects CSR input, and was passed coo_matrix instead. Converting to CSR took 0.004592180252075195 seconds\n",
      "  warnings.warn(\n"
     ]
    },
    {
     "data": {
      "application/vnd.jupyter.widget-view+json": {
       "model_id": "5c7d6f5955754c2b982a4df6022d6f64",
       "version_major": 2,
       "version_minor": 0
      },
      "text/plain": [
       "  0%|          | 0/83986 [00:00<?, ?it/s]"
      ]
     },
     "metadata": {},
     "output_type": "display_data"
    }
   ],
   "source": [
    "m = UserKnnModified(TFIDFRecommender())\n",
    "train = interactions[:100000]\n",
    "test = interactions[100000: 101000]\n",
    "m.fit(train)\n",
    "r = m.predict(test)"
   ]
  },
  {
   "cell_type": "code",
   "execution_count": 14,
   "id": "f8977f3c-7cb3-48bc-b41c-b1752a8bf65a",
   "metadata": {},
   "outputs": [
    {
     "data": {
      "text/plain": [
       "1097513    10\n",
       "362770     10\n",
       "378295     10\n",
       "377590     10\n",
       "377561     10\n",
       "           ..\n",
       "715477     10\n",
       "715376     10\n",
       "714291     10\n",
       "713970     10\n",
       "2616       10\n",
       "Name: user_id, Length: 997, dtype: int64"
      ]
     },
     "execution_count": 14,
     "metadata": {},
     "output_type": "execute_result"
    }
   ],
   "source": [
    "r.user_id.value_counts()"
   ]
  },
  {
   "cell_type": "code",
   "execution_count": 14,
   "id": "d30853a8-a94f-471c-989a-17019b65637a",
   "metadata": {},
   "outputs": [
    {
     "data": {
      "text/plain": [
       "1097513    10\n",
       "362770     10\n",
       "378295     10\n",
       "377590     10\n",
       "377561     10\n",
       "           ..\n",
       "715477     10\n",
       "715376     10\n",
       "714291     10\n",
       "713970     10\n",
       "2616       10\n",
       "Name: user_id, Length: 997, dtype: int64"
      ]
     },
     "execution_count": 14,
     "metadata": {},
     "output_type": "execute_result"
    }
   ],
   "source": [
    "r.user_id.value_counts()"
   ]
  },
  {
   "cell_type": "code",
   "execution_count": 10,
   "id": "0e74d828-6372-429d-8226-5c6cf1c61bed",
   "metadata": {
    "collapsed": true,
    "jupyter": {
     "outputs_hidden": true
    }
   },
   "outputs": [
    {
     "data": {
      "application/vnd.jupyter.widget-view+json": {
       "model_id": "f0de8fd170ba41f7917cb10c1b4753e6",
       "version_major": 2,
       "version_minor": 0
      },
      "text/plain": [
       "  0%|          | 0/3 [00:00<?, ?it/s]"
      ]
     },
     "metadata": {},
     "output_type": "display_data"
    },
    {
     "name": "stdout",
     "output_type": "stream",
     "text": [
      "\n",
      "==================== Fold 0\n",
      "{'i_split': 0, 'start': Timestamp('2021-08-02 00:00:00', freq='7D'), 'end': Timestamp('2021-08-09 00:00:00', freq='7D'), 'train': 4266013, 'train_users': 797423, 'train_items': 15237, 'test': 263681, 'test_users': 98184, 'test_items': 6602}\n"
     ]
    },
    {
     "name": "stderr",
     "output_type": "stream",
     "text": [
      "/Users/elizaveta/opt/anaconda3/lib/python3.8/site-packages/implicit/utils.py:164: ParameterWarning: Method expects CSR input, and was passed coo_matrix instead. Converting to CSR took 0.408505916595459 seconds\n",
      "  warnings.warn(\n"
     ]
    },
    {
     "data": {
      "application/vnd.jupyter.widget-view+json": {
       "model_id": "1e0baf7d902d4bf78f5a30bce167d6cf",
       "version_major": 2,
       "version_minor": 0
      },
      "text/plain": [
       "  0%|          | 0/797423 [00:00<?, ?it/s]"
      ]
     },
     "metadata": {},
     "output_type": "display_data"
    },
    {
     "name": "stdout",
     "output_type": "stream",
     "text": [
      "\n",
      "==================== Fold 1\n",
      "{'i_split': 1, 'start': Timestamp('2021-08-09 00:00:00', freq='7D'), 'end': Timestamp('2021-08-16 00:00:00', freq='7D'), 'train': 4649162, 'train_users': 850489, 'train_items': 15415, 'test': 279422, 'test_users': 103511, 'test_items': 6698}\n"
     ]
    },
    {
     "name": "stderr",
     "output_type": "stream",
     "text": [
      "/Users/elizaveta/opt/anaconda3/lib/python3.8/site-packages/implicit/utils.py:164: ParameterWarning: Method expects CSR input, and was passed coo_matrix instead. Converting to CSR took 0.4595329761505127 seconds\n",
      "  warnings.warn(\n"
     ]
    },
    {
     "data": {
      "application/vnd.jupyter.widget-view+json": {
       "model_id": "34539e1ee84b494a97a6a5af76d0f42e",
       "version_major": 2,
       "version_minor": 0
      },
      "text/plain": [
       "  0%|          | 0/850489 [00:00<?, ?it/s]"
      ]
     },
     "metadata": {},
     "output_type": "display_data"
    },
    {
     "name": "stdout",
     "output_type": "stream",
     "text": [
      "\n",
      "==================== Fold 2\n",
      "{'i_split': 2, 'start': Timestamp('2021-08-16 00:00:00', freq='7D'), 'end': Timestamp('2021-08-23 00:00:00', freq='7D'), 'train': 5051815, 'train_users': 906071, 'train_items': 15577, 'test': 298878, 'test_users': 110076, 'test_items': 6679}\n"
     ]
    },
    {
     "name": "stderr",
     "output_type": "stream",
     "text": [
      "/Users/elizaveta/opt/anaconda3/lib/python3.8/site-packages/implicit/utils.py:164: ParameterWarning: Method expects CSR input, and was passed coo_matrix instead. Converting to CSR took 0.5051431655883789 seconds\n",
      "  warnings.warn(\n"
     ]
    },
    {
     "data": {
      "application/vnd.jupyter.widget-view+json": {
       "model_id": "756c295bf0654a1b9052f2cf332adff7",
       "version_major": 2,
       "version_minor": 0
      },
      "text/plain": [
       "  0%|          | 0/906071 [00:00<?, ?it/s]"
      ]
     },
     "metadata": {},
     "output_type": "display_data"
    }
   ],
   "source": [
    "models_3 = {\n",
    "    'userknnmodified_tfidf_50': UserKnnModified(TFIDFRecommender(num_threads=2), N_users=50),\n",
    "}\n",
    "\n",
    "res_3, models_3 = train_models(interactions, models_3, metrics, K_RECOS, cv)"
   ]
  },
  {
   "cell_type": "code",
   "execution_count": 11,
   "id": "1bc75b4b-c919-4a48-988a-6e9474e4f549",
   "metadata": {},
   "outputs": [
    {
     "data": {
      "text/html": [
       "<style type=\"text/css\">\n",
       "#T_dfb44_row0_col0, #T_dfb44_row0_col2, #T_dfb44_row0_col4 {\n",
       "  background-color: lightcoral;\n",
       "  background-color: lightgreen;\n",
       "}\n",
       "</style>\n",
       "<table id=\"T_dfb44\">\n",
       "  <thead>\n",
       "    <tr>\n",
       "      <th class=\"blank level0\" >&nbsp;</th>\n",
       "      <th id=\"T_dfb44_level0_col0\" class=\"col_heading level0 col0\" colspan=\"2\">time</th>\n",
       "      <th id=\"T_dfb44_level0_col2\" class=\"col_heading level0 col2\" colspan=\"2\">map@10</th>\n",
       "      <th id=\"T_dfb44_level0_col4\" class=\"col_heading level0 col4\" colspan=\"2\">novelty</th>\n",
       "    </tr>\n",
       "    <tr>\n",
       "      <th class=\"blank level1\" >&nbsp;</th>\n",
       "      <th id=\"T_dfb44_level1_col0\" class=\"col_heading level1 col0\" >mean</th>\n",
       "      <th id=\"T_dfb44_level1_col1\" class=\"col_heading level1 col1\" >std</th>\n",
       "      <th id=\"T_dfb44_level1_col2\" class=\"col_heading level1 col2\" >mean</th>\n",
       "      <th id=\"T_dfb44_level1_col3\" class=\"col_heading level1 col3\" >std</th>\n",
       "      <th id=\"T_dfb44_level1_col4\" class=\"col_heading level1 col4\" >mean</th>\n",
       "      <th id=\"T_dfb44_level1_col5\" class=\"col_heading level1 col5\" >std</th>\n",
       "    </tr>\n",
       "    <tr>\n",
       "      <th class=\"index_name level0\" >model</th>\n",
       "      <th class=\"blank col0\" >&nbsp;</th>\n",
       "      <th class=\"blank col1\" >&nbsp;</th>\n",
       "      <th class=\"blank col2\" >&nbsp;</th>\n",
       "      <th class=\"blank col3\" >&nbsp;</th>\n",
       "      <th class=\"blank col4\" >&nbsp;</th>\n",
       "      <th class=\"blank col5\" >&nbsp;</th>\n",
       "    </tr>\n",
       "  </thead>\n",
       "  <tbody>\n",
       "    <tr>\n",
       "      <th id=\"T_dfb44_level0_row0\" class=\"row_heading level0 row0\" >userknnmodified_tfidf_50</th>\n",
       "      <td id=\"T_dfb44_row0_col0\" class=\"data row0 col0\" >3172.608017</td>\n",
       "      <td id=\"T_dfb44_row0_col1\" class=\"data row0 col1\" >1250.403026</td>\n",
       "      <td id=\"T_dfb44_row0_col2\" class=\"data row0 col2\" >0.007496</td>\n",
       "      <td id=\"T_dfb44_row0_col3\" class=\"data row0 col3\" >0.000812</td>\n",
       "      <td id=\"T_dfb44_row0_col4\" class=\"data row0 col4\" >8.052439</td>\n",
       "      <td id=\"T_dfb44_row0_col5\" class=\"data row0 col5\" >0.032318</td>\n",
       "    </tr>\n",
       "  </tbody>\n",
       "</table>\n"
      ],
      "text/plain": [
       "<pandas.io.formats.style.Styler at 0x7fd410690d30>"
      ]
     },
     "execution_count": 11,
     "metadata": {},
     "output_type": "execute_result"
    }
   ],
   "source": [
    "# Aggregate metrics by folds and compare models\n",
    "pivot_results = res_3.drop(columns=\"fold\").groupby([\"model\"], sort=False).agg([\"mean\", \"std\"])\n",
    "mean_metric_subset = [(metric, agg) for metric, agg in pivot_results.columns if agg == 'mean']\n",
    "(\n",
    "    pivot_results.style\n",
    "    .highlight_min(subset=mean_metric_subset, color='lightcoral', axis=0)\n",
    "    .highlight_max(subset=mean_metric_subset, color='lightgreen', axis=0)\n",
    ")"
   ]
  },
  {
   "cell_type": "markdown",
   "id": "23b279b6-a3b3-4552-b23d-98e429508e25",
   "metadata": {},
   "source": [
    "# Prepare offline predictions"
   ]
  },
  {
   "cell_type": "code",
   "execution_count": 167,
   "id": "74deecf8-8e8d-4d69-bff8-f9234f23a121",
   "metadata": {},
   "outputs": [
    {
     "name": "stderr",
     "output_type": "stream",
     "text": [
      "/Users/elizaveta/opt/anaconda3/lib/python3.8/site-packages/implicit/utils.py:164: ParameterWarning: Method expects CSR input, and was passed coo_matrix instead. Converting to CSR took 0.4120602607727051 seconds\n",
      "  warnings.warn(\n"
     ]
    },
    {
     "data": {
      "application/vnd.jupyter.widget-view+json": {
       "model_id": "b6bc5755a3c74c4aaa3c5f848c44f21e",
       "version_major": 2,
       "version_minor": 0
      },
      "text/plain": [
       "  0%|          | 0/962179 [00:00<?, ?it/s]"
      ]
     },
     "metadata": {},
     "output_type": "display_data"
    }
   ],
   "source": [
    "userknn = UserKnnModified(TFIDFRecommender(num_threads=2), N_users=50)\n",
    "userknn.fit(interactions)"
   ]
  },
  {
   "cell_type": "code",
   "execution_count": 172,
   "id": "15f0407a-b835-4f25-9dbd-e89c183e0fa0",
   "metadata": {},
   "outputs": [],
   "source": [
    "userknn_reco = userknn.predict(users[['user_id']], 10)"
   ]
  },
  {
   "cell_type": "code",
   "execution_count": 177,
   "id": "45e6d490-fc0e-4a3d-8343-71b809838730",
   "metadata": {},
   "outputs": [],
   "source": [
    "preds = (userknn_reco.groupby(['user_id'])\n",
    "        .agg({'item_id': lambda x: x.tolist()})\n",
    "        .reset_index()\n",
    "        .set_index('user_id')\n",
    "        .to_dict()['item_id']\n",
    ")"
   ]
  },
  {
   "cell_type": "code",
   "execution_count": 178,
   "id": "1a8ea36b-ac62-4392-957c-004f687e99af",
   "metadata": {},
   "outputs": [],
   "source": [
    "with open('userknn_model.dill', 'wb') as f:\n",
    "    dill.dump(userknn, f)\n",
    "\n",
    "with open('userknn_reco.dill', 'wb') as f:\n",
    "    dill.dump(preds, f)"
   ]
  },
  {
   "cell_type": "markdown",
   "id": "0ef1130d-ca14-4d4b-a400-f3a8af5589cd",
   "metadata": {},
   "source": [
    "# Prepare files for online model"
   ]
  },
  {
   "cell_type": "code",
   "execution_count": 14,
   "id": "f299945d-9316-4ffc-8d8d-7a3b357be9a7",
   "metadata": {},
   "outputs": [],
   "source": [
    "import scipy as sp\n",
    "\n",
    "def get_mapping(train_df, col):\n",
    "  inv_mapping = dict(enumerate(train_df[col].unique()))\n",
    "  mapping = {v: k for k, v in inv_mapping.items()}\n",
    "  return inv_mapping, mapping\n",
    "\n",
    "\n",
    "def get_coo_matrix(df,\n",
    "                   user_col='user_id',\n",
    "                   item_col='item_id',\n",
    "                   weight_col=None,\n",
    "                   users_mapping=None,\n",
    "                   items_mapping=None):\n",
    "    if weight_col:\n",
    "        weights = df[weight_col].astype(np.float32)\n",
    "    else:\n",
    "        weights = np.ones(len(df), dtype=np.float32)\n",
    "\n",
    "    interaction_matrix = sp.sparse.coo_matrix((\n",
    "        weights,\n",
    "        (\n",
    "            df[user_col].map(users_mapping.get),\n",
    "            df[item_col].map(items_mapping.get)\n",
    "        )\n",
    "    ))\n",
    "    return interaction_matrix"
   ]
  },
  {
   "cell_type": "code",
   "execution_count": 15,
   "id": "0e6c3c59-f1af-4495-bd6f-bb2ce96be3d3",
   "metadata": {},
   "outputs": [],
   "source": [
    "users_inv_mapping, users_mapping = get_mapping(interactions, 'user_id')\n",
    "items_inv_mapping, items_mapping = get_mapping(interactions, 'item_id')\n",
    "\n",
    "\n",
    "interaction_matrix = get_coo_matrix(\n",
    "    interactions,\n",
    "    weight_col='weight',\n",
    "    users_mapping=users_mapping,\n",
    "    items_mapping=items_mapping,\n",
    ")"
   ]
  },
  {
   "cell_type": "code",
   "execution_count": 18,
   "id": "9f2f1b8b-08df-446b-a1d4-6a161f2d0a09",
   "metadata": {},
   "outputs": [],
   "source": [
    "with open('users_mapping.dill', 'wb') as f:\n",
    "    dill.dump(users_mapping, f)\n",
    "\n",
    "with open('users_inv_mapping.dill', 'wb') as f:\n",
    "    dill.dump(users_inv_mapping, f)"
   ]
  },
  {
   "cell_type": "code",
   "execution_count": 154,
   "id": "3d470c91-c4b8-41a0-987c-9aea6a031103",
   "metadata": {},
   "outputs": [
    {
     "name": "stderr",
     "output_type": "stream",
     "text": [
      "/Users/elizaveta/opt/anaconda3/lib/python3.8/site-packages/implicit/utils.py:164: ParameterWarning: Method expects CSR input, and was passed coo_matrix instead. Converting to CSR took 0.2114090919494629 seconds\n",
      "  warnings.warn(\n"
     ]
    },
    {
     "data": {
      "application/vnd.jupyter.widget-view+json": {
       "model_id": "cf9219d11a4a45a9a92db3549acecd7a",
       "version_major": 2,
       "version_minor": 0
      },
      "text/plain": [
       "  0%|          | 0/15706 [00:00<?, ?it/s]"
      ]
     },
     "metadata": {},
     "output_type": "display_data"
    }
   ],
   "source": [
    "model = TFIDFRecommender()\n",
    "model.fit(interaction_matrix)"
   ]
  },
  {
   "cell_type": "code",
   "execution_count": 155,
   "id": "560785f4-b51e-400d-a701-54921f6ba77d",
   "metadata": {},
   "outputs": [],
   "source": [
    "with open('tfidf_model.dill', 'wb') as f:\n",
    "    dill.dump(model, f)"
   ]
  },
  {
   "cell_type": "code",
   "execution_count": null,
   "id": "ade8177d-8668-458e-bf61-d1e210e05efb",
   "metadata": {},
   "outputs": [],
   "source": []
  }
 ],
 "metadata": {
  "kernelspec": {
   "display_name": "Python 3 (ipykernel)",
   "language": "python",
   "name": "python3"
  },
  "language_info": {
   "codemirror_mode": {
    "name": "ipython",
    "version": 3
   },
   "file_extension": ".py",
   "mimetype": "text/x-python",
   "name": "python",
   "nbconvert_exporter": "python",
   "pygments_lexer": "ipython3",
   "version": "3.8.18"
  }
 },
 "nbformat": 4,
 "nbformat_minor": 5
}
