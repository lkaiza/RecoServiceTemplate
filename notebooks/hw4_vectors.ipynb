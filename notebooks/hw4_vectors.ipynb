{
 "cells": [
  {
   "cell_type": "code",
   "execution_count": 1,
   "id": "2ed72708-7be3-4ba3-a54e-9f6bb66ff822",
   "metadata": {},
   "outputs": [
    {
     "name": "stderr",
     "output_type": "stream",
     "text": [
      "/Users/elizaveta/opt/anaconda3/lib/python3.8/site-packages/scipy/__init__.py:146: UserWarning: A NumPy version >=1.16.5 and <1.23.0 is required for this version of SciPy (detected version 1.23.5\n",
      "  warnings.warn(f\"A NumPy version >={np_minversion} and <{np_maxversion}\"\n",
      "/Users/elizaveta/opt/anaconda3/lib/python3.8/site-packages/lightfm/_lightfm_fast.py:9: UserWarning: LightFM was compiled without OpenMP support. Only a single thread will be used.\n",
      "  warnings.warn(\n"
     ]
    }
   ],
   "source": [
    "from implicit.lmf import LogisticMatrixFactorization\n",
    "from implicit.bpr import BayesianPersonalizedRanking\n",
    "from lightfm import LightFM\n",
    "from tqdm import tqdm\n",
    "import time\n",
    "import typing as tp\n",
    "from pathlib import Path\n",
    "import seaborn as sns\n",
    "import matplotlib.pyplot as plt\n",
    "# from rectools.tools.ann import UserToItemAnnRecommender\n",
    "from rectools.model_selection import TimeRangeSplitter\n",
    "from rectools.dataset import Dataset, Interactions\n",
    "from rectools import Columns\n",
    "from rectools.models import PopularModel, RandomModel, ImplicitALSWrapperModel, ImplicitALSWrapperModel, LightFMWrapperModel\n",
    "from rectools.metrics import Precision, Recall, MeanInvUserFreq, Serendipity, MAP, calc_metrics\n",
    "from implicit.als import AlternatingLeastSquares\n",
    "import optuna\n",
    "import requests\n",
    "from pprint import pprint\n",
    "import pickle\n",
    "import numpy as np\n",
    "import pandas as pd\n",
    "import warnings\n",
    "import os\n",
    "from copy import deepcopy\n",
    "\n",
    "\n",
    "os.environ[\"OPENBLAS_NUM_THREADS\"] = \"1\"  # For implicit ALS\n",
    "\n",
    "\n",
    "\n",
    "warnings.filterwarnings('ignore')"
   ]
  },
  {
   "cell_type": "code",
   "execution_count": 2,
   "id": "c7cbc263-2430-45e5-a4f1-9998e1699420",
   "metadata": {},
   "outputs": [],
   "source": [
    "# pip install optuna"
   ]
  },
  {
   "cell_type": "code",
   "execution_count": 3,
   "id": "1af12780-c94e-4a32-a2a8-0cb0b7e947e6",
   "metadata": {},
   "outputs": [],
   "source": [
    "# pip install lightfm"
   ]
  },
  {
   "cell_type": "code",
   "execution_count": 4,
   "id": "57109bfd-e2e6-40b3-a13f-3fecf6838ddb",
   "metadata": {},
   "outputs": [],
   "source": [
    "# pip install nmslib"
   ]
  },
  {
   "cell_type": "code",
   "execution_count": 5,
   "id": "2c127dbe-5ef5-4571-b623-ee55f8c9bde0",
   "metadata": {},
   "outputs": [],
   "source": [
    "DATA_PATH = \"data/kion_train\"\n",
    "RESULTS_PATH = \"results/hw4\"\n",
    "RANDOM_SEED = 1024\n",
    "K_RECOS = 10"
   ]
  },
  {
   "cell_type": "markdown",
   "id": "7889f8be-c7bd-479a-b46a-2700e5014b41",
   "metadata": {},
   "source": [
    "# Data"
   ]
  },
  {
   "cell_type": "code",
   "execution_count": 6,
   "id": "de8facec-5ebc-4aea-a25e-67a3b3356f81",
   "metadata": {},
   "outputs": [],
   "source": [
    "interactions = pd.read_csv(f'{DATA_PATH}/interactions.csv', parse_dates=[\"last_watch_dt\"])\n",
    "\n",
    "interactions.rename(\n",
    "    columns={\n",
    "        'last_watch_dt': Columns.Datetime,\n",
    "        'total_dur': Columns.Weight\n",
    "    }, \n",
    "    inplace=True) \n",
    "\n",
    "users = pd.read_csv(f'{DATA_PATH}/users.csv')\n",
    "items = pd.read_csv(f'{DATA_PATH}/items.csv')"
   ]
  },
  {
   "cell_type": "markdown",
   "id": "f397f97e-7986-4899-8e85-eaf2481de623",
   "metadata": {},
   "source": [
    "# Data proccessing"
   ]
  },
  {
   "cell_type": "code",
   "execution_count": 7,
   "id": "899d3aa8-ad03-4421-a865-22a662d03972",
   "metadata": {},
   "outputs": [
    {
     "name": "stdout",
     "output_type": "stream",
     "text": [
      "train: (4985269, 5)\n",
      "test: (349088, 5)\n"
     ]
    }
   ],
   "source": [
    "max_date = interactions[\"datetime\"].max()\n",
    "\n",
    "train = interactions[(interactions[\"datetime\"] < max_date - pd.Timedelta(days=7))]  # We use 7 days as a trend\n",
    "test = interactions[(interactions[\"datetime\"] >= max_date - pd.Timedelta(days=7))]\n",
    "\n",
    "\n",
    "# оставляем только теплых пользователей в тесте\n",
    "test = test[test[\"user_id\"].isin(train[\"user_id\"].unique())]\n",
    "\n",
    "\n",
    "print(f\"train: {train.shape}\")\n",
    "print(f\"test: {test.shape}\")\n",
    "     "
   ]
  },
  {
   "cell_type": "code",
   "execution_count": 8,
   "id": "b5f9e25b-3141-4611-848e-e7382c1ed28b",
   "metadata": {},
   "outputs": [],
   "source": [
    "users.fillna(\"Unknown\", inplace=True)"
   ]
  },
  {
   "cell_type": "code",
   "execution_count": 9,
   "id": "3e77e7f8-58e5-4e20-9a3c-f0ede901b6f0",
   "metadata": {},
   "outputs": [],
   "source": [
    "users = users.loc[users[Columns.User].isin(train[Columns.User])].copy()"
   ]
  },
  {
   "cell_type": "code",
   "execution_count": 10,
   "id": "dce5099b-1e73-4786-92c5-47c63012987b",
   "metadata": {},
   "outputs": [],
   "source": [
    "user_features_names = [\"age\", \"income\", \"sex\"]\n",
    "user_features_frames = []\n",
    "for feature in user_features_names:\n",
    "    feature_frame = users.reindex(columns=[Columns.User, feature])\n",
    "    feature_frame.columns = [\"id\", \"value\"]\n",
    "    feature_frame[\"feature\"] = feature\n",
    "    user_features_frames.append(feature_frame)\n",
    "\n",
    "\n",
    "user_features = pd.concat(user_features_frames)"
   ]
  },
  {
   "cell_type": "code",
   "execution_count": 11,
   "id": "b8423c9a-670f-42a0-9979-8d4f8f85d483",
   "metadata": {},
   "outputs": [],
   "source": [
    "items = items.loc[items[Columns.Item].isin(train[Columns.Item])].copy()"
   ]
  },
  {
   "cell_type": "code",
   "execution_count": 12,
   "id": "304bc260-bc90-4f5f-91b3-1e7d3f876052",
   "metadata": {},
   "outputs": [],
   "source": [
    "items[\"genre\"] = items[\"genres\"].str.lower().str.replace(\", \", \",\", regex=False).str.split(\",\")\n",
    "genre_feature = items[[\"item_id\", \"genre\"]].explode(\"genre\")\n",
    "genre_feature.columns = [\"id\", \"value\"]\n",
    "genre_feature[\"feature\"] = \"genre\"\n",
    "\n",
    "content_feature = items.reindex(columns=[Columns.Item, \"content_type\"])\n",
    "content_feature.columns = [\"id\", \"value\"]\n",
    "content_feature[\"feature\"] = \"content_type\"\n",
    "\n",
    "year_feature = items.reindex(columns=[Columns.Item, \"year_bin\"])\n",
    "year_feature.columns = [\"id\", \"value\"]\n",
    "year_feature[\"feature\"] = \"year\"\n",
    "\n",
    "\n",
    "item_features = pd.concat((genre_feature, content_feature, year_feature))"
   ]
  },
  {
   "cell_type": "code",
   "execution_count": 13,
   "id": "a6533b78-6219-4759-ad40-d25cc62e5f2e",
   "metadata": {},
   "outputs": [],
   "source": [
    "dataset = Dataset.construct(\n",
    "    interactions_df=train,\n",
    "    user_features_df=user_features,\n",
    "    cat_user_features=[\"sex\", \"age\", \"income\"],\n",
    "    item_features_df=item_features,\n",
    "    cat_item_features=[\"genre\", \"content_type\", \"year\"],\n",
    ")"
   ]
  },
  {
   "cell_type": "markdown",
   "id": "92bea7a6-471f-4899-8d02-1f944881e3de",
   "metadata": {},
   "source": [
    "# Tuning"
   ]
  },
  {
   "cell_type": "code",
   "execution_count": 14,
   "id": "91b140b5-1a64-4544-9308-d8b89fbb72a2",
   "metadata": {},
   "outputs": [],
   "source": [
    "def LightFM_objective(trial):\n",
    "    n_factors = trial.suggest_int(\"n_factors\", low=8, high=128, step=8)\n",
    "    loss = trial.suggest_categorical(\"loss\", choices=['logistic', 'bpr', 'warp'])\n",
    "    lr = trial.suggest_float(\"lr\", low=0.05, high=0.25, step=0.05)\n",
    "    item_alpha = trial.suggest_float(\"item_alpha\", low=0.0, high=0.1, step=0.05)\n",
    "    user_alpha = trial.suggest_float(\"item_alpha\", low=0.0, high=0.1, step=0.05)\n",
    "\n",
    "    model = LightFMWrapperModel(\n",
    "      model = LightFM(\n",
    "        no_components=n_factors, \n",
    "        loss=loss, \n",
    "        random_state=RANDOM_SEED,\n",
    "        learning_rate=lr,\n",
    "        user_alpha=user_alpha,\n",
    "        item_alpha=item_alpha,\n",
    "      ),\n",
    "      epochs=3,\n",
    "      num_threads=1,\n",
    "    )\n",
    "    model.fit(dataset)\n",
    "    recos = model.recommend(\n",
    "        users=test[Columns.User].unique(),\n",
    "        dataset=dataset,\n",
    "        k=10,\n",
    "        filter_viewed=True,\n",
    "    )\n",
    "\n",
    "    return calc_metrics(metrics, recos, test, train)[\"map@10\"]"
   ]
  },
  {
   "cell_type": "code",
   "execution_count": null,
   "id": "7245902d-d12c-41fe-8860-46daffdf372d",
   "metadata": {},
   "outputs": [
    {
     "name": "stderr",
     "output_type": "stream",
     "text": [
      "[I 2024-03-14 12:15:36,957] A new study created in memory with name: no-name-a7925853-9182-444e-a3db-3306d23dd7fb\n",
      "[I 2024-03-14 12:16:19,498] Trial 0 finished with value: 0.0004397091294953018 and parameters: {'n_factors': 48, 'loss': 'logistic', 'lr': 0.1, 'item_alpha': 0.0}. Best is trial 0 with value: 0.0004397091294953018.\n"
     ]
    }
   ],
   "source": [
    "lfm_study = optuna.create_study(direction=\"maximize\")\n",
    "metrics = {\"map@10\": MAP(k=10)}\n",
    "\n",
    "lfm_study.optimize(LightFM_objective, n_trials=8)"
   ]
  },
  {
   "cell_type": "code",
   "execution_count": null,
   "id": "67947b2f-de63-427f-a6d1-bdd745d5106a",
   "metadata": {},
   "outputs": [],
   "source": [
    "# lfm_params = lightfm_study.best_params\n",
    "# lfm_params"
   ]
  },
  {
   "cell_type": "code",
   "execution_count": null,
   "id": "66269977-8cd8-492a-a0a5-2845d7941a9b",
   "metadata": {},
   "outputs": [],
   "source": [
    "import gc\n",
    "del lfm_study\n",
    "gc.collect()"
   ]
  },
  {
   "cell_type": "code",
   "execution_count": null,
   "id": "c533aa09-e9e5-4f51-acaa-df761bddf6e7",
   "metadata": {},
   "outputs": [],
   "source": [
    "def ALS_objective(trial):\n",
    "    model = ImplicitALSWrapperModel(\n",
    "        AlternatingLeastSquares(\n",
    "            factors=trial.suggest_categorical(\"factors\", [4, 8, 16, 32]),\n",
    "            regularization=trial.suggest_float(\"regularization\", 2e-04, 2e-01, log=True),\n",
    "            iterations=trial.suggest_int(\"iterations\", 10, 100),\n",
    "        )\n",
    "    )\n",
    "    model.fit(dataset)\n",
    "    recos = model.recommend(\n",
    "        users=test[Columns.User].unique(),\n",
    "        dataset=dataset,\n",
    "        k=10,\n",
    "        filter_viewed=True,\n",
    "    )\n",
    "\n",
    "    return calc_metrics(metrics, recos, test, train)[\"map@10\"]"
   ]
  },
  {
   "cell_type": "code",
   "execution_count": 50,
   "id": "88ce301e-bbc0-444f-b8e3-b85b9cc3cb56",
   "metadata": {
    "scrolled": true
   },
   "outputs": [
    {
     "name": "stderr",
     "output_type": "stream",
     "text": [
      "[I 2024-03-10 19:16:41,973] A new study created in memory with name: no-name-4bc63328-80fc-4f91-af48-ceac51861aef\n"
     ]
    },
    {
     "data": {
      "application/vnd.jupyter.widget-view+json": {
       "model_id": "57de9c4d19a54cb3b9df7e75799572d5",
       "version_major": 2,
       "version_minor": 0
      },
      "text/plain": [
       "  0%|          | 0/1 [00:00<?, ?it/s]"
      ]
     },
     "metadata": {},
     "output_type": "display_data"
    },
    {
     "data": {
      "application/vnd.jupyter.widget-view+json": {
       "model_id": "ac9d290963af4e66b5957d819b934b64",
       "version_major": 2,
       "version_minor": 0
      },
      "text/plain": [
       "  0%|          | 0/1 [00:00<?, ?it/s]"
      ]
     },
     "metadata": {},
     "output_type": "display_data"
    },
    {
     "name": "stderr",
     "output_type": "stream",
     "text": [
      "[I 2024-03-10 19:19:59,720] Trial 1 finished with value: 0.01922328783375393 and parameters: {'factors': 8, 'regularization': 0.00402115123400445, 'iterations': 52}. Best is trial 1 with value: 0.01922328783375393.\n"
     ]
    },
    {
     "data": {
      "application/vnd.jupyter.widget-view+json": {
       "model_id": "50d97e2b8618465a9c29e78450f6f528",
       "version_major": 2,
       "version_minor": 0
      },
      "text/plain": [
       "  0%|          | 0/1 [00:00<?, ?it/s]"
      ]
     },
     "metadata": {},
     "output_type": "display_data"
    },
    {
     "data": {
      "application/vnd.jupyter.widget-view+json": {
       "model_id": "16461ccca1cd4bf3ac2298863e73564b",
       "version_major": 2,
       "version_minor": 0
      },
      "text/plain": [
       "  0%|          | 0/1 [00:00<?, ?it/s]"
      ]
     },
     "metadata": {},
     "output_type": "display_data"
    },
    {
     "name": "stderr",
     "output_type": "stream",
     "text": [
      "[I 2024-03-10 19:20:53,947] Trial 2 finished with value: 0.015299994810807925 and parameters: {'factors': 4, 'regularization': 0.001293379793340953, 'iterations': 73}. Best is trial 1 with value: 0.01922328783375393.\n"
     ]
    },
    {
     "data": {
      "application/vnd.jupyter.widget-view+json": {
       "model_id": "bb7ef608850e4aecaa189d6894651a57",
       "version_major": 2,
       "version_minor": 0
      },
      "text/plain": [
       "  0%|          | 0/1 [00:00<?, ?it/s]"
      ]
     },
     "metadata": {},
     "output_type": "display_data"
    },
    {
     "data": {
      "application/vnd.jupyter.widget-view+json": {
       "model_id": "9d6d3e358c694323bc762d1355434517",
       "version_major": 2,
       "version_minor": 0
      },
      "text/plain": [
       "  0%|          | 0/1 [00:00<?, ?it/s]"
      ]
     },
     "metadata": {},
     "output_type": "display_data"
    },
    {
     "name": "stderr",
     "output_type": "stream",
     "text": [
      "[I 2024-03-10 19:22:48,856] Trial 5 finished with value: 0.01778354930589944 and parameters: {'factors': 8, 'regularization': 0.004333503043121528, 'iterations': 26}. Best is trial 1 with value: 0.01922328783375393.\n"
     ]
    },
    {
     "data": {
      "application/vnd.jupyter.widget-view+json": {
       "model_id": "ab9cd2a131dc4e989f919748bd1bf031",
       "version_major": 2,
       "version_minor": 0
      },
      "text/plain": [
       "  0%|          | 0/1 [00:00<?, ?it/s]"
      ]
     },
     "metadata": {},
     "output_type": "display_data"
    },
    {
     "data": {
      "application/vnd.jupyter.widget-view+json": {
       "model_id": "9d6ff0535f664cde8445852b53dd2aff",
       "version_major": 2,
       "version_minor": 0
      },
      "text/plain": [
       "  0%|          | 0/1 [00:00<?, ?it/s]"
      ]
     },
     "metadata": {},
     "output_type": "display_data"
    },
    {
     "data": {
      "application/vnd.jupyter.widget-view+json": {
       "model_id": "d4abe23fb60d41199ca9ef6e9c9817b7",
       "version_major": 2,
       "version_minor": 0
      },
      "text/plain": [
       "  0%|          | 0/1 [00:00<?, ?it/s]"
      ]
     },
     "metadata": {},
     "output_type": "display_data"
    },
    {
     "name": "stderr",
     "output_type": "stream",
     "text": [
      "[I 2024-03-10 19:23:35,852] Trial 4 finished with value: 0.020746702187058833 and parameters: {'factors': 16, 'regularization': 0.0714049213510524, 'iterations': 48}. Best is trial 4 with value: 0.020746702187058833.\n"
     ]
    },
    {
     "data": {
      "application/vnd.jupyter.widget-view+json": {
       "model_id": "f0dbe686fed841558db11f5316989af2",
       "version_major": 2,
       "version_minor": 0
      },
      "text/plain": [
       "  0%|          | 0/1 [00:00<?, ?it/s]"
      ]
     },
     "metadata": {},
     "output_type": "display_data"
    },
    {
     "name": "stderr",
     "output_type": "stream",
     "text": [
      "[I 2024-03-10 19:24:04,473] Trial 3 finished with value: 0.02608136679124934 and parameters: {'factors': 32, 'regularization': 0.0028459606022612736, 'iterations': 88}. Best is trial 3 with value: 0.02608136679124934.\n"
     ]
    },
    {
     "data": {
      "application/vnd.jupyter.widget-view+json": {
       "model_id": "adf737a4cfbd482e9ca84c654207e625",
       "version_major": 2,
       "version_minor": 0
      },
      "text/plain": [
       "  0%|          | 0/1 [00:00<?, ?it/s]"
      ]
     },
     "metadata": {},
     "output_type": "display_data"
    },
    {
     "data": {
      "application/vnd.jupyter.widget-view+json": {
       "model_id": "66aec5db98744a28b3c24d06a7ee733c",
       "version_major": 2,
       "version_minor": 0
      },
      "text/plain": [
       "  0%|          | 0/1 [00:00<?, ?it/s]"
      ]
     },
     "metadata": {},
     "output_type": "display_data"
    },
    {
     "name": "stderr",
     "output_type": "stream",
     "text": [
      "[I 2024-03-10 19:24:48,012] Trial 0 finished with value: 0.02592260764642997 and parameters: {'factors': 32, 'regularization': 0.023671426751396357, 'iterations': 97}. Best is trial 3 with value: 0.02608136679124934.\n"
     ]
    },
    {
     "data": {
      "application/vnd.jupyter.widget-view+json": {
       "model_id": "05913965d30f4af68f18e9e6e313a838",
       "version_major": 2,
       "version_minor": 0
      },
      "text/plain": [
       "  0%|          | 0/1 [00:00<?, ?it/s]"
      ]
     },
     "metadata": {},
     "output_type": "display_data"
    },
    {
     "data": {
      "application/vnd.jupyter.widget-view+json": {
       "model_id": "4f6ea2cdcaf44723bfa3afa7e6c202cb",
       "version_major": 2,
       "version_minor": 0
      },
      "text/plain": [
       "  0%|          | 0/1 [00:00<?, ?it/s]"
      ]
     },
     "metadata": {},
     "output_type": "display_data"
    },
    {
     "name": "stderr",
     "output_type": "stream",
     "text": [
      "[I 2024-03-10 19:25:47,236] Trial 6 finished with value: 0.018940570734233334 and parameters: {'factors': 16, 'regularization': 0.06936999751351178, 'iterations': 36}. Best is trial 3 with value: 0.02608136679124934.\n"
     ]
    },
    {
     "data": {
      "application/vnd.jupyter.widget-view+json": {
       "model_id": "4bb33876d4ce434cbc0d38b3c62a9b27",
       "version_major": 2,
       "version_minor": 0
      },
      "text/plain": [
       "  0%|          | 0/1 [00:00<?, ?it/s]"
      ]
     },
     "metadata": {},
     "output_type": "display_data"
    },
    {
     "data": {
      "application/vnd.jupyter.widget-view+json": {
       "model_id": "e8e7c4f029864714952190eb26c7904e",
       "version_major": 2,
       "version_minor": 0
      },
      "text/plain": [
       "  0%|          | 0/1 [00:00<?, ?it/s]"
      ]
     },
     "metadata": {},
     "output_type": "display_data"
    },
    {
     "name": "stderr",
     "output_type": "stream",
     "text": [
      "[I 2024-03-10 19:27:54,156] Trial 9 finished with value: 0.021071355925622627 and parameters: {'factors': 32, 'regularization': 0.04912467653355231, 'iterations': 24}. Best is trial 3 with value: 0.02608136679124934.\n"
     ]
    },
    {
     "data": {
      "application/vnd.jupyter.widget-view+json": {
       "model_id": "0cbcffe7e97040ca932a639e7401b66b",
       "version_major": 2,
       "version_minor": 0
      },
      "text/plain": [
       "  0%|          | 0/1 [00:00<?, ?it/s]"
      ]
     },
     "metadata": {},
     "output_type": "display_data"
    },
    {
     "data": {
      "application/vnd.jupyter.widget-view+json": {
       "model_id": "33f089958e274672b1707edf8d4b7ee3",
       "version_major": 2,
       "version_minor": 0
      },
      "text/plain": [
       "  0%|          | 0/1 [00:00<?, ?it/s]"
      ]
     },
     "metadata": {},
     "output_type": "display_data"
    },
    {
     "name": "stderr",
     "output_type": "stream",
     "text": [
      "[I 2024-03-10 19:29:57,466] Trial 7 finished with value: 0.021820639029908554 and parameters: {'factors': 8, 'regularization': 0.00036601997739273503, 'iterations': 92}. Best is trial 3 with value: 0.02608136679124934.\n"
     ]
    },
    {
     "data": {
      "application/vnd.jupyter.widget-view+json": {
       "model_id": "1b3ce5db04594d61aa91c80857b6cf98",
       "version_major": 2,
       "version_minor": 0
      },
      "text/plain": [
       "  0%|          | 0/1 [00:00<?, ?it/s]"
      ]
     },
     "metadata": {},
     "output_type": "display_data"
    },
    {
     "data": {
      "application/vnd.jupyter.widget-view+json": {
       "model_id": "abc25efb60e94f9e962e346cfb456bea",
       "version_major": 2,
       "version_minor": 0
      },
      "text/plain": [
       "  0%|          | 0/1 [00:00<?, ?it/s]"
      ]
     },
     "metadata": {},
     "output_type": "display_data"
    },
    {
     "name": "stderr",
     "output_type": "stream",
     "text": [
      "[I 2024-03-10 19:31:12,957] Trial 8 finished with value: 0.026176198433151613 and parameters: {'factors': 32, 'regularization': 0.010184550305362425, 'iterations': 79}. Best is trial 8 with value: 0.026176198433151613.\n"
     ]
    }
   ],
   "source": [
    "als_study = optuna.create_study(direction=\"maximize\")\n",
    "metrics = {\"map@10\": MAP(k=10)}\n",
    "\n",
    "als_study.optimize(ALS_objective, n_trials=10, n_jobs=4)"
   ]
  },
  {
   "cell_type": "code",
   "execution_count": 46,
   "id": "4f95021d-5f2d-4b49-b184-40d28751264f",
   "metadata": {
    "collapsed": true,
    "jupyter": {
     "outputs_hidden": true
    }
   },
   "outputs": [
    {
     "name": "stderr",
     "output_type": "stream",
     "text": [
      "[I 2024-03-10 18:56:41,562] A new study created in memory with name: no-name-cca04854-3987-450c-9f27-2789b7d4de92\n"
     ]
    },
    {
     "data": {
      "application/vnd.jupyter.widget-view+json": {
       "model_id": "b77585631685430d887c150da323850b",
       "version_major": 2,
       "version_minor": 0
      },
      "text/plain": [
       "  0%|          | 0/1 [00:00<?, ?it/s]"
      ]
     },
     "metadata": {},
     "output_type": "display_data"
    },
    {
     "data": {
      "application/vnd.jupyter.widget-view+json": {
       "model_id": "f9408cb9ac20480495251b5d6ad2de8e",
       "version_major": 2,
       "version_minor": 0
      },
      "text/plain": [
       "  0%|          | 0/1 [00:00<?, ?it/s]"
      ]
     },
     "metadata": {},
     "output_type": "display_data"
    },
    {
     "name": "stderr",
     "output_type": "stream",
     "text": [
      "[I 2024-03-10 18:57:52,478] Trial 3 finished with value: 0.015353755396592752 and parameters: {'n_factors': 4, 'regularization': 0.0011828807409723521, 'iterations': 13}. Best is trial 3 with value: 0.015353755396592752.\n"
     ]
    },
    {
     "data": {
      "application/vnd.jupyter.widget-view+json": {
       "model_id": "775284c020554bd7987e48e7046496a1",
       "version_major": 2,
       "version_minor": 0
      },
      "text/plain": [
       "  0%|          | 0/1 [00:00<?, ?it/s]"
      ]
     },
     "metadata": {},
     "output_type": "display_data"
    },
    {
     "data": {
      "application/vnd.jupyter.widget-view+json": {
       "model_id": "ef51dc1b80d14a75bef45452ad917d64",
       "version_major": 2,
       "version_minor": 0
      },
      "text/plain": [
       "  0%|          | 0/1 [00:00<?, ?it/s]"
      ]
     },
     "metadata": {},
     "output_type": "display_data"
    },
    {
     "name": "stderr",
     "output_type": "stream",
     "text": [
      "[I 2024-03-10 18:59:47,266] Trial 0 finished with value: 0.017031696590343384 and parameters: {'n_factors': 4, 'regularization': 0.0009307678118024384, 'iterations': 50}. Best is trial 0 with value: 0.017031696590343384.\n"
     ]
    },
    {
     "data": {
      "application/vnd.jupyter.widget-view+json": {
       "model_id": "6c5f6484f97342e2a6b382c425c41fc1",
       "version_major": 2,
       "version_minor": 0
      },
      "text/plain": [
       "  0%|          | 0/1 [00:00<?, ?it/s]"
      ]
     },
     "metadata": {},
     "output_type": "display_data"
    },
    {
     "data": {
      "application/vnd.jupyter.widget-view+json": {
       "model_id": "9c8c244bec8f40e4ae4531affa3a5f74",
       "version_major": 2,
       "version_minor": 0
      },
      "text/plain": [
       "  0%|          | 0/1 [00:00<?, ?it/s]"
      ]
     },
     "metadata": {},
     "output_type": "display_data"
    },
    {
     "name": "stderr",
     "output_type": "stream",
     "text": [
      "[I 2024-03-10 19:01:46,243] Trial 5 finished with value: 0.022489531354126766 and parameters: {'n_factors': 32, 'regularization': 0.0010155587107913747, 'iterations': 19}. Best is trial 5 with value: 0.022489531354126766.\n"
     ]
    },
    {
     "data": {
      "application/vnd.jupyter.widget-view+json": {
       "model_id": "5246cf1a11474ba2bdc17b1d6d7019a5",
       "version_major": 2,
       "version_minor": 0
      },
      "text/plain": [
       "  0%|          | 0/1 [00:00<?, ?it/s]"
      ]
     },
     "metadata": {},
     "output_type": "display_data"
    },
    {
     "data": {
      "application/vnd.jupyter.widget-view+json": {
       "model_id": "84ea430fba3e45eba0fdeb0533784e5c",
       "version_major": 2,
       "version_minor": 0
      },
      "text/plain": [
       "  0%|          | 0/1 [00:00<?, ?it/s]"
      ]
     },
     "metadata": {},
     "output_type": "display_data"
    },
    {
     "name": "stderr",
     "output_type": "stream",
     "text": [
      "[I 2024-03-10 19:02:47,407] Trial 1 finished with value: 0.028690205763878627 and parameters: {'n_factors': 32, 'regularization': 0.001959917962216104, 'iterations': 71}. Best is trial 1 with value: 0.028690205763878627.\n"
     ]
    },
    {
     "data": {
      "application/vnd.jupyter.widget-view+json": {
       "model_id": "451ac734f3fe4af6ad3947f523ebf723",
       "version_major": 2,
       "version_minor": 0
      },
      "text/plain": [
       "  0%|          | 0/1 [00:00<?, ?it/s]"
      ]
     },
     "metadata": {},
     "output_type": "display_data"
    },
    {
     "data": {
      "application/vnd.jupyter.widget-view+json": {
       "model_id": "d0ef3802d99946f8a59e95b05db3397f",
       "version_major": 2,
       "version_minor": 0
      },
      "text/plain": [
       "  0%|          | 0/1 [00:00<?, ?it/s]"
      ]
     },
     "metadata": {},
     "output_type": "display_data"
    },
    {
     "data": {
      "application/vnd.jupyter.widget-view+json": {
       "model_id": "14680f8ccf804c138f64bcfcadb00a3b",
       "version_major": 2,
       "version_minor": 0
      },
      "text/plain": [
       "  0%|          | 0/1 [00:00<?, ?it/s]"
      ]
     },
     "metadata": {},
     "output_type": "display_data"
    },
    {
     "data": {
      "application/vnd.jupyter.widget-view+json": {
       "model_id": "c89e9515a9a24600bdcb30aab5dea76d",
       "version_major": 2,
       "version_minor": 0
      },
      "text/plain": [
       "  0%|          | 0/1 [00:00<?, ?it/s]"
      ]
     },
     "metadata": {},
     "output_type": "display_data"
    },
    {
     "name": "stderr",
     "output_type": "stream",
     "text": [
      "[I 2024-03-10 19:03:31,213] Trial 6 finished with value: 0.01817650976201514 and parameters: {'n_factors': 4, 'regularization': 0.0009006414372370788, 'iterations': 23}. Best is trial 1 with value: 0.028690205763878627.\n",
      "[I 2024-03-10 19:03:53,742] Trial 4 finished with value: 0.02175133571852716 and parameters: {'n_factors': 8, 'regularization': 0.0006061417062788092, 'iterations': 96}. Best is trial 1 with value: 0.028690205763878627.\n"
     ]
    },
    {
     "data": {
      "application/vnd.jupyter.widget-view+json": {
       "model_id": "1ca654701f944899aac6eb3c3f7f3530",
       "version_major": 2,
       "version_minor": 0
      },
      "text/plain": [
       "  0%|          | 0/1 [00:00<?, ?it/s]"
      ]
     },
     "metadata": {},
     "output_type": "display_data"
    },
    {
     "data": {
      "application/vnd.jupyter.widget-view+json": {
       "model_id": "fa068709045d4f8d806aa82c8a4b2e07",
       "version_major": 2,
       "version_minor": 0
      },
      "text/plain": [
       "  0%|          | 0/1 [00:00<?, ?it/s]"
      ]
     },
     "metadata": {},
     "output_type": "display_data"
    },
    {
     "data": {
      "application/vnd.jupyter.widget-view+json": {
       "model_id": "4de0a48c91ce4e15b23cf6eb569691da",
       "version_major": 2,
       "version_minor": 0
      },
      "text/plain": [
       "  0%|          | 0/1 [00:00<?, ?it/s]"
      ]
     },
     "metadata": {},
     "output_type": "display_data"
    },
    {
     "name": "stderr",
     "output_type": "stream",
     "text": [
      "[I 2024-03-10 19:05:07,748] Trial 2 finished with value: 0.029101508853853274 and parameters: {'n_factors': 32, 'regularization': 0.001427161948235134, 'iterations': 100}. Best is trial 2 with value: 0.029101508853853274.\n"
     ]
    },
    {
     "data": {
      "application/vnd.jupyter.widget-view+json": {
       "model_id": "cb003b6d354744e9af87d639ce4470d1",
       "version_major": 2,
       "version_minor": 0
      },
      "text/plain": [
       "  0%|          | 0/1 [00:00<?, ?it/s]"
      ]
     },
     "metadata": {},
     "output_type": "display_data"
    },
    {
     "name": "stderr",
     "output_type": "stream",
     "text": [
      "[I 2024-03-10 19:05:37,259] Trial 7 finished with value: 0.02308591993775795 and parameters: {'n_factors': 16, 'regularization': 0.0007148702087990536, 'iterations': 34}. Best is trial 2 with value: 0.029101508853853274.\n"
     ]
    },
    {
     "data": {
      "application/vnd.jupyter.widget-view+json": {
       "model_id": "8a0aab8448c642129b196302d207ab4c",
       "version_major": 2,
       "version_minor": 0
      },
      "text/plain": [
       "  0%|          | 0/1 [00:00<?, ?it/s]"
      ]
     },
     "metadata": {},
     "output_type": "display_data"
    },
    {
     "data": {
      "application/vnd.jupyter.widget-view+json": {
       "model_id": "21f1ae9289314d8999b32abb63137800",
       "version_major": 2,
       "version_minor": 0
      },
      "text/plain": [
       "  0%|          | 0/1 [00:00<?, ?it/s]"
      ]
     },
     "metadata": {},
     "output_type": "display_data"
    },
    {
     "name": "stderr",
     "output_type": "stream",
     "text": [
      "[I 2024-03-10 19:07:24,246] Trial 8 finished with value: 0.022082228628999716 and parameters: {'n_factors': 32, 'regularization': 0.0010407849141382452, 'iterations': 44}. Best is trial 2 with value: 0.029101508853853274.\n"
     ]
    },
    {
     "data": {
      "application/vnd.jupyter.widget-view+json": {
       "model_id": "cfecd301085d4c7fa7a1f15e53b6d4fa",
       "version_major": 2,
       "version_minor": 0
      },
      "text/plain": [
       "  0%|          | 0/1 [00:00<?, ?it/s]"
      ]
     },
     "metadata": {},
     "output_type": "display_data"
    },
    {
     "data": {
      "application/vnd.jupyter.widget-view+json": {
       "model_id": "0b0af4999571465b9b21beeefb4cd8ba",
       "version_major": 2,
       "version_minor": 0
      },
      "text/plain": [
       "  0%|          | 0/1 [00:00<?, ?it/s]"
      ]
     },
     "metadata": {},
     "output_type": "display_data"
    },
    {
     "name": "stderr",
     "output_type": "stream",
     "text": [
      "[I 2024-03-10 19:09:31,766] Trial 9 finished with value: 0.01984176108639078 and parameters: {'n_factors': 8, 'regularization': 0.0009806958903538212, 'iterations': 99}. Best is trial 2 with value: 0.029101508853853274.\n"
     ]
    }
   ],
   "source": [
    "als_study = optuna.create_study(direction=\"maximize\")\n",
    "metrics = {\"map@10\": MAP(k=10)}\n",
    "\n",
    "als_study.optimize(ALS_objective, n_trials=10, n_jobs=4)"
   ]
  },
  {
   "cell_type": "code",
   "execution_count": 47,
   "id": "14065ae3-ead7-4a7f-8359-3f406adb4a81",
   "metadata": {},
   "outputs": [
    {
     "data": {
      "text/plain": [
       "{'n_factors': 32, 'regularization': 0.001427161948235134, 'iterations': 100}"
      ]
     },
     "execution_count": 47,
     "metadata": {},
     "output_type": "execute_result"
    }
   ],
   "source": [
    "als_params = als_study.best_params\n",
    "als_params"
   ]
  },
  {
   "cell_type": "code",
   "execution_count": 14,
   "id": "428e51f6-160c-4ce8-a605-e5d0b2c37ee6",
   "metadata": {},
   "outputs": [],
   "source": [
    "lfm_params = {'no_components': 16, 'loss': 'warp', 'learning_rate': 0.00650683224731671}\n",
    "als_params = {'factors': 32, 'regularization': 0.001427161948235134, 'iterations': 100}"
   ]
  },
  {
   "cell_type": "markdown",
   "id": "eb4f3f2f-82e4-41c2-b9bc-a318c69fa9a8",
   "metadata": {},
   "source": [
    "# Metrics with best params"
   ]
  },
  {
   "cell_type": "code",
   "execution_count": 77,
   "id": "9c9577dc-04a6-483b-a8c5-d92c3fc2a5eb",
   "metadata": {},
   "outputs": [],
   "source": [
    "def train_models(interactions, models, metrics, k, cv):\n",
    "    \"\"\"\n",
    "    Calculate metrics based on cross-validation\n",
    "    \n",
    "    Parameters\n",
    "    -----------\n",
    "    interactions: pd.DataFrame with User-Item interactions\n",
    "    models: dict with initialized models\n",
    "    metrics: dict with initialized metrics\n",
    "    k: number of recommendations to generate\n",
    "    cv: initialized Splitter for cross validation\n",
    "    \"\"\"\n",
    "    results = []\n",
    "    fold_iterator = cv.split(Interactions(interactions), collect_fold_stats=True)\n",
    "\n",
    "    for train_ids, test_ids, fold_info in tqdm((fold_iterator), total=cv.n_splits):\n",
    "        print(f\"\\n==================== Fold {fold_info['i_split']}\")\n",
    "        print(fold_info)\n",
    "\n",
    "        # 1. Create Dataset\n",
    "        df_train = interactions.iloc[train_ids]\n",
    "        dataset = Dataset.construct(df_train)\n",
    "\n",
    "        df_test = interactions.iloc[test_ids][Columns.UserItem]\n",
    "        test_users = np.unique(df_test[Columns.User])\n",
    "\n",
    "        catalog = df_train[Columns.Item].unique()\n",
    "\n",
    "        for model_name, model in models.items():\n",
    "            # 2-3. Fit model and log the training time\n",
    "            start_time = time.time()\n",
    "            model.fit(dataset)\n",
    "            end_time = time.time()\n",
    "            recos = model.recommend(\n",
    "                users=test_users,\n",
    "                dataset=dataset,\n",
    "                k=K_RECOS,\n",
    "                filter_viewed=True,\n",
    "            )\n",
    "            # 4. Calculate and save metrics\n",
    "            metric_values = calc_metrics(\n",
    "                metrics,\n",
    "                reco=recos,\n",
    "                interactions=df_test,\n",
    "                prev_interactions=df_train,\n",
    "                catalog=catalog,\n",
    "            )\n",
    "            models[model_name] = deepcopy(model)\n",
    "            res = {\"fold\": fold_info[\"i_split\"], \"model\": model_name, \"time\": end_time - start_time}\n",
    "            res.update(metric_values)\n",
    "            results.append(res)\n",
    "            \n",
    "    return pd.DataFrame(results), models"
   ]
  },
  {
   "cell_type": "code",
   "execution_count": 78,
   "id": "1aa0bf90-308d-4a26-8317-29c7a21af353",
   "metadata": {},
   "outputs": [],
   "source": [
    "# calculate several metrics\n",
    "metrics = {\n",
    "    \"map@10\": MAP(k=10),\n",
    "    \"novelty\": MeanInvUserFreq(k=10),\n",
    "    \"prec@10\": Precision(k=10),\n",
    "    \"recall\": Recall(k=10),\n",
    "    \"serendipity\": Serendipity(k=10),\n",
    "}\n",
    "\n",
    "# models to compare\n",
    "models = {\n",
    "    # \"random\": RandomModel(random_state=RANDOM_STATE),\n",
    "    # \"popular\": PopularModel(),\n",
    "    \"LightFM\": LightFMWrapperModel(\n",
    "        LightFM(**lfm_params), \n",
    "        epochs=10, \n",
    "        num_threads=4\n",
    "    ),\n",
    "    \"ALS\": ImplicitALSWrapperModel(\n",
    "        AlternatingLeastSquares(\n",
    "            num_threads=4, \n",
    "            **als_params), \n",
    "        fit_features_together=True\n",
    "    ),\n",
    "}\n",
    "\n",
    "K_RECOS = 10\n",
    "\n",
    "n_splits = 3\n",
    "\n",
    "cv = TimeRangeSplitter(\n",
    "    test_size=\"7D\",\n",
    "    n_splits=n_splits,\n",
    "    filter_already_seen=True,\n",
    "    filter_cold_items=True,\n",
    "    filter_cold_users=True,\n",
    ")\n",
    "     "
   ]
  },
  {
   "cell_type": "code",
   "execution_count": 81,
   "id": "717f1dc9-6df3-4fc3-95c4-ea0953942294",
   "metadata": {
    "scrolled": true
   },
   "outputs": [
    {
     "name": "stderr",
     "output_type": "stream",
     "text": [
      "  0%|          | 0/3 [00:00<?, ?it/s]"
     ]
    },
    {
     "name": "stdout",
     "output_type": "stream",
     "text": [
      "\n",
      "==================== Fold 0\n",
      "{'i_split': 0, 'start': Timestamp('2021-08-02 00:00:00', freq='7D'), 'end': Timestamp('2021-08-09 00:00:00', freq='7D'), 'train': 4266013, 'train_users': 797423, 'train_items': 15237, 'test': 263681, 'test_users': 98184, 'test_items': 6602}\n"
     ]
    },
    {
     "name": "stderr",
     "output_type": "stream",
     "text": [
      " 33%|███▎      | 1/3 [07:23<14:46, 443.28s/it]"
     ]
    },
    {
     "name": "stdout",
     "output_type": "stream",
     "text": [
      "\n",
      "==================== Fold 1\n",
      "{'i_split': 1, 'start': Timestamp('2021-08-09 00:00:00', freq='7D'), 'end': Timestamp('2021-08-16 00:00:00', freq='7D'), 'train': 4649162, 'train_users': 850489, 'train_items': 15415, 'test': 279422, 'test_users': 103511, 'test_items': 6698}\n"
     ]
    },
    {
     "name": "stderr",
     "output_type": "stream",
     "text": [
      " 67%|██████▋   | 2/3 [14:53<07:27, 447.10s/it]"
     ]
    },
    {
     "name": "stdout",
     "output_type": "stream",
     "text": [
      "\n",
      "==================== Fold 2\n",
      "{'i_split': 2, 'start': Timestamp('2021-08-16 00:00:00', freq='7D'), 'end': Timestamp('2021-08-23 00:00:00', freq='7D'), 'train': 5051815, 'train_users': 906071, 'train_items': 15577, 'test': 298878, 'test_users': 110076, 'test_items': 6679}\n"
     ]
    },
    {
     "name": "stderr",
     "output_type": "stream",
     "text": [
      "100%|██████████| 3/3 [23:21<00:00, 467.18s/it]\n"
     ]
    }
   ],
   "source": [
    "res = train_models(interactions, models, metrics, K_RECOS, cv, )"
   ]
  },
  {
   "cell_type": "code",
   "execution_count": 84,
   "id": "49f03f04-daad-4c42-bb01-e2c1ade3e444",
   "metadata": {},
   "outputs": [
    {
     "data": {
      "text/html": [
       "<style type=\"text/css\">\n",
       "#T_cfde3_row0_col0, #T_cfde3_row0_col8, #T_cfde3_row0_col10, #T_cfde3_row1_col2, #T_cfde3_row1_col4, #T_cfde3_row1_col6 {\n",
       "  background-color: lightcoral;\n",
       "}\n",
       "#T_cfde3_row0_col2, #T_cfde3_row0_col4, #T_cfde3_row0_col6, #T_cfde3_row1_col0, #T_cfde3_row1_col8, #T_cfde3_row1_col10 {\n",
       "  background-color: lightgreen;\n",
       "}\n",
       "</style>\n",
       "<table id=\"T_cfde3\">\n",
       "  <thead>\n",
       "    <tr>\n",
       "      <th class=\"blank level0\" >&nbsp;</th>\n",
       "      <th id=\"T_cfde3_level0_col0\" class=\"col_heading level0 col0\" colspan=\"2\">time</th>\n",
       "      <th id=\"T_cfde3_level0_col2\" class=\"col_heading level0 col2\" colspan=\"2\">prec@10</th>\n",
       "      <th id=\"T_cfde3_level0_col4\" class=\"col_heading level0 col4\" colspan=\"2\">recall</th>\n",
       "      <th id=\"T_cfde3_level0_col6\" class=\"col_heading level0 col6\" colspan=\"2\">map@10</th>\n",
       "      <th id=\"T_cfde3_level0_col8\" class=\"col_heading level0 col8\" colspan=\"2\">novelty</th>\n",
       "      <th id=\"T_cfde3_level0_col10\" class=\"col_heading level0 col10\" colspan=\"2\">serendipity</th>\n",
       "    </tr>\n",
       "    <tr>\n",
       "      <th class=\"blank level1\" >&nbsp;</th>\n",
       "      <th id=\"T_cfde3_level1_col0\" class=\"col_heading level1 col0\" >mean</th>\n",
       "      <th id=\"T_cfde3_level1_col1\" class=\"col_heading level1 col1\" >std</th>\n",
       "      <th id=\"T_cfde3_level1_col2\" class=\"col_heading level1 col2\" >mean</th>\n",
       "      <th id=\"T_cfde3_level1_col3\" class=\"col_heading level1 col3\" >std</th>\n",
       "      <th id=\"T_cfde3_level1_col4\" class=\"col_heading level1 col4\" >mean</th>\n",
       "      <th id=\"T_cfde3_level1_col5\" class=\"col_heading level1 col5\" >std</th>\n",
       "      <th id=\"T_cfde3_level1_col6\" class=\"col_heading level1 col6\" >mean</th>\n",
       "      <th id=\"T_cfde3_level1_col7\" class=\"col_heading level1 col7\" >std</th>\n",
       "      <th id=\"T_cfde3_level1_col8\" class=\"col_heading level1 col8\" >mean</th>\n",
       "      <th id=\"T_cfde3_level1_col9\" class=\"col_heading level1 col9\" >std</th>\n",
       "      <th id=\"T_cfde3_level1_col10\" class=\"col_heading level1 col10\" >mean</th>\n",
       "      <th id=\"T_cfde3_level1_col11\" class=\"col_heading level1 col11\" >std</th>\n",
       "    </tr>\n",
       "    <tr>\n",
       "      <th class=\"index_name level0\" >model</th>\n",
       "      <th class=\"blank col0\" >&nbsp;</th>\n",
       "      <th class=\"blank col1\" >&nbsp;</th>\n",
       "      <th class=\"blank col2\" >&nbsp;</th>\n",
       "      <th class=\"blank col3\" >&nbsp;</th>\n",
       "      <th class=\"blank col4\" >&nbsp;</th>\n",
       "      <th class=\"blank col5\" >&nbsp;</th>\n",
       "      <th class=\"blank col6\" >&nbsp;</th>\n",
       "      <th class=\"blank col7\" >&nbsp;</th>\n",
       "      <th class=\"blank col8\" >&nbsp;</th>\n",
       "      <th class=\"blank col9\" >&nbsp;</th>\n",
       "      <th class=\"blank col10\" >&nbsp;</th>\n",
       "      <th class=\"blank col11\" >&nbsp;</th>\n",
       "    </tr>\n",
       "  </thead>\n",
       "  <tbody>\n",
       "    <tr>\n",
       "      <th id=\"T_cfde3_level0_row0\" class=\"row_heading level0 row0\" >LightFM</th>\n",
       "      <td id=\"T_cfde3_row0_col0\" class=\"data row0 col0\" >43.061583</td>\n",
       "      <td id=\"T_cfde3_row0_col1\" class=\"data row0 col1\" >4.208765</td>\n",
       "      <td id=\"T_cfde3_row0_col2\" class=\"data row0 col2\" >0.034414</td>\n",
       "      <td id=\"T_cfde3_row0_col3\" class=\"data row0 col3\" >0.001216</td>\n",
       "      <td id=\"T_cfde3_row0_col4\" class=\"data row0 col4\" >0.174772</td>\n",
       "      <td id=\"T_cfde3_row0_col5\" class=\"data row0 col5\" >0.007008</td>\n",
       "      <td id=\"T_cfde3_row0_col6\" class=\"data row0 col6\" >0.085739</td>\n",
       "      <td id=\"T_cfde3_row0_col7\" class=\"data row0 col7\" >0.004449</td>\n",
       "      <td id=\"T_cfde3_row0_col8\" class=\"data row0 col8\" >3.760885</td>\n",
       "      <td id=\"T_cfde3_row0_col9\" class=\"data row0 col9\" >0.007050</td>\n",
       "      <td id=\"T_cfde3_row0_col10\" class=\"data row0 col10\" >0.000004</td>\n",
       "      <td id=\"T_cfde3_row0_col11\" class=\"data row0 col11\" >0.000000</td>\n",
       "    </tr>\n",
       "    <tr>\n",
       "      <th id=\"T_cfde3_level0_row1\" class=\"row_heading level0 row1\" >ALS</th>\n",
       "      <td id=\"T_cfde3_row1_col0\" class=\"data row1 col0\" >392.496842</td>\n",
       "      <td id=\"T_cfde3_row1_col1\" class=\"data row1 col1\" >29.688062</td>\n",
       "      <td id=\"T_cfde3_row1_col2\" class=\"data row1 col2\" >0.017518</td>\n",
       "      <td id=\"T_cfde3_row1_col3\" class=\"data row1 col3\" >0.001246</td>\n",
       "      <td id=\"T_cfde3_row1_col4\" class=\"data row1 col4\" >0.085192</td>\n",
       "      <td id=\"T_cfde3_row1_col5\" class=\"data row1 col5\" >0.008174</td>\n",
       "      <td id=\"T_cfde3_row1_col6\" class=\"data row1 col6\" >0.035522</td>\n",
       "      <td id=\"T_cfde3_row1_col7\" class=\"data row1 col7\" >0.004407</td>\n",
       "      <td id=\"T_cfde3_row1_col8\" class=\"data row1 col8\" >6.792671</td>\n",
       "      <td id=\"T_cfde3_row1_col9\" class=\"data row1 col9\" >0.053396</td>\n",
       "      <td id=\"T_cfde3_row1_col10\" class=\"data row1 col10\" >0.000103</td>\n",
       "      <td id=\"T_cfde3_row1_col11\" class=\"data row1 col11\" >0.000006</td>\n",
       "    </tr>\n",
       "  </tbody>\n",
       "</table>\n"
      ],
      "text/plain": [
       "<pandas.io.formats.style.Styler at 0x7fa54279c880>"
      ]
     },
     "execution_count": 84,
     "metadata": {},
     "output_type": "execute_result"
    }
   ],
   "source": [
    "# Aggregate metrics by folds and compare models\n",
    "pivot_results = res[0].drop(columns=\"fold\").groupby([\"model\"], sort=False).agg([\"mean\", \"std\"])\n",
    "mean_metric_subset = [(metric, agg) for metric, agg in pivot_results.columns if agg == 'mean']\n",
    "(\n",
    "    pivot_results.style\n",
    "    .highlight_min(subset=mean_metric_subset, color='lightcoral', axis=0)\n",
    "    .highlight_max(subset=mean_metric_subset, color='lightgreen', axis=0)\n",
    ")"
   ]
  },
  {
   "cell_type": "markdown",
   "id": "5095275f-9995-4c45-be0f-943d7fc64088",
   "metadata": {},
   "source": [
    "# Prepare offline predictions and model file"
   ]
  },
  {
   "cell_type": "code",
   "execution_count": 15,
   "id": "7e98d0fb-7074-4f2c-9e10-384796d053d8",
   "metadata": {},
   "outputs": [
    {
     "name": "stdout",
     "output_type": "stream",
     "text": [
      "CPU times: user 1min 10s, sys: 301 ms, total: 1min 10s\n",
      "Wall time: 1min 10s\n"
     ]
    }
   ],
   "source": [
    "%%time\n",
    "lfm = LightFMWrapperModel(\n",
    "        model=LightFM(**lfm_params),\n",
    "        epochs=10,\n",
    "        num_threads=4,\n",
    "    ).fit(dataset)"
   ]
  },
  {
   "cell_type": "code",
   "execution_count": 16,
   "id": "0721140d-5544-4233-9c4c-925203f0481e",
   "metadata": {},
   "outputs": [
    {
     "data": {
      "text/html": [
       "<div>\n",
       "<style scoped>\n",
       "    .dataframe tbody tr th:only-of-type {\n",
       "        vertical-align: middle;\n",
       "    }\n",
       "\n",
       "    .dataframe tbody tr th {\n",
       "        vertical-align: top;\n",
       "    }\n",
       "\n",
       "    .dataframe thead th {\n",
       "        text-align: right;\n",
       "    }\n",
       "</style>\n",
       "<table border=\"1\" class=\"dataframe\">\n",
       "  <thead>\n",
       "    <tr style=\"text-align: right;\">\n",
       "      <th></th>\n",
       "      <th>user_id</th>\n",
       "      <th>item_id</th>\n",
       "      <th>score</th>\n",
       "      <th>rank</th>\n",
       "    </tr>\n",
       "  </thead>\n",
       "  <tbody>\n",
       "    <tr>\n",
       "      <th>0</th>\n",
       "      <td>176549</td>\n",
       "      <td>9728</td>\n",
       "      <td>-101.625275</td>\n",
       "      <td>1</td>\n",
       "    </tr>\n",
       "    <tr>\n",
       "      <th>1</th>\n",
       "      <td>176549</td>\n",
       "      <td>13865</td>\n",
       "      <td>-101.654694</td>\n",
       "      <td>2</td>\n",
       "    </tr>\n",
       "    <tr>\n",
       "      <th>2</th>\n",
       "      <td>176549</td>\n",
       "      <td>10440</td>\n",
       "      <td>-101.963867</td>\n",
       "      <td>3</td>\n",
       "    </tr>\n",
       "    <tr>\n",
       "      <th>3</th>\n",
       "      <td>176549</td>\n",
       "      <td>3734</td>\n",
       "      <td>-102.229713</td>\n",
       "      <td>4</td>\n",
       "    </tr>\n",
       "    <tr>\n",
       "      <th>4</th>\n",
       "      <td>176549</td>\n",
       "      <td>7829</td>\n",
       "      <td>-102.305252</td>\n",
       "      <td>5</td>\n",
       "    </tr>\n",
       "  </tbody>\n",
       "</table>\n",
       "</div>"
      ],
      "text/plain": [
       "   user_id  item_id       score  rank\n",
       "0   176549     9728 -101.625275     1\n",
       "1   176549    13865 -101.654694     2\n",
       "2   176549    10440 -101.963867     3\n",
       "3   176549     3734 -102.229713     4\n",
       "4   176549     7829 -102.305252     5"
      ]
     },
     "execution_count": 16,
     "metadata": {},
     "output_type": "execute_result"
    }
   ],
   "source": [
    "lfm_recs = lfm.recommend(\n",
    "    dataset.user_id_map.external_ids,\n",
    "    dataset=dataset,\n",
    "    k=10,\n",
    "    filter_viewed=False,\n",
    ")\n",
    "\n",
    "lfm_recs.head()   "
   ]
  },
  {
   "cell_type": "code",
   "execution_count": 17,
   "id": "02f79a39-dcaf-4866-864b-9d8a44924fbe",
   "metadata": {},
   "outputs": [],
   "source": [
    "lfm_recs = (\n",
    "    lfm_recs.groupby([\"user_id\"])\n",
    "    .agg({\"item_id\": lambda x: x.tolist()})\n",
    "    .reset_index()\n",
    "    .set_index(\"user_id\")\n",
    "    .to_dict()[\"item_id\"]\n",
    ")"
   ]
  },
  {
   "cell_type": "code",
   "execution_count": 18,
   "id": "d962429e-0ee3-411a-b81f-5f4090f5d5bc",
   "metadata": {},
   "outputs": [],
   "source": [
    "import dill\n",
    "\n",
    "with open(f\"{RESULTS_PATH}/lfm_recs.dill\", \"wb\") as file:\n",
    "    dill.dump(lfm_recs, file)"
   ]
  },
  {
   "cell_type": "code",
   "execution_count": 19,
   "id": "ccbb90fc-ee36-4ec9-ace7-af5c750bacdb",
   "metadata": {},
   "outputs": [],
   "source": [
    "with open(f\"{RESULTS_PATH}/lfm_model.dill\", 'wb') as f:\n",
    "      dill.dump(lfm.model, f)"
   ]
  },
  {
   "cell_type": "markdown",
   "id": "307cb426-2d6b-4c5a-85e1-0b3f039a07c5",
   "metadata": {},
   "source": [
    "# Test online inference"
   ]
  },
  {
   "cell_type": "code",
   "execution_count": 26,
   "id": "58cbb6fd-9aac-4358-97b2-9b06a10a8c46",
   "metadata": {},
   "outputs": [],
   "source": [
    "import dill\n",
    "import numpy as np\n",
    "import yaml\n",
    "import timeit\n",
    "\n",
    "class LightFMWrapperCustom:\n",
    "    def __init__(self):\n",
    "        self.model = None\n",
    "        self.users_mapping, self.items_inv_mapping = None, None\n",
    "        self.__load_models()\n",
    "\n",
    "    def recommend(self, user_id, n_recs=10):\n",
    "        user_inner_idx = self.users_mapping[user_id[0]]\n",
    "        items_embedding, user_embedding = self.__get_embeddings(user_inner_idx)\n",
    "        scores = items_embedding @ user_embedding\n",
    "        top_score_ids = scores.argsort()[-n_recs:][::-1]\n",
    "        items_to_recommend = [\n",
    "            self.items_inv_mapping[item] for item in top_score_ids if\n",
    "            item in self.items_inv_mapping\n",
    "        ]\n",
    "        return items_to_recommend\n",
    "\n",
    "    def __get_embeddings(self, user_inner_idx):\n",
    "        user_biases, user_embedding = (\n",
    "            self.model.get_user_representations()[0][user_inner_idx],\n",
    "            self.model.get_user_representations()[1][user_inner_idx],\n",
    "        )\n",
    "        items_biases, items_embedding = self.model.get_item_representations()\n",
    "        items_embedding = items_embedding[:len(self.items_inv_mapping), :]\n",
    "        items_biases = items_biases[:len(self.items_inv_mapping)]\n",
    "        user_embedding = np.hstack(\n",
    "            (\n",
    "                user_biases, np.ones(user_biases.size),\n",
    "                user_embedding,\n",
    "            ),\n",
    "        )\n",
    "        items_embedding = np.hstack(\n",
    "            (\n",
    "                np.ones((items_biases.size, 1)),\n",
    "                items_biases[:, np.newaxis],\n",
    "                items_embedding,\n",
    "            ),\n",
    "        )\n",
    "        return items_embedding, user_embedding\n",
    "\n",
    "    def __load_models(self):\n",
    "        with open(f'{RESULTS_PATH}/lfm_model.dill', 'rb') as f:\n",
    "            self.model = dill.load(f)\n",
    "\n",
    "        with open(\n",
    "            f'{RESULTS_PATH}/users_mapping.dill',\n",
    "            'rb',\n",
    "        ) as f:\n",
    "            self.users_mapping = dill.load(f)\n",
    "\n",
    "        with open(\n",
    "            f'{RESULTS_PATH}/items_inv_mapping.dill',\n",
    "            'rb',\n",
    "        ) as f:\n",
    "            self.items_inv_mapping = dill.load(f)"
   ]
  },
  {
   "cell_type": "code",
   "execution_count": 20,
   "id": "e377329d-ef1a-4c05-8a20-f98312539e80",
   "metadata": {},
   "outputs": [],
   "source": [
    "def get_mapping(train_df, col):\n",
    "  inv_mapping = dict(enumerate(train_df[col].unique()))\n",
    "  mapping = {v: k for k, v in inv_mapping.items()}\n",
    "  return inv_mapping, mapping"
   ]
  },
  {
   "cell_type": "code",
   "execution_count": 21,
   "id": "ca594fb0-fb53-42ca-ac1e-ef6a338976a9",
   "metadata": {},
   "outputs": [],
   "source": [
    "users_inv_mapping, users_mapping = get_mapping(train, 'user_id')\n",
    "items_inv_mapping, items_mapping = get_mapping(train, 'item_id')"
   ]
  },
  {
   "cell_type": "code",
   "execution_count": 22,
   "id": "ebc7cba7-8a92-4a0f-a138-a9d01235c54f",
   "metadata": {},
   "outputs": [],
   "source": [
    "with open(f'{RESULTS_PATH}/users_mapping.dill', 'wb') as f:\n",
    "    dill.dump(users_mapping, f)\n",
    "\n",
    "with open(f'{RESULTS_PATH}/items_inv_mapping.dill', 'wb') as f:\n",
    "    dill.dump(items_inv_mapping, f)\n",
    "\n",
    "with open(f'{RESULTS_PATH}/lfm_model.dill', 'wb') as f:\n",
    "      dill.dump(lfm.model, f)"
   ]
  },
  {
   "cell_type": "code",
   "execution_count": 27,
   "id": "daeceb58-9ea7-4e75-a332-c0869547c788",
   "metadata": {},
   "outputs": [],
   "source": [
    "lightfm_model = LightFMWrapperCustom()"
   ]
  },
  {
   "cell_type": "code",
   "execution_count": 28,
   "id": "3f648977-efb4-430d-be21-6079c0338782",
   "metadata": {},
   "outputs": [
    {
     "name": "stdout",
     "output_type": "stream",
     "text": [
      "CPU times: user 5.91 ms, sys: 13.2 ms, total: 19.1 ms\n",
      "Wall time: 6.69 ms\n"
     ]
    },
    {
     "data": {
      "text/plain": [
       "[4740, 6809, 15297, 4151, 3734, 10440, 4880, 9728, 13865, 9996]"
      ]
     },
     "execution_count": 28,
     "metadata": {},
     "output_type": "execute_result"
    }
   ],
   "source": [
    "%%time\n",
    "lightfm_model.recommend([19990])"
   ]
  }
 ],
 "metadata": {
  "kernelspec": {
   "display_name": "Python 3 (ipykernel)",
   "language": "python",
   "name": "python3"
  },
  "language_info": {
   "codemirror_mode": {
    "name": "ipython",
    "version": 3
   },
   "file_extension": ".py",
   "mimetype": "text/x-python",
   "name": "python",
   "nbconvert_exporter": "python",
   "pygments_lexer": "ipython3",
   "version": "3.8.18"
  }
 },
 "nbformat": 4,
 "nbformat_minor": 5
}
