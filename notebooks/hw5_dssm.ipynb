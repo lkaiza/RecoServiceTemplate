{
 "cells": [
  {
   "cell_type": "code",
   "execution_count": 3,
   "metadata": {
    "id": "6b6Hgpt7vnbN"
   },
   "outputs": [],
   "source": [
    "import ast\n",
    "import dill\n",
    "import json\n",
    "import matplotlib.pyplot as plt\n",
    "import numpy as np\n",
    "import os\n",
    "import pandas as pd\n",
    "import pickle\n",
    "import tensorflow as tf\n",
    "import tensorflow.keras.backend as K\n",
    "import warnings\n",
    "warnings.filterwarnings('ignore')\n",
    "\n",
    "from collections import Counter\n",
    "from random import randint, random\n",
    "from scipy.sparse import coo_matrix, hstack\n",
    "from sklearn.metrics.pairwise import euclidean_distances, cosine_distances, cosine_similarity\n",
    "from sklearn.metrics.pairwise import euclidean_distances as ED\n",
    "# from tensorflow import keras\n",
    "from tqdm import tqdm\n",
    "\n",
    "# import requests\n",
    "# import gc\n",
    "\n",
    "from scipy import spatial"
   ]
  },
  {
   "cell_type": "code",
   "execution_count": 5,
   "metadata": {
    "id": "sA7aaNrbyTGr"
   },
   "outputs": [],
   "source": [
    "RANDOM_SEED = 42\n",
    "K_RECOS = 10\n",
    "\n",
    "DATA_PATH = \"data/kion_train\"\n",
    "RESULTS_PATH = \"results/hw5\""
   ]
  },
  {
   "cell_type": "code",
   "execution_count": null,
   "metadata": {
    "id": "rimapZhEv1be"
   },
   "outputs": [],
   "source": [
    "# url = \"https://github.com/irsafilo/KION_DATASET/raw/f69775be31fa5779907cf0a92ddedb70037fb5ae/data_original.zip\""
   ]
  },
  {
   "cell_type": "code",
   "execution_count": null,
   "metadata": {
    "colab": {
     "base_uri": "https://localhost:8080/"
    },
    "id": "bk2JZCotwjay",
    "outputId": "075b6a4e-2758-4d5b-deb4-82dda93da3ea"
   },
   "outputs": [
    {
     "name": "stderr",
     "output_type": "stream",
     "text": [
      "kion dataset download:  92%|█████████▏| 72.4M/78.8M [00:01<00:00, 74.4MiB/s]"
     ]
    }
   ],
   "source": [
    "\n",
    "# req = requests.get(url, stream=True)\n",
    "\n",
    "# with open(\"kion.zip\", \"wb\") as fd:\n",
    "#     total_size_in_bytes = int(req.headers.get(\"Content-Length\", 0))\n",
    "#     progress_bar = tqdm(desc=\"kion dataset download\", total=total_size_in_bytes, unit=\"iB\", unit_scale=True)\n",
    "#     for chunk in req.iter_content(chunk_size=2**20):\n",
    "#         progress_bar.update(len(chunk))\n",
    "#         fd.write(chunk)"
   ]
  },
  {
   "cell_type": "code",
   "execution_count": null,
   "metadata": {
    "id": "lwIL7YlVwlst"
   },
   "outputs": [],
   "source": [
    "# import zipfile as zf\n",
    "\n",
    "# files = zf.ZipFile(\"kion.zip\", \"r\")\n",
    "# files.extractall()\n",
    "# files.close()"
   ]
  },
  {
   "cell_type": "code",
   "execution_count": 8,
   "metadata": {
    "id": "G6aYajRSwt6p"
   },
   "outputs": [],
   "source": [
    "interactions = pd.read_csv(f'{DATA_PATH}/interactions.csv', parse_dates=[\"last_watch_dt\"])\n",
    "\n",
    "interactions.rename(\n",
    "    columns={\n",
    "        \"total_dur\": \"weight\", \n",
    "        \"last_watch_dt\": \"datetime\"\n",
    "    }, \n",
    "    inplace=True) \n",
    "\n",
    "users = pd.read_csv(f'{DATA_PATH}/users.csv')\n",
    "\n",
    "items = pd.read_csv(f'{DATA_PATH}/items.csv')\n",
    "items = items.rename(columns = {'id' : 'item_id'})"
   ]
  },
  {
   "cell_type": "markdown",
   "metadata": {
    "id": "WOpGqQ45zOe5"
   },
   "source": [
    "# Prepare user features"
   ]
  },
  {
   "cell_type": "code",
   "execution_count": 9,
   "metadata": {
    "colab": {
     "base_uri": "https://localhost:8080/",
     "height": 226
    },
    "id": "iJOg8o9mxpH6",
    "outputId": "bcb45183-7348-4d78-df69-0a93e641fcf9"
   },
   "outputs": [
    {
     "data": {
      "text/html": [
       "<div>\n",
       "<style scoped>\n",
       "    .dataframe tbody tr th:only-of-type {\n",
       "        vertical-align: middle;\n",
       "    }\n",
       "\n",
       "    .dataframe tbody tr th {\n",
       "        vertical-align: top;\n",
       "    }\n",
       "\n",
       "    .dataframe thead th {\n",
       "        text-align: right;\n",
       "    }\n",
       "</style>\n",
       "<table border=\"1\" class=\"dataframe\">\n",
       "  <thead>\n",
       "    <tr style=\"text-align: right;\">\n",
       "      <th></th>\n",
       "      <th>user_id</th>\n",
       "      <th>age_age_18_24</th>\n",
       "      <th>age_age_25_34</th>\n",
       "      <th>age_age_35_44</th>\n",
       "      <th>age_age_45_54</th>\n",
       "      <th>age_age_55_64</th>\n",
       "      <th>age_age_65_inf</th>\n",
       "      <th>income_income_0_20</th>\n",
       "      <th>income_income_150_inf</th>\n",
       "      <th>income_income_20_40</th>\n",
       "      <th>income_income_40_60</th>\n",
       "      <th>income_income_60_90</th>\n",
       "      <th>income_income_90_150</th>\n",
       "      <th>sex_Ж</th>\n",
       "      <th>sex_М</th>\n",
       "      <th>kids_flg_0</th>\n",
       "      <th>kids_flg_1</th>\n",
       "    </tr>\n",
       "  </thead>\n",
       "  <tbody>\n",
       "    <tr>\n",
       "      <th>0</th>\n",
       "      <td>973171</td>\n",
       "      <td>False</td>\n",
       "      <td>True</td>\n",
       "      <td>False</td>\n",
       "      <td>False</td>\n",
       "      <td>False</td>\n",
       "      <td>False</td>\n",
       "      <td>False</td>\n",
       "      <td>False</td>\n",
       "      <td>False</td>\n",
       "      <td>False</td>\n",
       "      <td>True</td>\n",
       "      <td>False</td>\n",
       "      <td>False</td>\n",
       "      <td>True</td>\n",
       "      <td>False</td>\n",
       "      <td>True</td>\n",
       "    </tr>\n",
       "    <tr>\n",
       "      <th>1</th>\n",
       "      <td>962099</td>\n",
       "      <td>True</td>\n",
       "      <td>False</td>\n",
       "      <td>False</td>\n",
       "      <td>False</td>\n",
       "      <td>False</td>\n",
       "      <td>False</td>\n",
       "      <td>False</td>\n",
       "      <td>False</td>\n",
       "      <td>True</td>\n",
       "      <td>False</td>\n",
       "      <td>False</td>\n",
       "      <td>False</td>\n",
       "      <td>False</td>\n",
       "      <td>True</td>\n",
       "      <td>True</td>\n",
       "      <td>False</td>\n",
       "    </tr>\n",
       "    <tr>\n",
       "      <th>2</th>\n",
       "      <td>1047345</td>\n",
       "      <td>False</td>\n",
       "      <td>False</td>\n",
       "      <td>False</td>\n",
       "      <td>True</td>\n",
       "      <td>False</td>\n",
       "      <td>False</td>\n",
       "      <td>False</td>\n",
       "      <td>False</td>\n",
       "      <td>False</td>\n",
       "      <td>True</td>\n",
       "      <td>False</td>\n",
       "      <td>False</td>\n",
       "      <td>True</td>\n",
       "      <td>False</td>\n",
       "      <td>True</td>\n",
       "      <td>False</td>\n",
       "    </tr>\n",
       "    <tr>\n",
       "      <th>3</th>\n",
       "      <td>721985</td>\n",
       "      <td>False</td>\n",
       "      <td>False</td>\n",
       "      <td>False</td>\n",
       "      <td>True</td>\n",
       "      <td>False</td>\n",
       "      <td>False</td>\n",
       "      <td>False</td>\n",
       "      <td>False</td>\n",
       "      <td>True</td>\n",
       "      <td>False</td>\n",
       "      <td>False</td>\n",
       "      <td>False</td>\n",
       "      <td>True</td>\n",
       "      <td>False</td>\n",
       "      <td>True</td>\n",
       "      <td>False</td>\n",
       "    </tr>\n",
       "    <tr>\n",
       "      <th>4</th>\n",
       "      <td>704055</td>\n",
       "      <td>False</td>\n",
       "      <td>False</td>\n",
       "      <td>True</td>\n",
       "      <td>False</td>\n",
       "      <td>False</td>\n",
       "      <td>False</td>\n",
       "      <td>False</td>\n",
       "      <td>False</td>\n",
       "      <td>False</td>\n",
       "      <td>False</td>\n",
       "      <td>True</td>\n",
       "      <td>False</td>\n",
       "      <td>True</td>\n",
       "      <td>False</td>\n",
       "      <td>True</td>\n",
       "      <td>False</td>\n",
       "    </tr>\n",
       "  </tbody>\n",
       "</table>\n",
       "</div>"
      ],
      "text/plain": [
       "   user_id  age_age_18_24  age_age_25_34  age_age_35_44  age_age_45_54  \\\n",
       "0   973171          False           True          False          False   \n",
       "1   962099           True          False          False          False   \n",
       "2  1047345          False          False          False           True   \n",
       "3   721985          False          False          False           True   \n",
       "4   704055          False          False           True          False   \n",
       "\n",
       "   age_age_55_64  age_age_65_inf  income_income_0_20  income_income_150_inf  \\\n",
       "0          False           False               False                  False   \n",
       "1          False           False               False                  False   \n",
       "2          False           False               False                  False   \n",
       "3          False           False               False                  False   \n",
       "4          False           False               False                  False   \n",
       "\n",
       "   income_income_20_40  income_income_40_60  income_income_60_90  \\\n",
       "0                False                False                 True   \n",
       "1                 True                False                False   \n",
       "2                False                 True                False   \n",
       "3                 True                False                False   \n",
       "4                False                False                 True   \n",
       "\n",
       "   income_income_90_150  sex_Ж  sex_М  kids_flg_0  kids_flg_1  \n",
       "0                 False  False   True       False        True  \n",
       "1                 False  False   True        True       False  \n",
       "2                 False   True  False        True       False  \n",
       "3                 False   True  False        True       False  \n",
       "4                 False   True  False        True       False  "
      ]
     },
     "execution_count": 9,
     "metadata": {},
     "output_type": "execute_result"
    }
   ],
   "source": [
    "user_cat_feats = [\"age\", \"income\", \"sex\", \"kids_flg\"]\n",
    "users_ohe = users.user_id\n",
    "for feat in user_cat_feats:\n",
    "    ohe_feat = pd.get_dummies(users[feat], prefix=feat)\n",
    "    users_ohe = pd.concat([users_ohe, ohe_feat], axis=1)\n",
    "\n",
    "users_ohe.head()"
   ]
  },
  {
   "cell_type": "markdown",
   "metadata": {
    "id": "NZqW_fNczTd9"
   },
   "source": [
    "# Prepare item features"
   ]
  },
  {
   "cell_type": "code",
   "execution_count": 10,
   "metadata": {
    "colab": {
     "base_uri": "https://localhost:8080/",
     "height": 188
    },
    "id": "-Eqp3DCZyB8l",
    "outputId": "a4ddff28-be6e-45ca-8a75-7f4b046cd95e"
   },
   "outputs": [
    {
     "data": {
      "text/html": [
       "<div>\n",
       "<style scoped>\n",
       "    .dataframe tbody tr th:only-of-type {\n",
       "        vertical-align: middle;\n",
       "    }\n",
       "\n",
       "    .dataframe tbody tr th {\n",
       "        vertical-align: top;\n",
       "    }\n",
       "\n",
       "    .dataframe thead th {\n",
       "        text-align: right;\n",
       "    }\n",
       "</style>\n",
       "<table border=\"1\" class=\"dataframe\">\n",
       "  <thead>\n",
       "    <tr style=\"text-align: right;\">\n",
       "      <th></th>\n",
       "      <th>item_id</th>\n",
       "      <th>content_type</th>\n",
       "      <th>title</th>\n",
       "      <th>title_orig</th>\n",
       "      <th>release_year</th>\n",
       "      <th>genres</th>\n",
       "      <th>countries</th>\n",
       "      <th>for_kids</th>\n",
       "      <th>age_rating</th>\n",
       "      <th>studios</th>\n",
       "      <th>directors</th>\n",
       "      <th>actors</th>\n",
       "      <th>description</th>\n",
       "      <th>keywords</th>\n",
       "      <th>country</th>\n",
       "    </tr>\n",
       "  </thead>\n",
       "  <tbody>\n",
       "    <tr>\n",
       "      <th>0</th>\n",
       "      <td>10711</td>\n",
       "      <td>film</td>\n",
       "      <td>Поговори с ней</td>\n",
       "      <td>Hable con ella</td>\n",
       "      <td>2002.0</td>\n",
       "      <td>драмы, зарубежные, детективы, мелодрамы</td>\n",
       "      <td>Испания</td>\n",
       "      <td>NaN</td>\n",
       "      <td>16.0</td>\n",
       "      <td>NaN</td>\n",
       "      <td>Педро Альмодовар</td>\n",
       "      <td>Адольфо Фернандес, Ана Фернандес, Дарио Гранди...</td>\n",
       "      <td>Мелодрама легендарного Педро Альмодовара «Пого...</td>\n",
       "      <td>Поговори, ней, 2002, Испания, друзья, любовь, ...</td>\n",
       "      <td>испания</td>\n",
       "    </tr>\n",
       "  </tbody>\n",
       "</table>\n",
       "</div>"
      ],
      "text/plain": [
       "   item_id content_type           title      title_orig  release_year  \\\n",
       "0    10711         film  Поговори с ней  Hable con ella        2002.0   \n",
       "\n",
       "                                    genres countries  for_kids  age_rating  \\\n",
       "0  драмы, зарубежные, детективы, мелодрамы   Испания       NaN        16.0   \n",
       "\n",
       "  studios         directors  \\\n",
       "0     NaN  Педро Альмодовар   \n",
       "\n",
       "                                              actors  \\\n",
       "0  Адольфо Фернандес, Ана Фернандес, Дарио Гранди...   \n",
       "\n",
       "                                         description  \\\n",
       "0  Мелодрама легендарного Педро Альмодовара «Пого...   \n",
       "\n",
       "                                            keywords  country  \n",
       "0  Поговори, ней, 2002, Испания, друзья, любовь, ...  испания  "
      ]
     },
     "execution_count": 10,
     "metadata": {},
     "output_type": "execute_result"
    }
   ],
   "source": [
    "items[\"country\"] = items[\"countries\"].str.lower().str.replace(\", \", \",\", regex=False).str.split(\",\")\n",
    "items[\"country\"] = items[\"country\"].fillna(' ')\n",
    "items[\"country\"] = items[\"country\"].apply(lambda x: x[0])\n",
    "items.head(1)"
   ]
  },
  {
   "cell_type": "code",
   "execution_count": 11,
   "metadata": {
    "colab": {
     "base_uri": "https://localhost:8080/"
    },
    "id": "W_2F1EfvyChu",
    "outputId": "8ddb5957-0752-47d9-da92-21fe46c7e5e7"
   },
   "outputs": [
    {
     "data": {
      "text/plain": [
       "86"
      ]
     },
     "execution_count": 11,
     "metadata": {},
     "output_type": "execute_result"
    }
   ],
   "source": [
    "items['country'].nunique()"
   ]
  },
  {
   "cell_type": "code",
   "execution_count": 12,
   "metadata": {
    "colab": {
     "base_uri": "https://localhost:8080/",
     "height": 256
    },
    "id": "xdlxuT4iyCqV",
    "outputId": "27117ef5-98b3-4658-efe5-7ab523e0e668"
   },
   "outputs": [
    {
     "data": {
      "text/html": [
       "<div>\n",
       "<style scoped>\n",
       "    .dataframe tbody tr th:only-of-type {\n",
       "        vertical-align: middle;\n",
       "    }\n",
       "\n",
       "    .dataframe tbody tr th {\n",
       "        vertical-align: top;\n",
       "    }\n",
       "\n",
       "    .dataframe thead th {\n",
       "        text-align: right;\n",
       "    }\n",
       "</style>\n",
       "<table border=\"1\" class=\"dataframe\">\n",
       "  <thead>\n",
       "    <tr style=\"text-align: right;\">\n",
       "      <th></th>\n",
       "      <th>item_id</th>\n",
       "      <th>content_type_film</th>\n",
       "      <th>content_type_series</th>\n",
       "      <th>for_kids_0.0</th>\n",
       "      <th>for_kids_1.0</th>\n",
       "      <th>age_rating_0.0</th>\n",
       "      <th>age_rating_6.0</th>\n",
       "      <th>age_rating_12.0</th>\n",
       "      <th>age_rating_16.0</th>\n",
       "      <th>age_rating_18.0</th>\n",
       "      <th>...</th>\n",
       "      <th>country_хорватия</th>\n",
       "      <th>country_чехия</th>\n",
       "      <th>country_чили</th>\n",
       "      <th>country_швейцария</th>\n",
       "      <th>country_швеция</th>\n",
       "      <th>country_эквадор</th>\n",
       "      <th>country_эстония</th>\n",
       "      <th>country_юар</th>\n",
       "      <th>country_югославия</th>\n",
       "      <th>country_япония</th>\n",
       "    </tr>\n",
       "  </thead>\n",
       "  <tbody>\n",
       "    <tr>\n",
       "      <th>0</th>\n",
       "      <td>10711</td>\n",
       "      <td>True</td>\n",
       "      <td>False</td>\n",
       "      <td>False</td>\n",
       "      <td>False</td>\n",
       "      <td>False</td>\n",
       "      <td>False</td>\n",
       "      <td>False</td>\n",
       "      <td>True</td>\n",
       "      <td>False</td>\n",
       "      <td>...</td>\n",
       "      <td>False</td>\n",
       "      <td>False</td>\n",
       "      <td>False</td>\n",
       "      <td>False</td>\n",
       "      <td>False</td>\n",
       "      <td>False</td>\n",
       "      <td>False</td>\n",
       "      <td>False</td>\n",
       "      <td>False</td>\n",
       "      <td>False</td>\n",
       "    </tr>\n",
       "    <tr>\n",
       "      <th>1</th>\n",
       "      <td>2508</td>\n",
       "      <td>True</td>\n",
       "      <td>False</td>\n",
       "      <td>False</td>\n",
       "      <td>False</td>\n",
       "      <td>False</td>\n",
       "      <td>False</td>\n",
       "      <td>False</td>\n",
       "      <td>True</td>\n",
       "      <td>False</td>\n",
       "      <td>...</td>\n",
       "      <td>False</td>\n",
       "      <td>False</td>\n",
       "      <td>False</td>\n",
       "      <td>False</td>\n",
       "      <td>False</td>\n",
       "      <td>False</td>\n",
       "      <td>False</td>\n",
       "      <td>False</td>\n",
       "      <td>False</td>\n",
       "      <td>False</td>\n",
       "    </tr>\n",
       "    <tr>\n",
       "      <th>2</th>\n",
       "      <td>10716</td>\n",
       "      <td>True</td>\n",
       "      <td>False</td>\n",
       "      <td>False</td>\n",
       "      <td>False</td>\n",
       "      <td>False</td>\n",
       "      <td>False</td>\n",
       "      <td>False</td>\n",
       "      <td>True</td>\n",
       "      <td>False</td>\n",
       "      <td>...</td>\n",
       "      <td>False</td>\n",
       "      <td>False</td>\n",
       "      <td>False</td>\n",
       "      <td>False</td>\n",
       "      <td>False</td>\n",
       "      <td>False</td>\n",
       "      <td>False</td>\n",
       "      <td>False</td>\n",
       "      <td>False</td>\n",
       "      <td>False</td>\n",
       "    </tr>\n",
       "    <tr>\n",
       "      <th>3</th>\n",
       "      <td>7868</td>\n",
       "      <td>True</td>\n",
       "      <td>False</td>\n",
       "      <td>False</td>\n",
       "      <td>False</td>\n",
       "      <td>False</td>\n",
       "      <td>False</td>\n",
       "      <td>False</td>\n",
       "      <td>True</td>\n",
       "      <td>False</td>\n",
       "      <td>...</td>\n",
       "      <td>False</td>\n",
       "      <td>False</td>\n",
       "      <td>False</td>\n",
       "      <td>False</td>\n",
       "      <td>False</td>\n",
       "      <td>False</td>\n",
       "      <td>False</td>\n",
       "      <td>False</td>\n",
       "      <td>False</td>\n",
       "      <td>False</td>\n",
       "    </tr>\n",
       "    <tr>\n",
       "      <th>4</th>\n",
       "      <td>16268</td>\n",
       "      <td>True</td>\n",
       "      <td>False</td>\n",
       "      <td>False</td>\n",
       "      <td>False</td>\n",
       "      <td>False</td>\n",
       "      <td>False</td>\n",
       "      <td>True</td>\n",
       "      <td>False</td>\n",
       "      <td>False</td>\n",
       "      <td>...</td>\n",
       "      <td>False</td>\n",
       "      <td>False</td>\n",
       "      <td>False</td>\n",
       "      <td>False</td>\n",
       "      <td>False</td>\n",
       "      <td>False</td>\n",
       "      <td>False</td>\n",
       "      <td>False</td>\n",
       "      <td>False</td>\n",
       "      <td>False</td>\n",
       "    </tr>\n",
       "  </tbody>\n",
       "</table>\n",
       "<p>5 rows × 135 columns</p>\n",
       "</div>"
      ],
      "text/plain": [
       "   item_id  content_type_film  content_type_series  for_kids_0.0  \\\n",
       "0    10711               True                False         False   \n",
       "1     2508               True                False         False   \n",
       "2    10716               True                False         False   \n",
       "3     7868               True                False         False   \n",
       "4    16268               True                False         False   \n",
       "\n",
       "   for_kids_1.0  age_rating_0.0  age_rating_6.0  age_rating_12.0  \\\n",
       "0         False           False           False            False   \n",
       "1         False           False           False            False   \n",
       "2         False           False           False            False   \n",
       "3         False           False           False            False   \n",
       "4         False           False           False             True   \n",
       "\n",
       "   age_rating_16.0  age_rating_18.0  ...  country_хорватия  country_чехия  \\\n",
       "0             True            False  ...             False          False   \n",
       "1             True            False  ...             False          False   \n",
       "2             True            False  ...             False          False   \n",
       "3             True            False  ...             False          False   \n",
       "4            False            False  ...             False          False   \n",
       "\n",
       "   country_чили  country_швейцария  country_швеция  country_эквадор  \\\n",
       "0         False              False           False            False   \n",
       "1         False              False           False            False   \n",
       "2         False              False           False            False   \n",
       "3         False              False           False            False   \n",
       "4         False              False           False            False   \n",
       "\n",
       "   country_эстония  country_юар  country_югославия  country_япония  \n",
       "0            False        False              False           False  \n",
       "1            False        False              False           False  \n",
       "2            False        False              False           False  \n",
       "3            False        False              False           False  \n",
       "4            False        False              False           False  \n",
       "\n",
       "[5 rows x 135 columns]"
      ]
     },
     "execution_count": 12,
     "metadata": {},
     "output_type": "execute_result"
    }
   ],
   "source": [
    "item_cat_feats = ['content_type', 'for_kids', 'age_rating', 'studios', 'country']\n",
    "\n",
    "items_ohe = items.item_id\n",
    "\n",
    "for feat in item_cat_feats:\n",
    "    ohe_feat = pd.get_dummies(items[feat], prefix=feat)\n",
    "    items_ohe = pd.concat([items_ohe, ohe_feat], axis=1)\n",
    "\n",
    "items_ohe.head()"
   ]
  },
  {
   "cell_type": "markdown",
   "metadata": {
    "id": "rokIglQqzvEy"
   },
   "source": [
    "# Filter interactions"
   ]
  },
  {
   "cell_type": "code",
   "execution_count": 13,
   "metadata": {
    "colab": {
     "base_uri": "https://localhost:8080/"
    },
    "id": "I4xgg6mizv23",
    "outputId": "41a6a8f5-60b2-489d-e1b5-fe745273f4b0"
   },
   "outputs": [
    {
     "name": "stdout",
     "output_type": "stream",
     "text": [
      "N users before: 962179\n",
      "N items before: 15706\n",
      "\n",
      "N users after: 170682\n",
      "N items after: 6901\n"
     ]
    }
   ],
   "source": [
    "print(f\"N users before: {interactions.user_id.nunique()}\")\n",
    "print(f\"N items before: {interactions.item_id.nunique()}\\n\")\n",
    "\n",
    "interactions_df = interactions[interactions.watched_pct > 10]\n",
    "\n",
    "\n",
    "valid_users = []\n",
    "\n",
    "c = Counter(interactions_df.user_id)\n",
    "for user_id, entries in c.most_common():\n",
    "    if entries > 5:\n",
    "        valid_users.append(user_id)\n",
    "\n",
    "valid_items = []\n",
    "\n",
    "c = Counter(interactions_df.item_id)\n",
    "for item_id, entries in c.most_common():\n",
    "    if entries > 10:\n",
    "        valid_items.append(item_id)\n",
    "\n",
    "interactions = interactions[interactions.user_id.isin(valid_users)]\n",
    "interactions = interactions[interactions.item_id.isin(valid_items)]\n",
    "\n",
    "print(f\"N users after: {interactions.user_id.nunique()}\")\n",
    "print(f\"N items after: {interactions.item_id.nunique()}\")"
   ]
  },
  {
   "cell_type": "code",
   "execution_count": 14,
   "metadata": {
    "colab": {
     "base_uri": "https://localhost:8080/"
    },
    "id": "H9hBu8-xzy35",
    "outputId": "d08160e5-a9dd-4fec-d453-a3c8897a9d99"
   },
   "outputs": [
    {
     "name": "stdout",
     "output_type": "stream",
     "text": [
      "139210\n",
      "6901\n"
     ]
    }
   ],
   "source": [
    "common_users = set(interactions.user_id.unique()).intersection(set(users_ohe.user_id.unique()))\n",
    "common_items = set(interactions.item_id.unique()).intersection(set(items_ohe.item_id.unique()))\n",
    "\n",
    "print(len(common_users))\n",
    "print(len(common_items))\n",
    "\n",
    "interactions = interactions[interactions.item_id.isin(common_items)]\n",
    "interactions = interactions[interactions.user_id.isin(common_users)]\n",
    "\n",
    "items_ohe = items_ohe[items_ohe.item_id.isin(common_items)]\n",
    "users_ohe = users_ohe[users_ohe.user_id.isin(common_users)]"
   ]
  },
  {
   "cell_type": "code",
   "execution_count": 16,
   "metadata": {
    "colab": {
     "base_uri": "https://localhost:8080/",
     "height": 206
    },
    "id": "m060jyx00UOS",
    "outputId": "2ebd77cd-8a1f-4de6-b2a8-09e1ff274795"
   },
   "outputs": [
    {
     "data": {
      "text/html": [
       "<div>\n",
       "<style scoped>\n",
       "    .dataframe tbody tr th:only-of-type {\n",
       "        vertical-align: middle;\n",
       "    }\n",
       "\n",
       "    .dataframe tbody tr th {\n",
       "        vertical-align: top;\n",
       "    }\n",
       "\n",
       "    .dataframe thead th {\n",
       "        text-align: right;\n",
       "    }\n",
       "</style>\n",
       "<table border=\"1\" class=\"dataframe\">\n",
       "  <thead>\n",
       "    <tr style=\"text-align: right;\">\n",
       "      <th></th>\n",
       "      <th>user_id</th>\n",
       "      <th>item_id</th>\n",
       "      <th>datetime</th>\n",
       "      <th>weight</th>\n",
       "      <th>watched_pct</th>\n",
       "      <th>uid</th>\n",
       "      <th>iid</th>\n",
       "    </tr>\n",
       "  </thead>\n",
       "  <tbody>\n",
       "    <tr>\n",
       "      <th>0</th>\n",
       "      <td>176549</td>\n",
       "      <td>9506</td>\n",
       "      <td>2021-05-11</td>\n",
       "      <td>4250</td>\n",
       "      <td>72.0</td>\n",
       "      <td>22413</td>\n",
       "      <td>3945</td>\n",
       "    </tr>\n",
       "    <tr>\n",
       "      <th>1</th>\n",
       "      <td>699317</td>\n",
       "      <td>1659</td>\n",
       "      <td>2021-05-29</td>\n",
       "      <td>8317</td>\n",
       "      <td>100.0</td>\n",
       "      <td>88768</td>\n",
       "      <td>675</td>\n",
       "    </tr>\n",
       "    <tr>\n",
       "      <th>3</th>\n",
       "      <td>864613</td>\n",
       "      <td>7638</td>\n",
       "      <td>2021-07-05</td>\n",
       "      <td>14483</td>\n",
       "      <td>100.0</td>\n",
       "      <td>109925</td>\n",
       "      <td>3163</td>\n",
       "    </tr>\n",
       "    <tr>\n",
       "      <th>6</th>\n",
       "      <td>1016458</td>\n",
       "      <td>354</td>\n",
       "      <td>2021-08-14</td>\n",
       "      <td>1672</td>\n",
       "      <td>25.0</td>\n",
       "      <td>128826</td>\n",
       "      <td>139</td>\n",
       "    </tr>\n",
       "    <tr>\n",
       "      <th>7</th>\n",
       "      <td>884009</td>\n",
       "      <td>693</td>\n",
       "      <td>2021-08-04</td>\n",
       "      <td>703</td>\n",
       "      <td>14.0</td>\n",
       "      <td>112355</td>\n",
       "      <td>279</td>\n",
       "    </tr>\n",
       "  </tbody>\n",
       "</table>\n",
       "</div>"
      ],
      "text/plain": [
       "   user_id  item_id   datetime  weight  watched_pct     uid   iid\n",
       "0   176549     9506 2021-05-11    4250         72.0   22413  3945\n",
       "1   699317     1659 2021-05-29    8317        100.0   88768   675\n",
       "3   864613     7638 2021-07-05   14483        100.0  109925  3163\n",
       "6  1016458      354 2021-08-14    1672         25.0  128826   139\n",
       "7   884009      693 2021-08-04     703         14.0  112355   279"
      ]
     },
     "execution_count": 16,
     "metadata": {},
     "output_type": "execute_result"
    }
   ],
   "source": [
    "interactions[\"uid\"] = interactions[\"user_id\"].astype(\"category\")\n",
    "interactions[\"uid\"] = interactions[\"uid\"].cat.codes\n",
    "\n",
    "interactions[\"iid\"] = interactions[\"item_id\"].astype(\"category\")\n",
    "interactions[\"iid\"] = interactions[\"iid\"].cat.codes\n",
    "\n",
    "interactions.head()"
   ]
  },
  {
   "cell_type": "code",
   "execution_count": 17,
   "metadata": {
    "id": "Go3TyXuU0soU"
   },
   "outputs": [],
   "source": [
    "interactions_vec = np.zeros((interactions.uid.nunique(), interactions.iid.nunique()))\n",
    "\n",
    "for user_id, item_id in zip(interactions.uid, interactions.iid):\n",
    "    interactions_vec[user_id, item_id] += 1\n",
    "\n",
    "res = interactions_vec.sum(axis=1)\n",
    "for i in range(len(interactions_vec)):\n",
    "    interactions_vec[i] /= res[i]"
   ]
  },
  {
   "cell_type": "code",
   "execution_count": 18,
   "metadata": {
    "colab": {
     "base_uri": "https://localhost:8080/"
    },
    "id": "gCuEx00J0yFa",
    "outputId": "d4a3cbf1-aeb7-4e10-9e2c-21c0c2d524ba"
   },
   "outputs": [
    {
     "name": "stdout",
     "output_type": "stream",
     "text": [
      "6901\n",
      "6900\n",
      "139210\n",
      "139210\n",
      "set()\n"
     ]
    }
   ],
   "source": [
    "items_ohe = items_ohe[items_ohe['item_id'] != 11805]\n",
    "print(interactions.item_id.nunique())\n",
    "print(items_ohe.item_id.nunique())\n",
    "print(interactions.user_id.nunique())\n",
    "print(users_ohe.user_id.nunique())\n",
    "\n",
    "print(set(items_ohe.item_id.unique()) - set(interactions.item_id.unique()))"
   ]
  },
  {
   "cell_type": "markdown",
   "metadata": {
    "id": "ohrOegcl1Ffl"
   },
   "source": [
    "# Mappings"
   ]
  },
  {
   "cell_type": "code",
   "execution_count": 19,
   "metadata": {
    "id": "fjYBQM_H1HYs"
   },
   "outputs": [],
   "source": [
    "iid_to_item_id = interactions[[\"iid\", \"item_id\"]].drop_duplicates().set_index(\"iid\").to_dict()[\"item_id\"]\n",
    "item_id_to_iid = interactions[[\"iid\", \"item_id\"]].drop_duplicates().set_index(\"item_id\").to_dict()[\"iid\"]\n",
    "\n",
    "uid_to_user_id = interactions[[\"uid\", \"user_id\"]].drop_duplicates().set_index(\"uid\").to_dict()[\"user_id\"]\n",
    "user_id_to_uid = interactions[[\"uid\", \"user_id\"]].drop_duplicates().set_index(\"user_id\").to_dict()[\"uid\"]"
   ]
  },
  {
   "cell_type": "markdown",
   "metadata": {
    "id": "Dtl4IlEX1OXK"
   },
   "source": [
    "# Loss"
   ]
  },
  {
   "cell_type": "code",
   "execution_count": 20,
   "metadata": {
    "id": "TINPZHxm1Lb2"
   },
   "outputs": [],
   "source": [
    "def triplet_loss(y_true, y_pred, n_dims=128, alpha=0.4):\n",
    "    anchor = y_pred[:, 0:n_dims]\n",
    "    positive = y_pred[:, n_dims:n_dims*2]\n",
    "    negative = y_pred[:, n_dims*2:n_dims*3]\n",
    "\n",
    "    pos_dist = K.sum(K.square(anchor - positive), axis=1)\n",
    "    neg_dist = K.sum(K.square(anchor - negative), axis=1)\n",
    "\n",
    "    basic_loss = pos_dist - neg_dist + alpha\n",
    "    loss = K.maximum(basic_loss, 0.0)\n",
    "\n",
    "    return loss"
   ]
  },
  {
   "cell_type": "markdown",
   "metadata": {
    "id": "_6KB6r1_1UKl"
   },
   "source": [
    "# Text features"
   ]
  },
  {
   "cell_type": "code",
   "execution_count": 21,
   "metadata": {
    "colab": {
     "base_uri": "https://localhost:8080/"
    },
    "id": "KpvxlG8L1PxQ",
    "outputId": "f5dffe0e-2151-4387-ce2e-d590c7f4d8ec"
   },
   "outputs": [
    {
     "data": {
      "text/plain": [
       "0    Мелодрама легендарного Педро Альмодовара «Пого...\n",
       "1    Уморительная современная комедия на популярную...\n",
       "2    Профессиональный рестлер Стив Остин («Все или ...\n",
       "3    Шарлотта Рэмплинг, Том Кортни, Джеральдин Джей...\n",
       "4    Расчетливая чаровница из советского кинохита «...\n",
       "Name: description, dtype: object"
      ]
     },
     "execution_count": 21,
     "metadata": {},
     "output_type": "execute_result"
    }
   ],
   "source": [
    "items['description'].head()"
   ]
  },
  {
   "cell_type": "markdown",
   "metadata": {
    "id": "mfkRn7zU1rgI"
   },
   "source": [
    "# Normalization"
   ]
  },
  {
   "cell_type": "code",
   "execution_count": 23,
   "metadata": {
    "colab": {
     "base_uri": "https://localhost:8080/"
    },
    "id": "J8MDHY7F2B7J",
    "outputId": "479edba6-5421-434f-f6a9-c1a05fb55824"
   },
   "outputs": [
    {
     "name": "stderr",
     "output_type": "stream",
     "text": [
      "[nltk_data] Downloading package punkt to /Users/elizaveta/nltk_data...\n",
      "[nltk_data]   Unzipping tokenizers/punkt.zip.\n"
     ]
    },
    {
     "data": {
      "text/plain": [
       "True"
      ]
     },
     "execution_count": 23,
     "metadata": {},
     "output_type": "execute_result"
    }
   ],
   "source": [
    "import nltk\n",
    "nltk.download('punkt')"
   ]
  },
  {
   "cell_type": "code",
   "execution_count": 24,
   "metadata": {
    "id": "Y8-vpzOT1vvV"
   },
   "outputs": [],
   "source": [
    "def normalize(text):\n",
    "    res = [w.strip(punct) for w in word_tokenize(text)]\n",
    "    res = [w.lower() for w in res if w != '']\n",
    "    return res"
   ]
  },
  {
   "cell_type": "code",
   "execution_count": 25,
   "metadata": {
    "id": "KCohD3cf1XDm"
   },
   "outputs": [],
   "source": [
    "from nltk.tokenize import word_tokenize\n",
    "\n",
    "items['description'] = items['description'].fillna('')\n",
    "\n",
    "punct = '!\"#$%&()*\\+,-\\./:;<=>?@\\[\\]^_`{|}~„“«»†*\\—/\\-‘’–'\n",
    "\n",
    "items['clean_description'] = items['description'].apply(lambda x: normalize(x))"
   ]
  },
  {
   "cell_type": "markdown",
   "metadata": {
    "id": "d29rtlOI2Kgd"
   },
   "source": [
    "# Stop words"
   ]
  },
  {
   "cell_type": "code",
   "execution_count": 26,
   "metadata": {
    "colab": {
     "base_uri": "https://localhost:8080/"
    },
    "id": "2JcjE_Wq2ZfD",
    "outputId": "5c61ceaa-042b-4798-e750-c0e7aa005440"
   },
   "outputs": [
    {
     "name": "stderr",
     "output_type": "stream",
     "text": [
      "[nltk_data] Downloading package stopwords to\n",
      "[nltk_data]     /Users/elizaveta/nltk_data...\n",
      "[nltk_data]   Package stopwords is already up-to-date!\n"
     ]
    },
    {
     "data": {
      "text/plain": [
       "True"
      ]
     },
     "execution_count": 26,
     "metadata": {},
     "output_type": "execute_result"
    }
   ],
   "source": [
    "from nltk.corpus import stopwords\n",
    "\n",
    "nltk.download('stopwords')"
   ]
  },
  {
   "cell_type": "code",
   "execution_count": 27,
   "metadata": {
    "id": "DxT_uC-g2f-S"
   },
   "outputs": [],
   "source": [
    "def filter_sw(text):\n",
    "    return [w for w in text if w not in sw]"
   ]
  },
  {
   "cell_type": "code",
   "execution_count": 28,
   "metadata": {
    "id": "3s9heimW1yJ6"
   },
   "outputs": [],
   "source": [
    "sw = stopwords.words('russian')\n",
    "items['clean_description'] = items['clean_description'].apply(lambda x: filter_sw(x))"
   ]
  },
  {
   "cell_type": "markdown",
   "metadata": {
    "id": "XVaWf9yN2s9D"
   },
   "source": [
    "# Lemmatization"
   ]
  },
  {
   "cell_type": "code",
   "execution_count": 29,
   "metadata": {
    "colab": {
     "base_uri": "https://localhost:8080/"
    },
    "id": "4Ms3bewc27z5",
    "outputId": "21baaee5-e5d6-4d15-92b3-5b182f16cf1e"
   },
   "outputs": [],
   "source": [
    "# !pip install pymorphy2"
   ]
  },
  {
   "cell_type": "code",
   "execution_count": 30,
   "metadata": {
    "id": "emn6w_7g218b"
   },
   "outputs": [],
   "source": [
    "from pymorphy2 import MorphAnalyzer"
   ]
  },
  {
   "cell_type": "code",
   "execution_count": 31,
   "metadata": {
    "colab": {
     "background_save": true,
     "base_uri": "https://localhost:8080/"
    },
    "id": "-Pw0XNAr2Ye2",
    "outputId": "8f1d0b18-5edc-457f-b290-cf9d8f9d4492"
   },
   "outputs": [],
   "source": [
    "%%capture\n",
    "\n",
    "morph = MorphAnalyzer()\n",
    "\n",
    "tqdm.pandas()\n",
    "items['clean_description'] = items['clean_description'].progress_apply(lambda x: [morph.parse(w)[0].normalized.word for w in x])"
   ]
  },
  {
   "cell_type": "markdown",
   "metadata": {
    "id": "7Vx-ie8_3WD-"
   },
   "source": [
    "# Text vectorization"
   ]
  },
  {
   "cell_type": "code",
   "execution_count": 32,
   "metadata": {
    "colab": {
     "background_save": true
    },
    "id": "YfD9M2883lUT"
   },
   "outputs": [],
   "source": [
    "from sklearn.feature_extraction.text import CountVectorizer"
   ]
  },
  {
   "cell_type": "code",
   "execution_count": 33,
   "metadata": {
    "colab": {
     "background_save": true
    },
    "id": "DmOFzmj821gq"
   },
   "outputs": [],
   "source": [
    "items['clean_description'] = items['clean_description'].apply(lambda x: ' '.join(x))"
   ]
  },
  {
   "cell_type": "code",
   "execution_count": 34,
   "metadata": {
    "colab": {
     "background_save": true
    },
    "id": "m-VntKHn2XE6",
    "outputId": "1705734f-4466-4a70-d0ba-dd23618ddf05"
   },
   "outputs": [
    {
     "data": {
      "text/plain": [
       "(15963, 350)"
      ]
     },
     "execution_count": 34,
     "metadata": {},
     "output_type": "execute_result"
    }
   ],
   "source": [
    "vectorizer = CountVectorizer(min_df=5, max_features=350)\n",
    "text_vectorized = pd.DataFrame(vectorizer.fit_transform(items['clean_description']).toarray(), columns=vectorizer.get_feature_names_out())\n",
    "text_vectorized.shape"
   ]
  },
  {
   "cell_type": "code",
   "execution_count": 35,
   "metadata": {
    "colab": {
     "background_save": true
    },
    "id": "a0EBYQEa3pHA"
   },
   "outputs": [],
   "source": [
    "text_vectorized['item_id'] = items['item_id']\n",
    "items_ohe = items_ohe.merge(text_vectorized, on='item_id', how='left')\n",
    "items_ohe = items_ohe.fillna(0)"
   ]
  },
  {
   "cell_type": "markdown",
   "metadata": {
    "id": "HKrb2OtQ4iCB"
   },
   "source": [
    "# Generator"
   ]
  },
  {
   "cell_type": "code",
   "execution_count": 37,
   "metadata": {
    "id": "03Nv3oq54fJE"
   },
   "outputs": [],
   "source": [
    "tree = spatial.cKDTree(items_ohe.drop([\"item_id\"], axis=1))"
   ]
  },
  {
   "cell_type": "code",
   "execution_count": 77,
   "metadata": {
    "id": "m35RfRKw4lBj"
   },
   "outputs": [],
   "source": [
    "def generator(items, users, interactions, batch_size=32):\n",
    "    while True:\n",
    "        uid_meta = []\n",
    "        uid_interaction = []\n",
    "        pos = []\n",
    "        neg = []\n",
    "        for _ in range(batch_size):\n",
    "            while True:\n",
    "                try:\n",
    "                    # Random user\n",
    "                    uid_iid = randint(0, interactions.shape[0]-1)\n",
    "\n",
    "                    # Sample positive item\n",
    "                    pos_iid = np.random.choice(range(interactions.shape[1]), p=interactions[uid_iid])\n",
    "\n",
    "                    # Get 20 most closest items from KDTree\n",
    "                    distances, indices = tree.query(items.iloc[pos_iid].values, k=30)\n",
    "\n",
    "\n",
    "                    # Filter to sample only negative item\n",
    "                    pos_ids = np.nonzero(interactions[uid_iid])\n",
    "                    neg_items_candidates = indices[np.in1d(indices, pos_ids, invert=True)]\n",
    "                    neg_iid = np.random.choice(neg_items_candidates)\n",
    "\n",
    "                    #neg_iid = np.random.choice(range(interactions.shape[1]))\n",
    "\n",
    "                    # Negative item features\n",
    "                    neg.append(items.iloc[neg_iid - 1])\n",
    "\n",
    "                    # User features\n",
    "                    uid_meta.append(users.iloc[uid_iid])\n",
    "\n",
    "                    # User's items\n",
    "                    uid_interaction.append(interactions_vec[uid_iid])\n",
    "\n",
    "                    # Positive item features\n",
    "                    pos.append(items.iloc[pos_iid])\n",
    "                    break\n",
    "                except:\n",
    "                    continue\n",
    "        yield [np.array(uid_meta).astype('float32'), np.array(uid_interaction).astype('float32'), np.array(pos).astype('float32'), np.array(neg).astype('float32')], [np.array(uid_meta).astype('float32'), np.array(uid_interaction).astype('float32')]"
   ]
  },
  {
   "cell_type": "code",
   "execution_count": 78,
   "metadata": {
    "id": "LromeKvq4p51"
   },
   "outputs": [
    {
     "name": "stdout",
     "output_type": "stream",
     "text": [
      "вектор фичей юзера: (32, 16)\n",
      "вектор взаимодействий юзера с айтемами: (32, 6901)\n",
      "вектор 'хорошего' айтема: (32, 484)\n",
      "вектор 'плохого' айтема: (32, 484)\n",
      "\n",
      "вектор фичей юзера: (32, 16)\n",
      "вектор взаимодействий юзера с айтемами: (32, 6901)\n"
     ]
    }
   ],
   "source": [
    "gen = generator(\n",
    "    items=items_ohe.drop([\"item_id\"], axis=1),\n",
    "    users=users_ohe.drop([\"user_id\"], axis=1),\n",
    "    interactions=interactions_vec,\n",
    ")\n",
    "\n",
    "ret = next(gen)\n",
    "\n",
    "\n",
    "print(f\"вектор фичей юзера: {ret[0][0].shape}\")\n",
    "print(f\"вектор взаимодействий юзера с айтемами: {ret[0][1].shape}\")\n",
    "print(f\"вектор 'хорошего' айтема: {ret[0][2].shape}\")\n",
    "print(f\"вектор 'плохого' айтема: {ret[0][3].shape}\")\n",
    "print()\n",
    "print(f\"вектор фичей юзера: {ret[1][0].shape}\")\n",
    "print(f\"вектор взаимодействий юзера с айтемами: {ret[1][1].shape}\")"
   ]
  },
  {
   "cell_type": "code",
   "execution_count": 79,
   "metadata": {
    "id": "OKCjTVQw4tFa"
   },
   "outputs": [
    {
     "name": "stdout",
     "output_type": "stream",
     "text": [
      "N_FACTORS: 128\n",
      "ITEM_MODEL_SHAPE: (484,)\n",
      "USER_META_MODEL_SHAPE: (16,)\n",
      "USER_INTERACTION_MODEL_SHAPE: (6901,)\n"
     ]
    }
   ],
   "source": [
    "N_FACTORS = 128\n",
    "\n",
    "ITEM_MODEL_SHAPE = (items_ohe.drop([\"item_id\"], axis=1).shape[1], )\n",
    "USER_META_MODEL_SHAPE = (users_ohe.drop([\"user_id\"], axis=1).shape[1], )\n",
    "\n",
    "USER_INTERACTION_MODEL_SHAPE = (interactions_vec.shape[1], )\n",
    "\n",
    "print(f\"N_FACTORS: {N_FACTORS}\")\n",
    "print(f\"ITEM_MODEL_SHAPE: {ITEM_MODEL_SHAPE}\") # add text features\n",
    "print(f\"USER_META_MODEL_SHAPE: {USER_META_MODEL_SHAPE}\")\n",
    "print(f\"USER_INTERACTION_MODEL_SHAPE: {USER_INTERACTION_MODEL_SHAPE}\")"
   ]
  },
  {
   "cell_type": "code",
   "execution_count": 80,
   "metadata": {
    "id": "0Hu661K840cx"
   },
   "outputs": [],
   "source": [
    "def item_model(n_factors=N_FACTORS):\n",
    "    inp = keras.layers.Input(shape=ITEM_MODEL_SHAPE)\n",
    "\n",
    "    layer_1 = keras.layers.Dense(N_FACTORS, activation='elu', use_bias=False,\n",
    "                               kernel_regularizer=keras.regularizers.l2(1e-6),\n",
    "                               activity_regularizer=keras.regularizers.l2(l2=1e-6))(inp)\n",
    "\n",
    "    layer_2 = keras.layers.Dense(N_FACTORS, activation='elu', use_bias=False,\n",
    "                             kernel_regularizer=keras.regularizers.l2(1e-6),\n",
    "                             activity_regularizer=keras.regularizers.l2(l2=1e-6))(layer_1)\n",
    "\n",
    "    add = keras.layers.Add()([layer_1, layer_2])\n",
    "\n",
    "    out = keras.layers.Dense(N_FACTORS, activation='linear', use_bias=False,\n",
    "                             kernel_regularizer=keras.regularizers.l2(1e-6),\n",
    "                             activity_regularizer=keras.regularizers.l2(l2=1e-6))(add)\n",
    "\n",
    "    return keras.models.Model(inp, out)\n",
    "\n",
    "\n",
    "def user_model(n_factors=N_FACTORS):\n",
    "    inp_meta = keras.layers.Input(shape=USER_META_MODEL_SHAPE)\n",
    "    inp_interaction = keras.layers.Input(shape=USER_INTERACTION_MODEL_SHAPE)\n",
    "\n",
    "    layer_1_meta = keras.layers.Dense(N_FACTORS, activation='elu', use_bias=False,\n",
    "                                 kernel_regularizer=keras.regularizers.l2(1e-6),\n",
    "                                 activity_regularizer=keras.regularizers.l2(l2=1e-6))(inp_meta)\n",
    "\n",
    "    layer_1_interaction = keras.layers.Dense(N_FACTORS, activation='elu', use_bias=False,\n",
    "                                 kernel_regularizer=keras.regularizers.l2(1e-6),\n",
    "                                 activity_regularizer=keras.regularizers.l2(l2=1e-6))(inp_interaction)\n",
    "\n",
    "    layer_2_meta = keras.layers.Dense(N_FACTORS, activation='elu', use_bias=False,\n",
    "                                 kernel_regularizer=keras.regularizers.l2(1e-6),\n",
    "                                 activity_regularizer=keras.regularizers.l2(l2=1e-6))(layer_1_meta)\n",
    "\n",
    "\n",
    "    add = keras.layers.Add()([layer_1_meta, layer_2_meta])\n",
    "\n",
    "    concat_meta_interaction = keras.layers.Concatenate()([add, layer_1_interaction])\n",
    "\n",
    "    out = keras.layers.Dense(N_FACTORS, activation='linear', use_bias=False,\n",
    "                             kernel_regularizer=keras.regularizers.l2(1e-6),\n",
    "                             activity_regularizer=keras.regularizers.l2(l2=1e-6))(concat_meta_interaction)\n",
    "\n",
    "    return keras.models.Model([inp_meta, inp_interaction], out)"
   ]
  },
  {
   "cell_type": "code",
   "execution_count": 81,
   "metadata": {
    "id": "U1dLfeHN43-n"
   },
   "outputs": [],
   "source": [
    "i2v = item_model()\n",
    "u2v = user_model()"
   ]
  },
  {
   "cell_type": "code",
   "execution_count": 82,
   "metadata": {
    "id": "R53qb3Dv4697"
   },
   "outputs": [],
   "source": [
    "ancor_meta_in = keras.layers.Input(shape=USER_META_MODEL_SHAPE)\n",
    "ancor_interaction_in = keras.layers.Input(shape=USER_INTERACTION_MODEL_SHAPE)\n",
    "\n",
    "pos_in = keras.layers.Input(shape=ITEM_MODEL_SHAPE)\n",
    "neg_in = keras.layers.Input(shape=ITEM_MODEL_SHAPE)\n",
    "\n",
    "ancor = u2v([ancor_meta_in, ancor_interaction_in])\n",
    "pos = i2v(pos_in)\n",
    "neg = i2v(neg_in)\n",
    "\n",
    "res = keras.layers.Concatenate(name=\"concat_ancor_pos_neg\")([ancor, pos, neg])\n",
    "\n",
    "model = keras.models.Model([ancor_meta_in, ancor_interaction_in, pos_in, neg_in], res)"
   ]
  },
  {
   "cell_type": "code",
   "execution_count": 83,
   "metadata": {
    "id": "4E2MZz1f49En"
   },
   "outputs": [],
   "source": [
    "model_name = 'recsys_resnet_linear'\n",
    "\n",
    "decay = keras.callbacks.ReduceLROnPlateau(monitor='loss', patience=2, factor=0.8, verbose=1)\n",
    "early_stopping =  keras.callbacks.EarlyStopping(monitor='loss', patience=4)\n",
    "\n",
    "opt = keras.optimizers.Adam(learning_rate=0.001)\n",
    "model.compile(loss=triplet_loss, optimizer=opt, run_eagerly=True)"
   ]
  },
  {
   "cell_type": "code",
   "execution_count": 84,
   "metadata": {
    "id": "sd_fzPAM5BCA"
   },
   "outputs": [
    {
     "name": "stdout",
     "output_type": "stream",
     "text": [
      "Model: \"model_18\"\n",
      "__________________________________________________________________________________________________\n",
      " Layer (type)                   Output Shape         Param #     Connected to                     \n",
      "==================================================================================================\n",
      " input_38 (InputLayer)          [(None, 484)]        0           []                               \n",
      "                                                                                                  \n",
      " dense_49 (Dense)               (None, 128)          61952       ['input_38[0][0]']               \n",
      "                                                                                                  \n",
      " dense_50 (Dense)               (None, 128)          16384       ['dense_49[0][0]']               \n",
      "                                                                                                  \n",
      " add_14 (Add)                   (None, 128)          0           ['dense_49[0][0]',               \n",
      "                                                                  'dense_50[0][0]']               \n",
      "                                                                                                  \n",
      " dense_51 (Dense)               (None, 128)          16384       ['add_14[0][0]']                 \n",
      "                                                                                                  \n",
      "==================================================================================================\n",
      "Total params: 94,720\n",
      "Trainable params: 94,720\n",
      "Non-trainable params: 0\n",
      "__________________________________________________________________________________________________\n"
     ]
    }
   ],
   "source": [
    "item_model().summary()"
   ]
  },
  {
   "cell_type": "code",
   "execution_count": 85,
   "metadata": {
    "id": "1d2p4nl05GjU"
   },
   "outputs": [
    {
     "name": "stdout",
     "output_type": "stream",
     "text": [
      "Model: \"model_19\"\n",
      "__________________________________________________________________________________________________\n",
      " Layer (type)                   Output Shape         Param #     Connected to                     \n",
      "==================================================================================================\n",
      " input_39 (InputLayer)          [(None, 16)]         0           []                               \n",
      "                                                                                                  \n",
      " dense_52 (Dense)               (None, 128)          2048        ['input_39[0][0]']               \n",
      "                                                                                                  \n",
      " dense_54 (Dense)               (None, 128)          16384       ['dense_52[0][0]']               \n",
      "                                                                                                  \n",
      " input_40 (InputLayer)          [(None, 6901)]       0           []                               \n",
      "                                                                                                  \n",
      " add_15 (Add)                   (None, 128)          0           ['dense_52[0][0]',               \n",
      "                                                                  'dense_54[0][0]']               \n",
      "                                                                                                  \n",
      " dense_53 (Dense)               (None, 128)          883328      ['input_40[0][0]']               \n",
      "                                                                                                  \n",
      " concatenate_7 (Concatenate)    (None, 256)          0           ['add_15[0][0]',                 \n",
      "                                                                  'dense_53[0][0]']               \n",
      "                                                                                                  \n",
      " dense_55 (Dense)               (None, 128)          32768       ['concatenate_7[0][0]']          \n",
      "                                                                                                  \n",
      "==================================================================================================\n",
      "Total params: 934,528\n",
      "Trainable params: 934,528\n",
      "Non-trainable params: 0\n",
      "__________________________________________________________________________________________________\n"
     ]
    }
   ],
   "source": [
    "user_model().summary()"
   ]
  },
  {
   "cell_type": "code",
   "execution_count": 86,
   "metadata": {
    "id": "gDk8apGS5JCU"
   },
   "outputs": [
    {
     "name": "stdout",
     "output_type": "stream",
     "text": [
      "Model: \"model_17\"\n",
      "__________________________________________________________________________________________________\n",
      " Layer (type)                   Output Shape         Param #     Connected to                     \n",
      "==================================================================================================\n",
      " input_34 (InputLayer)          [(None, 16)]         0           []                               \n",
      "                                                                                                  \n",
      " input_35 (InputLayer)          [(None, 6901)]       0           []                               \n",
      "                                                                                                  \n",
      " input_36 (InputLayer)          [(None, 484)]        0           []                               \n",
      "                                                                                                  \n",
      " input_37 (InputLayer)          [(None, 484)]        0           []                               \n",
      "                                                                                                  \n",
      " model_16 (Functional)          (None, 128)          934528      ['input_34[0][0]',               \n",
      "                                                                  'input_35[0][0]']               \n",
      "                                                                                                  \n",
      " model_15 (Functional)          (None, 128)          94720       ['input_36[0][0]',               \n",
      "                                                                  'input_37[0][0]']               \n",
      "                                                                                                  \n",
      " concat_ancor_pos_neg (Concaten  (None, 384)         0           ['model_16[0][0]',               \n",
      " ate)                                                             'model_15[0][0]',               \n",
      "                                                                  'model_15[1][0]']               \n",
      "                                                                                                  \n",
      "==================================================================================================\n",
      "Total params: 1,029,248\n",
      "Trainable params: 1,029,248\n",
      "Non-trainable params: 0\n",
      "__________________________________________________________________________________________________\n"
     ]
    }
   ],
   "source": [
    "model.summary()"
   ]
  },
  {
   "cell_type": "code",
   "execution_count": 87,
   "metadata": {
    "colab": {
     "base_uri": "https://localhost:8080/"
    },
    "id": "f6D8n-n_5Lq9",
    "outputId": "344e6329-c9b8-4cdc-c4f2-9a7dd2846fc7",
    "scrolled": true
   },
   "outputs": [
    {
     "name": "stdout",
     "output_type": "stream",
     "text": [
      "Epoch 1/100\n",
      "100/100 [==============================] - 8s 81ms/step - loss: 2.1758 - lr: 0.0010\n",
      "Epoch 2/100\n",
      "100/100 [==============================] - 8s 81ms/step - loss: 0.9921 - lr: 0.0010\n",
      "Epoch 3/100\n",
      "100/100 [==============================] - 8s 82ms/step - loss: 0.8730 - lr: 0.0010\n",
      "Epoch 4/100\n",
      "100/100 [==============================] - 8s 82ms/step - loss: 0.6410 - lr: 0.0010\n",
      "Epoch 5/100\n",
      "100/100 [==============================] - 8s 82ms/step - loss: 0.5736 - lr: 0.0010\n",
      "Epoch 6/100\n",
      "100/100 [==============================] - 8s 82ms/step - loss: 0.5322 - lr: 0.0010\n",
      "Epoch 7/100\n",
      "100/100 [==============================] - 8s 82ms/step - loss: 0.5587 - lr: 0.0010\n",
      "Epoch 8/100\n",
      "100/100 [==============================] - 8s 81ms/step - loss: 0.3809 - lr: 0.0010\n",
      "Epoch 9/100\n",
      "100/100 [==============================] - 8s 82ms/step - loss: 0.3889 - lr: 0.0010\n",
      "Epoch 10/100\n",
      "100/100 [==============================] - 8s 82ms/step - loss: 0.3494 - lr: 0.0010\n",
      "Epoch 11/100\n",
      "100/100 [==============================] - 8s 82ms/step - loss: 0.3130 - lr: 0.0010\n",
      "Epoch 12/100\n",
      "100/100 [==============================] - 8s 82ms/step - loss: 0.2555 - lr: 0.0010\n",
      "Epoch 13/100\n",
      "100/100 [==============================] - 8s 83ms/step - loss: 0.2588 - lr: 0.0010\n",
      "Epoch 14/100\n",
      "100/100 [==============================] - ETA: 0s - loss: 0.2923\n",
      "Epoch 14: ReduceLROnPlateau reducing learning rate to 0.000800000037997961.\n",
      "100/100 [==============================] - 8s 82ms/step - loss: 0.2923 - lr: 0.0010\n",
      "Epoch 15/100\n",
      "100/100 [==============================] - 8s 83ms/step - loss: 0.2391 - lr: 8.0000e-04\n",
      "Epoch 16/100\n",
      "100/100 [==============================] - 8s 82ms/step - loss: 0.2315 - lr: 8.0000e-04\n",
      "Epoch 17/100\n",
      "100/100 [==============================] - 8s 84ms/step - loss: 0.1647 - lr: 8.0000e-04\n",
      "Epoch 18/100\n",
      "100/100 [==============================] - 8s 82ms/step - loss: 0.1515 - lr: 8.0000e-04\n",
      "Epoch 19/100\n",
      "100/100 [==============================] - 8s 83ms/step - loss: 0.1606 - lr: 8.0000e-04\n",
      "Epoch 20/100\n",
      "100/100 [==============================] - ETA: 0s - loss: 0.1899\n",
      "Epoch 20: ReduceLROnPlateau reducing learning rate to 0.0006400000303983689.\n",
      "100/100 [==============================] - 8s 82ms/step - loss: 0.1899 - lr: 8.0000e-04\n",
      "Epoch 21/100\n",
      "100/100 [==============================] - 8s 83ms/step - loss: 0.1671 - lr: 6.4000e-04\n",
      "Epoch 22/100\n",
      "100/100 [==============================] - 8s 83ms/step - loss: 0.1441 - lr: 6.4000e-04\n",
      "Epoch 23/100\n",
      "100/100 [==============================] - 8s 83ms/step - loss: 0.1841 - lr: 6.4000e-04\n",
      "Epoch 24/100\n",
      "100/100 [==============================] - ETA: 0s - loss: 0.1470\n",
      "Epoch 24: ReduceLROnPlateau reducing learning rate to 0.0005120000336319208.\n",
      "100/100 [==============================] - 8s 83ms/step - loss: 0.1470 - lr: 6.4000e-04\n",
      "Epoch 25/100\n",
      "100/100 [==============================] - 8s 83ms/step - loss: 0.1190 - lr: 5.1200e-04\n",
      "Epoch 26/100\n",
      "100/100 [==============================] - 8s 83ms/step - loss: 0.1143 - lr: 5.1200e-04\n",
      "Epoch 27/100\n",
      "100/100 [==============================] - 10s 99ms/step - loss: 0.1503 - lr: 5.1200e-04\n",
      "Epoch 28/100\n",
      "100/100 [==============================] - ETA: 0s - loss: 0.1232\n",
      "Epoch 28: ReduceLROnPlateau reducing learning rate to 0.00040960004553198815.\n",
      "100/100 [==============================] - 8s 83ms/step - loss: 0.1232 - lr: 5.1200e-04\n",
      "Epoch 29/100\n",
      "100/100 [==============================] - 8s 84ms/step - loss: 0.1027 - lr: 4.0960e-04\n",
      "Epoch 30/100\n",
      "100/100 [==============================] - 8s 84ms/step - loss: 0.1057 - lr: 4.0960e-04\n",
      "Epoch 31/100\n",
      "100/100 [==============================] - ETA: 0s - loss: 0.1177\n",
      "Epoch 31: ReduceLROnPlateau reducing learning rate to 0.00032768002711236477.\n",
      "100/100 [==============================] - 8s 83ms/step - loss: 0.1177 - lr: 4.0960e-04\n",
      "Epoch 32/100\n",
      "100/100 [==============================] - 8s 83ms/step - loss: 0.0927 - lr: 3.2768e-04\n",
      "Epoch 33/100\n",
      "100/100 [==============================] - 8s 82ms/step - loss: 0.0669 - lr: 3.2768e-04\n",
      "Epoch 34/100\n",
      "100/100 [==============================] - 8s 83ms/step - loss: 0.0838 - lr: 3.2768e-04\n",
      "Epoch 35/100\n",
      "100/100 [==============================] - ETA: 0s - loss: 0.0931\n",
      "Epoch 35: ReduceLROnPlateau reducing learning rate to 0.0002621440216898918.\n",
      "100/100 [==============================] - 8s 82ms/step - loss: 0.0931 - lr: 3.2768e-04\n",
      "Epoch 36/100\n",
      "100/100 [==============================] - 8s 83ms/step - loss: 0.0874 - lr: 2.6214e-04\n",
      "Epoch 37/100\n",
      "100/100 [==============================] - ETA: 0s - loss: 0.0846\n",
      "Epoch 37: ReduceLROnPlateau reducing learning rate to 0.00020971521735191345.\n",
      "100/100 [==============================] - 8s 82ms/step - loss: 0.0846 - lr: 2.6214e-04\n",
      "CPU times: user 6min 55s, sys: 10.8 s, total: 7min 5s\n",
      "Wall time: 5min 7s\n"
     ]
    },
    {
     "data": {
      "text/plain": [
       "<keras.callbacks.History at 0x7fb862bfa910>"
      ]
     },
     "execution_count": 87,
     "metadata": {},
     "output_type": "execute_result"
    }
   ],
   "source": [
    "%%time\n",
    "model.fit(\n",
    "    generator(\n",
    "        items=items_ohe.drop([\"item_id\"], axis=1),\n",
    "        users=users_ohe.drop([\"user_id\"], axis=1),\n",
    "        interactions=interactions_vec,\n",
    "        batch_size=16,\n",
    "    ),\n",
    "    steps_per_epoch=100,\n",
    "    epochs=100,\n",
    "    initial_epoch=0,\n",
    "    callbacks=[decay, early_stopping],\n",
    ")"
   ]
  },
  {
   "cell_type": "code",
   "execution_count": 99,
   "metadata": {
    "id": "Xz_jZIl85bMt"
   },
   "outputs": [
    {
     "name": "stdout",
     "output_type": "stream",
     "text": [
      "216/216 [==============================] - 0s 563us/step\n"
     ]
    }
   ],
   "source": [
    "items_feats = items_ohe.drop([\"item_id\"], axis=1).to_numpy().astype('float32')\n",
    "items_vecs = i2v.predict(items_feats)"
   ]
  },
  {
   "cell_type": "code",
   "execution_count": 108,
   "metadata": {
    "id": "NAPZeH6c5jhZ"
   },
   "outputs": [],
   "source": [
    "def get_recs_for_user_batch(user_ids):\n",
    "  uids = [user_id_to_uid[user_id] for user_id in user_ids]\n",
    "  user_meta_feats = users_ohe.drop([\"user_id\"], axis=1).iloc[uids]\n",
    "  user_interaction_vec = interactions_vec[uids]\n",
    "\n",
    "  user_vecs = u2v.predict([np.array(user_meta_feats), np.array(user_interaction_vec)])\n",
    "\n",
    "  dists = ED(user_vecs, items_vecs)\n",
    "  top10_iids = np.argsort(dists, axis=1)[:,:10]\n",
    "  top10_iids_items = [iid_to_item_id[iid] for iid in top10_iids.reshape(-1)]\n",
    "  top10_iids_items = np.array(top10_iids_items).reshape(top10_iids.shape)\n",
    "  return top10_iids_items"
   ]
  },
  {
   "cell_type": "markdown",
   "metadata": {
    "id": "TrXN4iyV5pJ2"
   },
   "source": [
    "# Prepare offline predictions"
   ]
  },
  {
   "cell_type": "code",
   "execution_count": 101,
   "metadata": {
    "id": "-yyPnrhc60xm"
   },
   "outputs": [],
   "source": [
    "def get_dssm_reco(user_id):\n",
    "    uid = user_id_to_uid[user_id]\n",
    "    user_meta_feats = users_ohe.drop([\"user_id\"], axis=1).iloc[uid]\n",
    "    user_interaction_vec = interactions_vec[uid]\n",
    "    user_vec = u2v.predict(\n",
    "        [np.array(user_meta_feats).reshape(1, -1), np.array(user_interaction_vec).reshape(1, -1)],\n",
    "        verbose=False,\n",
    "    )\n",
    "    dists = ED(user_vec, items_vecs)\n",
    "    top10_iids = np.argsort(dists, axis=1)[:, :10]\n",
    "    top10_iids_item = [iid_to_item_id[iid] for iid in top10_iids.reshape(-1)]\n",
    "    return top10_iids_item"
   ]
  },
  {
   "cell_type": "code",
   "execution_count": 102,
   "metadata": {
    "collapsed": true,
    "id": "2S0Kruzp7ol_",
    "jupyter": {
     "outputs_hidden": true
    }
   },
   "outputs": [
    {
     "name": "stderr",
     "output_type": "stream",
     "text": [
      "100%|██████████| 139210/139210 [1:45:06<00:00, 22.08it/s]   \n"
     ]
    },
    {
     "ename": "KeyError",
     "evalue": "\"Column(s) ['rec'] do not exist\"",
     "output_type": "error",
     "traceback": [
      "\u001b[0;31m---------------------------------------------------------------------------\u001b[0m",
      "\u001b[0;31mKeyError\u001b[0m                                  Traceback (most recent call last)",
      "Cell \u001b[0;32mIn[102], line 8\u001b[0m\n\u001b[1;32m      4\u001b[0m     recos\u001b[38;5;241m.\u001b[39mappend(get_dssm_reco(user_id))\n\u001b[1;32m      6\u001b[0m df_recos \u001b[38;5;241m=\u001b[39m pd\u001b[38;5;241m.\u001b[39mDataFrame({\u001b[38;5;124m'\u001b[39m\u001b[38;5;124muser_id\u001b[39m\u001b[38;5;124m'\u001b[39m:interactions\u001b[38;5;241m.\u001b[39muser_id\u001b[38;5;241m.\u001b[39munique(), \u001b[38;5;124m'\u001b[39m\u001b[38;5;124mreco\u001b[39m\u001b[38;5;124m'\u001b[39m: recos})\n\u001b[1;32m      7\u001b[0m recos \u001b[38;5;241m=\u001b[39m (\n\u001b[0;32m----> 8\u001b[0m     \u001b[43mdf_recos\u001b[49m\u001b[38;5;241;43m.\u001b[39;49m\u001b[43mgroupby\u001b[49m\u001b[43m(\u001b[49m\u001b[43m[\u001b[49m\u001b[38;5;124;43m\"\u001b[39;49m\u001b[38;5;124;43muser_id\u001b[39;49m\u001b[38;5;124;43m\"\u001b[39;49m\u001b[43m]\u001b[49m\u001b[43m)\u001b[49m\n\u001b[1;32m      9\u001b[0m \u001b[43m    \u001b[49m\u001b[38;5;241;43m.\u001b[39;49m\u001b[43magg\u001b[49m\u001b[43m(\u001b[49m\u001b[43m{\u001b[49m\u001b[38;5;124;43m\"\u001b[39;49m\u001b[38;5;124;43mrec\u001b[39;49m\u001b[38;5;124;43m\"\u001b[39;49m\u001b[43m:\u001b[49m\u001b[43m \u001b[49m\u001b[38;5;28;43;01mlambda\u001b[39;49;00m\u001b[43m \u001b[49m\u001b[43mx\u001b[49m\u001b[43m:\u001b[49m\u001b[43m \u001b[49m\u001b[43mx\u001b[49m\u001b[43m}\u001b[49m\u001b[43m)\u001b[49m\n\u001b[1;32m     10\u001b[0m     \u001b[38;5;241m.\u001b[39mreset_index()\n\u001b[1;32m     11\u001b[0m     \u001b[38;5;241m.\u001b[39mset_index(\u001b[38;5;124m\"\u001b[39m\u001b[38;5;124muser_id\u001b[39m\u001b[38;5;124m\"\u001b[39m)\n\u001b[1;32m     12\u001b[0m     \u001b[38;5;241m.\u001b[39mto_dict()[\u001b[38;5;124m\"\u001b[39m\u001b[38;5;124mrec\u001b[39m\u001b[38;5;124m\"\u001b[39m]\n\u001b[1;32m     13\u001b[0m )\n",
      "File \u001b[0;32m~/opt/anaconda3/envs/tf2/lib/python3.8/site-packages/pandas/core/groupby/generic.py:1269\u001b[0m, in \u001b[0;36mDataFrameGroupBy.aggregate\u001b[0;34m(self, func, engine, engine_kwargs, *args, **kwargs)\u001b[0m\n\u001b[1;32m   1266\u001b[0m func \u001b[38;5;241m=\u001b[39m maybe_mangle_lambdas(func)\n\u001b[1;32m   1268\u001b[0m op \u001b[38;5;241m=\u001b[39m GroupByApply(\u001b[38;5;28mself\u001b[39m, func, args, kwargs)\n\u001b[0;32m-> 1269\u001b[0m result \u001b[38;5;241m=\u001b[39m \u001b[43mop\u001b[49m\u001b[38;5;241;43m.\u001b[39;49m\u001b[43magg\u001b[49m\u001b[43m(\u001b[49m\u001b[43m)\u001b[49m\n\u001b[1;32m   1270\u001b[0m \u001b[38;5;28;01mif\u001b[39;00m \u001b[38;5;129;01mnot\u001b[39;00m is_dict_like(func) \u001b[38;5;129;01mand\u001b[39;00m result \u001b[38;5;129;01mis\u001b[39;00m \u001b[38;5;129;01mnot\u001b[39;00m \u001b[38;5;28;01mNone\u001b[39;00m:\n\u001b[1;32m   1271\u001b[0m     \u001b[38;5;28;01mreturn\u001b[39;00m result\n",
      "File \u001b[0;32m~/opt/anaconda3/envs/tf2/lib/python3.8/site-packages/pandas/core/apply.py:163\u001b[0m, in \u001b[0;36mApply.agg\u001b[0;34m(self)\u001b[0m\n\u001b[1;32m    160\u001b[0m     \u001b[38;5;28;01mreturn\u001b[39;00m \u001b[38;5;28mself\u001b[39m\u001b[38;5;241m.\u001b[39mapply_str()\n\u001b[1;32m    162\u001b[0m \u001b[38;5;28;01mif\u001b[39;00m is_dict_like(arg):\n\u001b[0;32m--> 163\u001b[0m     \u001b[38;5;28;01mreturn\u001b[39;00m \u001b[38;5;28;43mself\u001b[39;49m\u001b[38;5;241;43m.\u001b[39;49m\u001b[43magg_dict_like\u001b[49m\u001b[43m(\u001b[49m\u001b[43m)\u001b[49m\n\u001b[1;32m    164\u001b[0m \u001b[38;5;28;01melif\u001b[39;00m is_list_like(arg):\n\u001b[1;32m    165\u001b[0m     \u001b[38;5;66;03m# we require a list, but not a 'str'\u001b[39;00m\n\u001b[1;32m    166\u001b[0m     \u001b[38;5;28;01mreturn\u001b[39;00m \u001b[38;5;28mself\u001b[39m\u001b[38;5;241m.\u001b[39magg_list_like()\n",
      "File \u001b[0;32m~/opt/anaconda3/envs/tf2/lib/python3.8/site-packages/pandas/core/apply.py:403\u001b[0m, in \u001b[0;36mApply.agg_dict_like\u001b[0;34m(self)\u001b[0m\n\u001b[1;32m    400\u001b[0m     selected_obj \u001b[38;5;241m=\u001b[39m obj\u001b[38;5;241m.\u001b[39m_selected_obj\n\u001b[1;32m    401\u001b[0m     selection \u001b[38;5;241m=\u001b[39m obj\u001b[38;5;241m.\u001b[39m_selection\n\u001b[0;32m--> 403\u001b[0m arg \u001b[38;5;241m=\u001b[39m \u001b[38;5;28;43mself\u001b[39;49m\u001b[38;5;241;43m.\u001b[39;49m\u001b[43mnormalize_dictlike_arg\u001b[49m\u001b[43m(\u001b[49m\u001b[38;5;124;43m\"\u001b[39;49m\u001b[38;5;124;43magg\u001b[39;49m\u001b[38;5;124;43m\"\u001b[39;49m\u001b[43m,\u001b[49m\u001b[43m \u001b[49m\u001b[43mselected_obj\u001b[49m\u001b[43m,\u001b[49m\u001b[43m \u001b[49m\u001b[43marg\u001b[49m\u001b[43m)\u001b[49m\n\u001b[1;32m    405\u001b[0m is_groupby \u001b[38;5;241m=\u001b[39m \u001b[38;5;28misinstance\u001b[39m(obj, (DataFrameGroupBy, SeriesGroupBy))\n\u001b[1;32m    406\u001b[0m context_manager: ContextManager\n",
      "File \u001b[0;32m~/opt/anaconda3/envs/tf2/lib/python3.8/site-packages/pandas/core/apply.py:535\u001b[0m, in \u001b[0;36mApply.normalize_dictlike_arg\u001b[0;34m(self, how, obj, func)\u001b[0m\n\u001b[1;32m    533\u001b[0m     \u001b[38;5;28;01mif\u001b[39;00m \u001b[38;5;28mlen\u001b[39m(cols) \u001b[38;5;241m>\u001b[39m \u001b[38;5;241m0\u001b[39m:\n\u001b[1;32m    534\u001b[0m         cols_sorted \u001b[38;5;241m=\u001b[39m \u001b[38;5;28mlist\u001b[39m(safe_sort(\u001b[38;5;28mlist\u001b[39m(cols)))\n\u001b[0;32m--> 535\u001b[0m         \u001b[38;5;28;01mraise\u001b[39;00m \u001b[38;5;167;01mKeyError\u001b[39;00m(\u001b[38;5;124mf\u001b[39m\u001b[38;5;124m\"\u001b[39m\u001b[38;5;124mColumn(s) \u001b[39m\u001b[38;5;132;01m{\u001b[39;00mcols_sorted\u001b[38;5;132;01m}\u001b[39;00m\u001b[38;5;124m do not exist\u001b[39m\u001b[38;5;124m\"\u001b[39m)\n\u001b[1;32m    537\u001b[0m aggregator_types \u001b[38;5;241m=\u001b[39m (\u001b[38;5;28mlist\u001b[39m, \u001b[38;5;28mtuple\u001b[39m, \u001b[38;5;28mdict\u001b[39m)\n\u001b[1;32m    539\u001b[0m \u001b[38;5;66;03m# if we have a dict of any non-scalars\u001b[39;00m\n\u001b[1;32m    540\u001b[0m \u001b[38;5;66;03m# eg. {'A' : ['mean']}, normalize all to\u001b[39;00m\n\u001b[1;32m    541\u001b[0m \u001b[38;5;66;03m# be list-likes\u001b[39;00m\n\u001b[1;32m    542\u001b[0m \u001b[38;5;66;03m# Cannot use func.values() because arg may be a Series\u001b[39;00m\n",
      "\u001b[0;31mKeyError\u001b[0m: \"Column(s) ['rec'] do not exist\""
     ]
    }
   ],
   "source": [
    "recos = []\n",
    "\n",
    "for user_id in tqdm(interactions.user_id.unique()):\n",
    "    recos.append(get_dssm_reco(user_id))\n",
    "\n",
    "df_recos = pd.DataFrame({'user_id':interactions.user_id.unique(), 'reco': recos})\n"
   ]
  },
  {
   "cell_type": "code",
   "execution_count": 106,
   "metadata": {},
   "outputs": [],
   "source": [
    "recos = (\n",
    "    df_recos.groupby([\"user_id\"])\n",
    "    .agg({\"reco\": lambda x: x})\n",
    "    .reset_index()\n",
    "    .set_index(\"user_id\")\n",
    "    .to_dict()[\"reco\"]\n",
    ")"
   ]
  },
  {
   "cell_type": "code",
   "execution_count": 107,
   "metadata": {
    "id": "irXr-yag8XsN"
   },
   "outputs": [],
   "source": [
    "with open(f\"{RESULTS_PATH}/dssm_recs.pkl\", \"wb\") as file:\n",
    "    pickle.dump(recos, file)\n",
    "\n",
    "df_recos.to_csv(f\"{RESULTS_PATH}/dssm_preds.csv\")"
   ]
  },
  {
   "cell_type": "code",
   "execution_count": 56,
   "metadata": {
    "id": "tPhiwNhJ5mX5"
   },
   "outputs": [
    {
     "data": {
      "text/html": [
       "<div>\n",
       "<style scoped>\n",
       "    .dataframe tbody tr th:only-of-type {\n",
       "        vertical-align: middle;\n",
       "    }\n",
       "\n",
       "    .dataframe tbody tr th {\n",
       "        vertical-align: top;\n",
       "    }\n",
       "\n",
       "    .dataframe thead th {\n",
       "        text-align: right;\n",
       "    }\n",
       "</style>\n",
       "<table border=\"1\" class=\"dataframe\">\n",
       "  <thead>\n",
       "    <tr style=\"text-align: right;\">\n",
       "      <th></th>\n",
       "      <th>Unnamed: 0</th>\n",
       "      <th>user_id</th>\n",
       "      <th>reco</th>\n",
       "    </tr>\n",
       "  </thead>\n",
       "  <tbody>\n",
       "    <tr>\n",
       "      <th>0</th>\n",
       "      <td>0</td>\n",
       "      <td>176549</td>\n",
       "      <td>[4702, 8444, 341, 1000, 11982, 14359, 5490, 20...</td>\n",
       "    </tr>\n",
       "    <tr>\n",
       "      <th>1</th>\n",
       "      <td>1</td>\n",
       "      <td>699317</td>\n",
       "      <td>[8444, 14359, 4702, 11982, 2028, 14, 1000, 445...</td>\n",
       "    </tr>\n",
       "    <tr>\n",
       "      <th>2</th>\n",
       "      <td>2</td>\n",
       "      <td>864613</td>\n",
       "      <td>[3598, 8444, 1000, 4702, 2028, 7745, 1436, 138...</td>\n",
       "    </tr>\n",
       "    <tr>\n",
       "      <th>3</th>\n",
       "      <td>3</td>\n",
       "      <td>1016458</td>\n",
       "      <td>[4702, 8444, 1000, 11982, 14359, 3598, 2028, 3...</td>\n",
       "    </tr>\n",
       "    <tr>\n",
       "      <th>4</th>\n",
       "      <td>4</td>\n",
       "      <td>884009</td>\n",
       "      <td>[8444, 4702, 2028, 11982, 341, 3598, 14359, 52...</td>\n",
       "    </tr>\n",
       "  </tbody>\n",
       "</table>\n",
       "</div>"
      ],
      "text/plain": [
       "   Unnamed: 0  user_id                                               reco\n",
       "0           0   176549  [4702, 8444, 341, 1000, 11982, 14359, 5490, 20...\n",
       "1           1   699317  [8444, 14359, 4702, 11982, 2028, 14, 1000, 445...\n",
       "2           2   864613  [3598, 8444, 1000, 4702, 2028, 7745, 1436, 138...\n",
       "3           3  1016458  [4702, 8444, 1000, 11982, 14359, 3598, 2028, 3...\n",
       "4           4   884009  [8444, 4702, 2028, 11982, 341, 3598, 14359, 52..."
      ]
     },
     "execution_count": 56,
     "metadata": {},
     "output_type": "execute_result"
    }
   ],
   "source": [
    "recos = pd.read_csv(f\"{RESULTS_PATH}/dssm_preds.csv\")\n",
    "recos.head()"
   ]
  },
  {
   "cell_type": "code",
   "execution_count": 57,
   "metadata": {},
   "outputs": [],
   "source": [
    "recos.reco = recos.reco.apply(lambda x: x.replace(\" \", \"\")[1:-1].split(','))\n",
    "recos.reco = recos.reco.apply(lambda x: [int(value) for value in x])\n",
    "recos_dict = {key: value for key, value in zip(recos.index, recos.reco.to_numpy() )}"
   ]
  },
  {
   "cell_type": "code",
   "execution_count": 58,
   "metadata": {
    "id": "M5LryZxQ5wzh"
   },
   "outputs": [],
   "source": [
    "with open(f\"{RESULTS_PATH}/dssm_recs.dill\", \"wb\") as file:\n",
    "    pickle.dump(recos_dict, file)"
   ]
  },
  {
   "cell_type": "code",
   "execution_count": null,
   "metadata": {},
   "outputs": [],
   "source": []
  }
 ],
 "metadata": {
  "colab": {
   "provenance": []
  },
  "kernelspec": {
   "display_name": "Python 3 (ipykernel)",
   "language": "python",
   "name": "python3"
  },
  "language_info": {
   "codemirror_mode": {
    "name": "ipython",
    "version": 3
   },
   "file_extension": ".py",
   "mimetype": "text/x-python",
   "name": "python",
   "nbconvert_exporter": "python",
   "pygments_lexer": "ipython3",
   "version": "3.8.18"
  }
 },
 "nbformat": 4,
 "nbformat_minor": 4
}
